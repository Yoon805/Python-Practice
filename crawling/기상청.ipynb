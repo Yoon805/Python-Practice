{
 "cells": [
  {
   "cell_type": "code",
   "execution_count": 2,
   "id": "a14a4835-d049-47cd-aa3d-7eba70aa55b6",
   "metadata": {},
   "outputs": [],
   "source": [
    "### 기상청\n",
    "### 항공기상전문 IWXXM Ver 2.0\n",
    "\n",
    "### json 데이터 엉망임\n",
    "### xml로 긁어오자\n",
    "\n",
    "### xml도 정리가 잘 안되어 있음..\n",
    "### items,item으로 구분을 안해놓음 ㅋㅋㅋㅋㅋㅋㅋㅋㅋㅋㅋㅋ\n",
    "\n",
    "import requests\n",
    "from lxml import html\n",
    "from bs4 import BeautifulSoup\n",
    "import pandas as pd"
   ]
  },
  {
   "cell_type": "code",
   "execution_count": 19,
   "id": "b066ef55-9933-42f0-8f67-257e8a693c03",
   "metadata": {},
   "outputs": [],
   "source": [
    "url1 = \"http://apis.data.go.kr/1360000/AmmIwxxmService/getMetar?\"\n",
    "queryParams1 = \"serviceKey=GJjpqYxiJQTyHZDeJ5gyrFOlxRdSpZZ4NVCk19ID1Atavb0r9vArFS8tvyvKrP5/Z3HbZrUPAx4pG/YBLuvTqA==&icao=RKSI\"\n",
    "\n",
    "targetUrl1 = url1 + queryParams1\n",
    "\n",
    "response = requests.get(targetUrl1)\n",
    "response.encoding = 'utf-8'"
   ]
  },
  {
   "cell_type": "code",
   "execution_count": 14,
   "id": "5225add3-6e44-4c59-bc34-45d86742132d",
   "metadata": {},
   "outputs": [
    {
     "data": {
      "text/plain": [
       "<Response [200]>"
      ]
     },
     "execution_count": 14,
     "metadata": {},
     "output_type": "execute_result"
    }
   ],
   "source": [
    "response"
   ]
  },
  {
   "cell_type": "code",
   "execution_count": 20,
   "id": "24051082-26e4-45ff-8174-986c866188a5",
   "metadata": {
    "collapsed": true,
    "jupyter": {
     "outputs_hidden": true
    },
    "tags": []
   },
   "outputs": [
    {
     "data": {
      "text/plain": [
       "<item><icaoCode/><airportName/><metarMsg><iwxxm:METAR automatedStation=\"false\" gml:id=\"metar-RKSI-20220413080000Z\" permissibleUsage=\"OPERATIONAL\" status=\"NORMAL\" xmlns:aixm=\"http://www.aixm.aero/schema/5.1.1\" xmlns:gml=\"http://www.opengis.net/gml/3.2\" xmlns:iwxxm=\"http://icao.int/iwxxm/2.0\" xmlns:metce=\"http://def.wmo.int/metce/2013\" xmlns:om=\"http://www.opengis.net/om/2.0\" xmlns:sams=\"http://www.opengis.net/samplingSpatial/2.0\" xmlns:sf=\"http://www.opengis.net/sampling/2.0\" xmlns:xlink=\"http://www.w3.org/1999/xlink\" xmlns:xsi=\"http://www.w3.org/2001/XMLSchema-instance\" xsi:schemaLocation=\"http://icao.int/iwxxm/2.0 http://schemas.wmo.int/iwxxm/2.0/iwxxm.xsd http://def.wmo.int/metce/2013 http://schemas.wmo.int/metce/1.2/metce.xsd http://www.opengis.net/samplingSpatial/2.0 http://schemas.opengis.net/samplingSpatial/2.0/spatialSamplingFeature.xsd\">\n",
       "<iwxxm:extension>\n",
       "<msgText>METAR RKSI 130800Z 09011KT 060V120 9999 BKN030 OVC100 13/04&amp;#13;\n",
       "          Q1014 NOSIG=</msgText>\n",
       "</iwxxm:extension>\n",
       "<iwxxm:observation>\n",
       "<om:OM_Observation gml:id=\"obs-RKSI-20220413080000Z\">\n",
       "<om:type xlink:href=\"http://codes.wmo.int/49-2/observation-type/IWXXM/1.0/MeteorologicalAerodromeObservation\"/>\n",
       "<om:phenomenonTime>\n",
       "<gml:TimeInstant gml:id=\"ti-20220413080000Z\">\n",
       "<gml:timePosition>2022-04-13T08:00:00Z</gml:timePosition>\n",
       "</gml:TimeInstant>\n",
       "</om:phenomenonTime>\n",
       "<om:resultTime xlink:href=\"#ti-20220413080000Z\"/>\n",
       "<om:procedure>\n",
       "<metce:Process gml:id=\"p-49-2-metar\">\n",
       "<gml:description>WMO No. 49 Volume 2 Meteorological Service for International Air Navigation APPENDIX 3 TECHNICAL SPECIFICATIONS RELATED TO METEOROLOGICAL OBSERVATIONS AND REPORTS</gml:description>\n",
       "</metce:Process>\n",
       "</om:procedure>\n",
       "<om:observedProperty xlink:href=\"http://codes.wmo.int/49-2/observable-property/MeteorologicalAerodromeObservation\"/>\n",
       "<om:featureOfInterest>\n",
       "<sams:SF_SpatialSamplingFeature gml:id=\"sp-RKSI\">\n",
       "<sf:type xlink:href=\"http://www.opengis.net/def/samplingFeatureType/OGC-OM/2.0/SF_SamplingPoint\"/>\n",
       "<sf:sampledFeature>\n",
       "<aixm:AirportHeliport gml:id=\"aerodrome-RKSI\">\n",
       "<aixm:timeSlice>\n",
       "<aixm:AirportHeliportTimeSlice gml:id=\"aerodrome-RKSI-ts\">\n",
       "<gml:validTime/>\n",
       "<aixm:interpretation>BASELINE</aixm:interpretation>\n",
       "<aixm:designator>RKSI</aixm:designator>\n",
       "<aixm:name>INCHEON INTERNATIONAL AIRPORT</aixm:name>\n",
       "<aixm:locationIndicatorICAO>RKSI</aixm:locationIndicatorICAO>\n",
       "</aixm:AirportHeliportTimeSlice>\n",
       "</aixm:timeSlice>\n",
       "</aixm:AirportHeliport>\n",
       "</sf:sampledFeature>\n",
       "<sams:shape>\n",
       "<gml:Point axisLabels=\"Latitude Longitude Altitude\" gml:id=\"obs-point-RKSI\" srsName=\"http://www.opengis.net/def/crs/EPSG/0/4979\" uomLabels=\"deg deg m\">\n",
       "<gml:pos>37.28 126.26 7.0</gml:pos>\n",
       "</gml:Point>\n",
       "</sams:shape>\n",
       "</sams:SF_SpatialSamplingFeature>\n",
       "</om:featureOfInterest>\n",
       "<om:result>\n",
       "<iwxxm:MeteorologicalAerodromeObservationRecord cloudAndVisibilityOK=\"false\" gml:id=\"observation-record-RKSI-20220413080000Z\">\n",
       "<iwxxm:airTemperature uom=\"Cel\">13</iwxxm:airTemperature>\n",
       "<iwxxm:dewpointTemperature uom=\"Cel\">4</iwxxm:dewpointTemperature>\n",
       "<iwxxm:qnh uom=\"hPa\">1014</iwxxm:qnh>\n",
       "<iwxxm:surfaceWind>\n",
       "<iwxxm:AerodromeSurfaceWind variableWindDirection=\"false\">\n",
       "<iwxxm:meanWindDirection uom=\"deg\">90</iwxxm:meanWindDirection>\n",
       "<iwxxm:meanWindSpeed uom=\"[kn_i]\">011</iwxxm:meanWindSpeed>\n",
       "<iwxxm:extremeClockwiseWindDirection uom=\"deg\">120</iwxxm:extremeClockwiseWindDirection>\n",
       "<iwxxm:extremeCounterClockwiseWindDirection uom=\"deg\">060</iwxxm:extremeCounterClockwiseWindDirection>\n",
       "</iwxxm:AerodromeSurfaceWind>\n",
       "</iwxxm:surfaceWind>\n",
       "<iwxxm:visibility>\n",
       "<iwxxm:AerodromeHorizontalVisibility>\n",
       "<iwxxm:prevailingVisibility uom=\"m\">10000</iwxxm:prevailingVisibility>\n",
       "</iwxxm:AerodromeHorizontalVisibility>\n",
       "</iwxxm:visibility>\n",
       "<iwxxm:cloud>\n",
       "<iwxxm:AerodromeObservedClouds>\n",
       "<iwxxm:layer>\n",
       "<iwxxm:CloudLayer>\n",
       "<iwxxm:amount xlink:href=\"http://codes.wmo.int/bufr4/codeflag/0-20-008/3\"/>\n",
       "<iwxxm:base uom=\"[ft_i]\">3000</iwxxm:base>\n",
       "<iwxxm:cloudType xlink:href=\"http://codes.wmo.int/bufr4/codeflag/0-20-012/6\" xlink:title=\"Stratocumulus\"/>\n",
       "</iwxxm:CloudLayer>\n",
       "</iwxxm:layer>\n",
       "<iwxxm:layer>\n",
       "<iwxxm:CloudLayer>\n",
       "<iwxxm:amount xlink:href=\"http://codes.wmo.int/bufr4/codeflag/0-20-008/4\"/>\n",
       "<iwxxm:base uom=\"[ft_i]\">10000</iwxxm:base>\n",
       "<iwxxm:cloudType xlink:href=\"http://codes.wmo.int/bufr4/codeflag/0-20-012/4\" xlink:title=\"Altostratus\"/>\n",
       "</iwxxm:CloudLayer>\n",
       "</iwxxm:layer>\n",
       "</iwxxm:AerodromeObservedClouds>\n",
       "</iwxxm:cloud>\n",
       "</iwxxm:MeteorologicalAerodromeObservationRecord>\n",
       "</om:result>\n",
       "</om:OM_Observation>\n",
       "</iwxxm:observation>\n",
       "<iwxxm:trendForecast>\n",
       "<om:OM_Observation gml:id=\"trend-fcst-1\">\n",
       "<om:type xlink:href=\"http://codes.wmo.int/49-2/observation-type/IWXXM/1.0/MeteorologicalAerodromeTrendForecast\"/>\n",
       "<om:phenomenonTime xlink:href=\"#ti-20220413080000Z\"/>\n",
       "<om:resultTime xlink:href=\"#ti-20220413080000Z\"/>\n",
       "<om:procedure xlink:href=\"#p-49-2-metar\"/>\n",
       "<om:observedProperty xlink:href=\"http://codes.wmo.int/49-2/observable-property/MeteorologicalAerodromeTrendForecast\"/>\n",
       "<om:featureOfInterest xlink:href=\"#sp-RKSI\"/>\n",
       "<om:result>\n",
       "<iwxxm:MeteorologicalAerodromeTrendForecastRecord changeIndicator=\"NO_SIGNIFICANT_CHANGES\" cloudAndVisibilityOK=\"false\" gml:id=\"trend-fcst-record-1-20220413080000Z\"/>\n",
       "</om:result>\n",
       "</om:OM_Observation>\n",
       "</iwxxm:trendForecast>\n",
       "</iwxxm:METAR>\n",
       "</metarMsg></item>"
      ]
     },
     "execution_count": 20,
     "metadata": {},
     "output_type": "execute_result"
    }
   ],
   "source": [
    "### lxml-xml 으로 변환\n",
    "xmlobj = BeautifulSoup(response.text,\"lxml-xml\")\n",
    "itemTag = xmlobj.find(name = \"items\")\n",
    "\n",
    "itemsTag = itemTag.find(name = \"item\")\n",
    "itemsTag"
   ]
  },
  {
   "cell_type": "code",
   "execution_count": null,
   "id": "5c19cb24-d63b-4426-a5b4-99d162e0b45d",
   "metadata": {},
   "outputs": [],
   "source": [
    "for i in range(0,itemsTag.length):\n",
    "    timeTags = itemsTag[i].findAll()"
   ]
  },
  {
   "cell_type": "code",
   "execution_count": null,
   "id": "89677faf-e04b-4079-8eaf-de84c5a4417f",
   "metadata": {},
   "outputs": [],
   "source": []
  },
  {
   "cell_type": "code",
   "execution_count": null,
   "id": "8b6cb9ad-73b0-4629-9961-c823288bd8b4",
   "metadata": {},
   "outputs": [],
   "source": []
  },
  {
   "cell_type": "code",
   "execution_count": null,
   "id": "d4da3103-89ea-4714-bde4-33f55481dae9",
   "metadata": {},
   "outputs": [],
   "source": []
  },
  {
   "cell_type": "code",
   "execution_count": null,
   "id": "7637541b-c8c8-4a3d-8e0e-e222301bdc57",
   "metadata": {},
   "outputs": [],
   "source": []
  },
  {
   "cell_type": "code",
   "execution_count": 24,
   "id": "3996c39f-1bcc-419a-8c08-4a52f2a3977b",
   "metadata": {},
   "outputs": [],
   "source": [
    "### 기상청 국내 공항 이륙예보 조회서비스 \n",
    "import requests \n",
    "from lxml import html \n",
    "from bs4 import BeautifulSoup  \n",
    "import pandas as pd \n",
    "from urllib.request import Request, urlopen \n",
    "from urllib.parse import urlencode, quote_plus, unquote "
   ]
  },
  {
   "cell_type": "code",
   "execution_count": 35,
   "id": "f8eccbd0-02da-4ea1-bad1-8ee446467db1",
   "metadata": {},
   "outputs": [
    {
     "data": {
      "text/plain": [
       "['GWANGJU',\n",
       " 'MUAN',\n",
       " 'INCHEON',\n",
       " 'YANGYANG',\n",
       " 'JEJU',\n",
       " 'GIMHAE',\n",
       " 'CHEONGJU',\n",
       " 'ULSAN',\n",
       " 'YEOSU',\n",
       " 'GIMPO',\n",
       " 'POHANG',\n",
       " 'DAEGU',\n",
       " 'SACHEON']"
      ]
     },
     "execution_count": 35,
     "metadata": {},
     "output_type": "execute_result"
    }
   ],
   "source": [
    "### ICAO 이름 리스트 만들기\n",
    "icaoData = pd.read_csv(\"C:/Users/PC00/Desktop/DATA 수집/기상청_국내 공항 이륙예보 조회서비스/ICAO.csv\") \n",
    "\n",
    "icaoList = icaoData.AIRPORT.tolist()\n",
    "icaoList"
   ]
  },
  {
   "cell_type": "code",
   "execution_count": 25,
   "id": "c2bfdf28-7ee6-439e-ab7c-76d743d72341",
   "metadata": {},
   "outputs": [],
   "source": [
    "### ICAO 코드 리스트 만들기\n",
    "icaoData = pd.read_csv(\"C:/Users/PC00/Desktop/DATA 수집/기상청_국내 공항 이륙예보 조회서비스/ICAO.csv\") \n",
    "\n",
    "icaoList = icaoData.ICAO.tolist()"
   ]
  },
  {
   "cell_type": "code",
   "execution_count": 28,
   "id": "9fa76e20-20cb-4dee-9ad1-d11c9a19de0f",
   "metadata": {
    "tags": []
   },
   "outputs": [
    {
     "name": "stderr",
     "output_type": "stream",
     "text": [
      "C:\\Users\\PC00\\Anaconda3\\lib\\site-packages\\urllib3\\connectionpool.py:1013: InsecureRequestWarning: Unverified HTTPS request is being made to host 'apis.data.go.kr'. Adding certificate verification is strongly advised. See: https://urllib3.readthedocs.io/en/1.26.x/advanced-usage.html#ssl-warnings\n",
      "  warnings.warn(\n"
     ]
    }
   ],
   "source": [
    "# for i in range (0,len(icaoList)):\n",
    "baseUrl = \"https://apis.data.go.kr/1360000/AirInfoService/getAirInfo\" \n",
    "inApiKey=\"GJjpqYxiJQTyHZDeJ5gyrFOlxRdSpZZ4NVCk19ID1Atavb0r9vArFS8tvyvKrP5/Z3HbZrUPAx4pG/YBLuvTqA==\" \n",
    "dateNtime = \"202204110000\" \n",
    "icaoCode = icaoList[1]\n",
    "queryParams = '?' + urlencode( \n",
    "    { \n",
    "        quote_plus('icaoCode'): icaoCode, \n",
    "        quote_plus('fctm'): dateNtime, \n",
    "        quote_plus('serviceKey') : inApiKey \n",
    "     } \n",
    ")\n",
    "\n",
    "try:\n",
    "    response2 = requests.get(baseUrl+queryParams,timeout=30,verify=False)\n",
    "except requests.ConnectionError as e:\n",
    "    print(\"OOPS!! Connection Error. Make sure you are connected to Internet. Technical Details given below.\\n\")\n",
    "    print(str(e))            \n",
    "    renewIPadress()\n",
    "    # continue\n",
    "except requests.Timeout as e:\n",
    "    print(\"OOPS!! Timeout Error\")\n",
    "    print(str(e))\n",
    "    renewIPadress()\n",
    "    # continue\n",
    "except requests.RequestException as e:\n",
    "    print(\"OOPS!! General Error\")\n",
    "    print(str(e))\n",
    "    renewIPadress()\n",
    "    # continue\n",
    "except KeyboardInterrupt:\n",
    "    print(\"Someone closed the program\")\n",
    "\n",
    "\n",
    "response2.encoding = 'utf-8'"
   ]
  },
  {
   "cell_type": "code",
   "execution_count": 29,
   "id": "735cf376-2bf8-4397-b85a-5ea15485819b",
   "metadata": {},
   "outputs": [],
   "source": [
    "itemTag2 = []\n",
    "tmFcTags =[]\n",
    "wdTags = []\n",
    "wsTags = []\n",
    "taTags = []\n",
    "qnhTags = []\n",
    "nameColumns = []"
   ]
  },
  {
   "cell_type": "code",
   "execution_count": 30,
   "id": "613c0760-1095-4b68-9091-f6c9475d206a",
   "metadata": {},
   "outputs": [],
   "source": [
    "### lxml-xml 으로 변환\n",
    "xmlobj2 = BeautifulSoup(response2.text,\"lxml-xml\")\n",
    "itemTag2 = xmlobj2.find(name = \"items\")\n",
    "\n",
    "itemsTag2 = itemTag2.findAll(name = \"item\")"
   ]
  },
  {
   "cell_type": "code",
   "execution_count": 31,
   "id": "9090b82a-ded0-4532-9477-6c4fc9c6a32a",
   "metadata": {},
   "outputs": [],
   "source": [
    "for i in range (0,len(itemsTag2)):\n",
    "    tmFcTags.append(itemsTag2[i].find(name=\"tmFc\").text)\n",
    "    wdTags.append(itemsTag2[i].find(name=\"wd\").text)\n",
    "    wsTags.append(itemsTag2[i].find(name=\"ws\").text)\n",
    "    taTags.append(itemsTag2[i].find(name=\"ta\").text)\n",
    "    qnhTags.append(itemsTag2[i].find(name=\"qnh\").text)\n"
   ]
  },
  {
   "cell_type": "code",
   "execution_count": 32,
   "id": "07b2e4f8-2743-40e4-9745-923cb2040afc",
   "metadata": {},
   "outputs": [],
   "source": [
    "nameColumns.append(itemsTag2[1].find(name=\"tmFc\").name)\n",
    "nameColumns.append(itemsTag2[1].find(name=\"wd\").name)\n",
    "nameColumns.append(itemsTag2[1].find(name=\"ws\").name)\n",
    "nameColumns.append(itemsTag2[1].find(name=\"ta\").name)\n",
    "nameColumns.append(itemsTag2[1].find(name=\"qnh\").name)\n"
   ]
  },
  {
   "cell_type": "code",
   "execution_count": 33,
   "id": "b16a3231-ea3e-41ad-80d2-85aedae1b79d",
   "metadata": {},
   "outputs": [],
   "source": [
    "AirportWeaher1=pd.DataFrame(zip(tmFcTags,wdTags,wsTags,taTags,qnhTags),columns=nameColumns)"
   ]
  },
  {
   "cell_type": "code",
   "execution_count": 34,
   "id": "c3a81cd9-171b-44dd-bf82-be98d78efe21",
   "metadata": {},
   "outputs": [
    {
     "data": {
      "text/html": [
       "<div>\n",
       "<style scoped>\n",
       "    .dataframe tbody tr th:only-of-type {\n",
       "        vertical-align: middle;\n",
       "    }\n",
       "\n",
       "    .dataframe tbody tr th {\n",
       "        vertical-align: top;\n",
       "    }\n",
       "\n",
       "    .dataframe thead th {\n",
       "        text-align: right;\n",
       "    }\n",
       "</style>\n",
       "<table border=\"1\" class=\"dataframe\">\n",
       "  <thead>\n",
       "    <tr style=\"text-align: right;\">\n",
       "      <th></th>\n",
       "      <th>tmFc</th>\n",
       "      <th>wd</th>\n",
       "      <th>ws</th>\n",
       "      <th>ta</th>\n",
       "      <th>qnh</th>\n",
       "    </tr>\n",
       "  </thead>\n",
       "  <tbody>\n",
       "    <tr>\n",
       "      <th>0</th>\n",
       "      <td>202204110000</td>\n",
       "      <td>120</td>\n",
       "      <td>6</td>\n",
       "      <td>18</td>\n",
       "      <td>2997</td>\n",
       "    </tr>\n",
       "    <tr>\n",
       "      <th>1</th>\n",
       "      <td>202204110100</td>\n",
       "      <td>160</td>\n",
       "      <td>6</td>\n",
       "      <td>19</td>\n",
       "      <td>2995</td>\n",
       "    </tr>\n",
       "    <tr>\n",
       "      <th>2</th>\n",
       "      <td>202204110200</td>\n",
       "      <td>160</td>\n",
       "      <td>6</td>\n",
       "      <td>21</td>\n",
       "      <td>2995</td>\n",
       "    </tr>\n",
       "    <tr>\n",
       "      <th>3</th>\n",
       "      <td>202204110300</td>\n",
       "      <td>170</td>\n",
       "      <td>6</td>\n",
       "      <td>23</td>\n",
       "      <td>2993</td>\n",
       "    </tr>\n",
       "  </tbody>\n",
       "</table>\n",
       "</div>"
      ],
      "text/plain": [
       "           tmFc   wd ws  ta   qnh\n",
       "0  202204110000  120  6  18  2997\n",
       "1  202204110100  160  6  19  2995\n",
       "2  202204110200  160  6  21  2995\n",
       "3  202204110300  170  6  23  2993"
      ]
     },
     "execution_count": 34,
     "metadata": {},
     "output_type": "execute_result"
    }
   ],
   "source": [
    "AirportWeaher1\n"
   ]
  },
  {
   "cell_type": "code",
   "execution_count": 11,
   "id": "0652cfe9-4b72-435f-b64e-402bf6392482",
   "metadata": {},
   "outputs": [],
   "source": [
    "# csv 파일로 저장하기\n",
    "AirportWeaher1.to_csv(\"./국내공항이륙예보.csv\")"
   ]
  },
  {
   "cell_type": "code",
   "execution_count": 39,
   "id": "334a6c3c-55a2-411f-8fc1-3734d4c78787",
   "metadata": {},
   "outputs": [],
   "source": [
    "# 시트이름 지정하여 저장하기 (시트 1개 사용)\n",
    "AirportWeaher1.to_excel('./국내공항이륙예보.xlsx', sheet_name = icaoList[1])"
   ]
  },
  {
   "cell_type": "code",
   "execution_count": null,
   "id": "faf44c61-ad64-4105-bd91-855ccee7b189",
   "metadata": {},
   "outputs": [],
   "source": []
  }
 ],
 "metadata": {
  "kernelspec": {
   "display_name": "Python 3 (ipykernel)",
   "language": "python",
   "name": "python3"
  },
  "language_info": {
   "codemirror_mode": {
    "name": "ipython",
    "version": 3
   },
   "file_extension": ".py",
   "mimetype": "text/x-python",
   "name": "python",
   "nbconvert_exporter": "python",
   "pygments_lexer": "ipython3",
   "version": "3.9.7"
  }
 },
 "nbformat": 4,
 "nbformat_minor": 5
}

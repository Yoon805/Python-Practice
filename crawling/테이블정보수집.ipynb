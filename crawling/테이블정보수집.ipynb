{
 "cells": [
  {
   "cell_type": "code",
   "execution_count": 1,
   "id": "a6c3e878-c7f2-47ca-ba06-d81d6261b857",
   "metadata": {},
   "outputs": [],
   "source": [
    "import pandas as pd"
   ]
  },
  {
   "cell_type": "code",
   "execution_count": 2,
   "id": "9ee17f08-d410-45c9-a5aa-1ff5f83f46e5",
   "metadata": {},
   "outputs": [],
   "source": [
    "cList1 = [\"서울강서\", \"서울정수\",\"분당\"]\n",
    "cList2 = [\"값1\",\"값2\",\"값3\"]"
   ]
  },
  {
   "cell_type": "code",
   "execution_count": 4,
   "id": "374b9d78-b17f-4001-b947-d7cd2468864b",
   "metadata": {},
   "outputs": [
    {
     "data": {
      "text/html": [
       "<div>\n",
       "<style scoped>\n",
       "    .dataframe tbody tr th:only-of-type {\n",
       "        vertical-align: middle;\n",
       "    }\n",
       "\n",
       "    .dataframe tbody tr th {\n",
       "        vertical-align: top;\n",
       "    }\n",
       "\n",
       "    .dataframe thead th {\n",
       "        text-align: right;\n",
       "    }\n",
       "</style>\n",
       "<table border=\"1\" class=\"dataframe\">\n",
       "  <thead>\n",
       "    <tr style=\"text-align: right;\">\n",
       "      <th></th>\n",
       "      <th>대상캠퍼스</th>\n",
       "      <th>대상값</th>\n",
       "    </tr>\n",
       "  </thead>\n",
       "  <tbody>\n",
       "    <tr>\n",
       "      <th>0</th>\n",
       "      <td>서울강서</td>\n",
       "      <td>값1</td>\n",
       "    </tr>\n",
       "    <tr>\n",
       "      <th>1</th>\n",
       "      <td>서울정수</td>\n",
       "      <td>값2</td>\n",
       "    </tr>\n",
       "    <tr>\n",
       "      <th>2</th>\n",
       "      <td>분당</td>\n",
       "      <td>값3</td>\n",
       "    </tr>\n",
       "  </tbody>\n",
       "</table>\n",
       "</div>"
      ],
      "text/plain": [
       "  대상캠퍼스 대상값\n",
       "0  서울강서  값1\n",
       "1  서울정수  값2\n",
       "2    분당  값3"
      ]
     },
     "execution_count": 4,
     "metadata": {},
     "output_type": "execute_result"
    }
   ],
   "source": [
    "listDf = pd.DataFrame(zip(cList1,cList2),\n",
    "                      columns = [\"대상캠퍼스\",\"대상값\"])\n",
    "listDf"
   ]
  },
  {
   "cell_type": "code",
   "execution_count": 5,
   "id": "95420bd2-5f02-47a8-8750-40c105ef9b3d",
   "metadata": {},
   "outputs": [],
   "source": [
    "rowList1 = [\"서울강서\",\"값1\"]\n",
    "rowList2 = [\"서울정수\",\"값2\"]\n",
    "rowList3 = [\"분당\",\"값3\"]"
   ]
  },
  {
   "cell_type": "code",
   "execution_count": 7,
   "id": "2a939d73-0ab7-4568-9dd8-59abf775657c",
   "metadata": {},
   "outputs": [],
   "source": [
    "pdList = []"
   ]
  },
  {
   "cell_type": "code",
   "execution_count": 8,
   "id": "73de9203-56a1-465a-9ef5-1e29b7607318",
   "metadata": {},
   "outputs": [],
   "source": [
    "pdList.append(rowList1)\n",
    "pdList.append(rowList2)\n",
    "pdList.append(rowList3)"
   ]
  },
  {
   "cell_type": "code",
   "execution_count": 9,
   "id": "b7a2cb48-2730-4b40-bf24-1e00053fef20",
   "metadata": {},
   "outputs": [
    {
     "data": {
      "text/plain": [
       "[['서울강서', '값1'], ['서울정수', '값2'], ['분당', '값3']]"
      ]
     },
     "execution_count": 9,
     "metadata": {},
     "output_type": "execute_result"
    }
   ],
   "source": [
    "pdList"
   ]
  },
  {
   "cell_type": "code",
   "execution_count": 10,
   "id": "03376675-4dc6-49ce-b6c1-0816b498d677",
   "metadata": {},
   "outputs": [
    {
     "data": {
      "text/html": [
       "<div>\n",
       "<style scoped>\n",
       "    .dataframe tbody tr th:only-of-type {\n",
       "        vertical-align: middle;\n",
       "    }\n",
       "\n",
       "    .dataframe tbody tr th {\n",
       "        vertical-align: top;\n",
       "    }\n",
       "\n",
       "    .dataframe thead th {\n",
       "        text-align: right;\n",
       "    }\n",
       "</style>\n",
       "<table border=\"1\" class=\"dataframe\">\n",
       "  <thead>\n",
       "    <tr style=\"text-align: right;\">\n",
       "      <th></th>\n",
       "      <th>0</th>\n",
       "      <th>1</th>\n",
       "    </tr>\n",
       "  </thead>\n",
       "  <tbody>\n",
       "    <tr>\n",
       "      <th>0</th>\n",
       "      <td>서울강서</td>\n",
       "      <td>값1</td>\n",
       "    </tr>\n",
       "    <tr>\n",
       "      <th>1</th>\n",
       "      <td>서울정수</td>\n",
       "      <td>값2</td>\n",
       "    </tr>\n",
       "    <tr>\n",
       "      <th>2</th>\n",
       "      <td>분당</td>\n",
       "      <td>값3</td>\n",
       "    </tr>\n",
       "  </tbody>\n",
       "</table>\n",
       "</div>"
      ],
      "text/plain": [
       "      0   1\n",
       "0  서울강서  값1\n",
       "1  서울정수  값2\n",
       "2    분당  값3"
      ]
     },
     "execution_count": 10,
     "metadata": {},
     "output_type": "execute_result"
    }
   ],
   "source": [
    "pd.DataFrame (pdList)"
   ]
  },
  {
   "cell_type": "markdown",
   "id": "999d01f2-3d40-49e5-a621-a6751e0b543e",
   "metadata": {},
   "source": [
    "## 테이블 정보 수집하기"
   ]
  },
  {
   "cell_type": "code",
   "execution_count": 28,
   "id": "6542a89e-96c3-4b25-8bf9-f9772b0d99c4",
   "metadata": {
    "collapsed": true,
    "jupyter": {
     "outputs_hidden": true
    },
    "tags": []
   },
   "outputs": [
    {
     "data": {
      "text/plain": [
       "[<tr>\n",
       " <th>Left</th>\n",
       " <th>Center</th>\n",
       " <th>Right\n",
       " </th></tr>,\n",
       " <tr>\n",
       " <td>Top left cell</td>\n",
       " <td>Top center cell</td>\n",
       " <td>Top right cell\n",
       " </td></tr>,\n",
       " <tr style=\"height:7em\">\n",
       " <td>Middle left cell</td>\n",
       " <td>Middle center cell</td>\n",
       " <td>Middle right cell\n",
       " </td></tr>,\n",
       " <tr>\n",
       " <td>Bottom left cell</td>\n",
       " <td>Bottom center cell</td>\n",
       " <td>Bottom right cell\n",
       " </td></tr>]"
      ]
     },
     "execution_count": 28,
     "metadata": {},
     "output_type": "execute_result"
    }
   ],
   "source": [
    "import pandas as pd\n",
    "import requests\n",
    "import bs4\n",
    "\n",
    "targetUrl=\"https://en.wikipedia.org/wiki/Help:Table\"\n",
    "resp = requests.get(targetUrl)\n",
    "resp.encoding='utf-8'\n",
    "\n",
    "html = resp.text\n",
    "\n",
    "bs = bs4.BeautifulSoup(html,'html.parser')\n",
    "\n",
    "tabletag = bs.find(\"table\",{\"class\":\"wikitable\",\"style\":\"height:14em\"})\n",
    "\n",
    "### 전략!!\n",
    "columnList = []\n",
    "rowList = []\n",
    "nameList = []\n",
    "\n",
    "# rows = tabletag.find(\"tbody\").findAll(\"tr\")\n",
    "rows = tabletag.findAll(\"tr\")\n",
    "rows"
   ]
  },
  {
   "cell_type": "code",
   "execution_count": 29,
   "id": "6f2df234-c0a6-4bf0-baf4-e4f19929b85e",
   "metadata": {},
   "outputs": [
    {
     "name": "stdout",
     "output_type": "stream",
     "text": [
      "Left\n",
      "Center\n",
      "Right\n"
     ]
    }
   ],
   "source": [
    "for j in range(0, len(rows)):\n",
    "    ### for 1개의 row를 잡고 로직을 펼친다.\n",
    "    columns = rows[j].findAll(name=[\"td\",\"th\"])\n",
    "    columnLen = len(columns)\n",
    "    \n",
    "    ### for 1개의 컬럼값을 잡고 로직을 펼친다.\n",
    "    for i in range(0, columnLen):\n",
    "        ### 만약에 컬럼내 태그가th면 nameList에 append하고 디음 for문으로 진입\n",
    "        if columns[i].name == \"th\":\n",
    "            columnValue = columns[i].text.replace(\"\\n\",\"\")\n",
    "            print(columnValue)\n",
    "            nameList.append(columnValue)\n",
    "            continue\n",
    "        # 만약에 컬럼내 태그가 th가 아니라면 columnList에 append 수행\n",
    "        else:\n",
    "            columnValue = columns[i].text.replace(\"\\n\",\"\")\n",
    "            columnList.append(columnValue)\n",
    "    \n",
    "    rowList.append(columnList)\n",
    "    columnList = []"
   ]
  },
  {
   "cell_type": "code",
   "execution_count": 26,
   "id": "967bb68b-ba00-4186-83f6-7ca1c541cfe8",
   "metadata": {},
   "outputs": [
    {
     "data": {
      "text/html": [
       "<div>\n",
       "<style scoped>\n",
       "    .dataframe tbody tr th:only-of-type {\n",
       "        vertical-align: middle;\n",
       "    }\n",
       "\n",
       "    .dataframe tbody tr th {\n",
       "        vertical-align: top;\n",
       "    }\n",
       "\n",
       "    .dataframe thead th {\n",
       "        text-align: right;\n",
       "    }\n",
       "</style>\n",
       "<table border=\"1\" class=\"dataframe\">\n",
       "  <thead>\n",
       "    <tr style=\"text-align: right;\">\n",
       "      <th></th>\n",
       "      <th>Left</th>\n",
       "      <th>Center</th>\n",
       "      <th>Right</th>\n",
       "    </tr>\n",
       "  </thead>\n",
       "  <tbody>\n",
       "    <tr>\n",
       "      <th>0</th>\n",
       "      <td>None</td>\n",
       "      <td>None</td>\n",
       "      <td>None</td>\n",
       "    </tr>\n",
       "    <tr>\n",
       "      <th>1</th>\n",
       "      <td>Top left cell</td>\n",
       "      <td>Top center cell</td>\n",
       "      <td>Top right cell</td>\n",
       "    </tr>\n",
       "    <tr>\n",
       "      <th>2</th>\n",
       "      <td>Middle left cell</td>\n",
       "      <td>Middle center cell</td>\n",
       "      <td>Middle right cell</td>\n",
       "    </tr>\n",
       "    <tr>\n",
       "      <th>3</th>\n",
       "      <td>Bottom left cell</td>\n",
       "      <td>Bottom center cell</td>\n",
       "      <td>Bottom right cell</td>\n",
       "    </tr>\n",
       "  </tbody>\n",
       "</table>\n",
       "</div>"
      ],
      "text/plain": [
       "               Left              Center              Right\n",
       "0              None                None               None\n",
       "1     Top left cell     Top center cell     Top right cell\n",
       "2  Middle left cell  Middle center cell  Middle right cell\n",
       "3  Bottom left cell  Bottom center cell  Bottom right cell"
      ]
     },
     "execution_count": 26,
     "metadata": {},
     "output_type": "execute_result"
    }
   ],
   "source": [
    "pd.DataFrame(rowList, columns = nameList)"
   ]
  },
  {
   "cell_type": "markdown",
   "id": "30edf9e4-3705-43a4-b02d-5fc49c0765aa",
   "metadata": {},
   "source": [
    "### 디버깅"
   ]
  },
  {
   "cell_type": "code",
   "execution_count": 17,
   "id": "30ee2ea3-814e-4618-a4f6-228813a011b8",
   "metadata": {},
   "outputs": [],
   "source": [
    "import pandas as pd\n",
    "import requests\n",
    "import bs4\n",
    "\n",
    "targetUrl=\"https://en.wikipedia.org/wiki/Help:Table\"\n",
    "resp = requests.get(targetUrl)\n",
    "resp.encoding='utf-8'\n",
    "\n",
    "html = resp.text\n",
    "\n",
    "bs = bs4.BeautifulSoup(html,'html.parser')\n",
    "\n",
    "tabletag = bs.find(\"table\",{\"class\":\"wikitable\",\"style\":\"height:14em\"})\n",
    "\n",
    "### 전략!!\n",
    "columnList = []\n",
    "rowList = []\n",
    "nameList = []\n",
    "\n",
    "# rows = tabletag.find(\"tbody\").findAll(\"tr\")\n",
    "rows = tabletag.findAll(\"tr\")"
   ]
  },
  {
   "cell_type": "code",
   "execution_count": 18,
   "id": "d1678689-4b5f-4d7b-826c-bb627b664e8c",
   "metadata": {},
   "outputs": [
    {
     "data": {
      "text/plain": [
       "[<tr>\n",
       " <th>Left</th>\n",
       " <th>Center</th>\n",
       " <th>Right\n",
       " </th></tr>,\n",
       " <tr>\n",
       " <td>Top left cell</td>\n",
       " <td>Top center cell</td>\n",
       " <td>Top right cell\n",
       " </td></tr>,\n",
       " <tr style=\"height:7em\">\n",
       " <td>Middle left cell</td>\n",
       " <td>Middle center cell</td>\n",
       " <td>Middle right cell\n",
       " </td></tr>,\n",
       " <tr>\n",
       " <td>Bottom left cell</td>\n",
       " <td>Bottom center cell</td>\n",
       " <td>Bottom right cell\n",
       " </td></tr>]"
      ]
     },
     "execution_count": 18,
     "metadata": {},
     "output_type": "execute_result"
    }
   ],
   "source": [
    "rows"
   ]
  },
  {
   "cell_type": "code",
   "execution_count": 19,
   "id": "18beaf96-ef07-4565-82eb-86dfd55da44b",
   "metadata": {},
   "outputs": [],
   "source": [
    "for j in range(0, len(rows)):\n",
    "    ### for 1개의 row를 잡고 로직을 펼친다.\n",
    "    columns = rows[j].findAll(name=[\"td\",\"th\"])\n",
    "    columnLen = len(columns)\n",
    "    \n",
    "    ### for 1개의 컬럼값을 잡고 로직을 펼친다.\n",
    "    for i in range(0, columnLen):\n",
    "        ### 만약에 컬럼내 태그가th면 nameList에 append하고 디음 for문으로 진입\n",
    "        if columns[i].name == \"th\":\n",
    "            columnValue = columns[i].text.replace(\"\\n\",\"\")\n",
    "            nameList.append(columnValue)\n",
    "            pass\n",
    "        ### 만약에 컬럼내 태그가 th가 아니라면 columnList에 append 수행\n",
    "        else:\n",
    "            columnValue = columns[i].text.replace(\"\\n\",\"\")\n",
    "            columnList.append(columnValue)\n",
    "            \n",
    "    # print(columnList)\n",
    "    if len(columnList) == 0 :\n",
    "        pass\n",
    "    else:\n",
    "        rowList.append(columnList)\n",
    "        columnList = []\n",
    "    \n"
   ]
  },
  {
   "cell_type": "code",
   "execution_count": 20,
   "id": "e9fbe454-0aa6-4aad-8baa-784e097a7dda",
   "metadata": {},
   "outputs": [
    {
     "data": {
      "text/html": [
       "<div>\n",
       "<style scoped>\n",
       "    .dataframe tbody tr th:only-of-type {\n",
       "        vertical-align: middle;\n",
       "    }\n",
       "\n",
       "    .dataframe tbody tr th {\n",
       "        vertical-align: top;\n",
       "    }\n",
       "\n",
       "    .dataframe thead th {\n",
       "        text-align: right;\n",
       "    }\n",
       "</style>\n",
       "<table border=\"1\" class=\"dataframe\">\n",
       "  <thead>\n",
       "    <tr style=\"text-align: right;\">\n",
       "      <th></th>\n",
       "      <th>Left</th>\n",
       "      <th>Center</th>\n",
       "      <th>Right</th>\n",
       "    </tr>\n",
       "  </thead>\n",
       "  <tbody>\n",
       "    <tr>\n",
       "      <th>0</th>\n",
       "      <td>Top left cell</td>\n",
       "      <td>Top center cell</td>\n",
       "      <td>Top right cell</td>\n",
       "    </tr>\n",
       "    <tr>\n",
       "      <th>1</th>\n",
       "      <td>Middle left cell</td>\n",
       "      <td>Middle center cell</td>\n",
       "      <td>Middle right cell</td>\n",
       "    </tr>\n",
       "    <tr>\n",
       "      <th>2</th>\n",
       "      <td>Bottom left cell</td>\n",
       "      <td>Bottom center cell</td>\n",
       "      <td>Bottom right cell</td>\n",
       "    </tr>\n",
       "  </tbody>\n",
       "</table>\n",
       "</div>"
      ],
      "text/plain": [
       "               Left              Center              Right\n",
       "0     Top left cell     Top center cell     Top right cell\n",
       "1  Middle left cell  Middle center cell  Middle right cell\n",
       "2  Bottom left cell  Bottom center cell  Bottom right cell"
      ]
     },
     "execution_count": 20,
     "metadata": {},
     "output_type": "execute_result"
    }
   ],
   "source": [
    "pd.DataFrame(rowList, columns = nameList)"
   ]
  },
  {
   "cell_type": "code",
   "execution_count": 43,
   "id": "e648a4b1-d996-42cf-a4e1-a576d1e8b435",
   "metadata": {},
   "outputs": [
    {
     "name": "stdout",
     "output_type": "stream",
     "text": [
      "['Middle left cell', 'Middle center cell', 'Middle right cell']\n"
     ]
    }
   ],
   "source": [
    "# for j in range(0, len(rows)):\n",
    "### for 1개의 row를 잡고 로직을 펼친다.\n",
    "columns = rows[2].findAll(name=[\"td\",\"th\"])\n",
    "columnLen = len(columns)\n",
    "\n",
    "### for 1개의 컬럼값을 잡고 로직을 펼친다.\n",
    "for i in range(0, columnLen):\n",
    "    ### 만약에 컬럼내 태그가th면 nameList에 append하고 디음 for문으로 진입\n",
    "    if columns[i].name == \"th\":\n",
    "        columnValue = columns[i].text.replace(\"\\n\",\"\")\n",
    "        nameList.append(columnValue)\n",
    "        continue\n",
    "    ### 만약에 컬럼내 태그가 th가 아니라면 columnList에 append 수행\n",
    "    else:\n",
    "        columnValue = columns[i].text.replace(\"\\n\",\"\")\n",
    "        columnList.append(columnValue)\n",
    "\n",
    "print(columnList)\n",
    "# if len(columnList) == 0 :\n",
    "#     continue\n",
    "# else:\n",
    "rowList.append(columnList)\n",
    "columnList = []"
   ]
  },
  {
   "cell_type": "code",
   "execution_count": null,
   "id": "30ace433-241d-4676-bbae-0366fec1621f",
   "metadata": {},
   "outputs": [],
   "source": []
  },
  {
   "cell_type": "code",
   "execution_count": null,
   "id": "50b6af86-7d0a-4655-b6d7-7ca3d69e48c0",
   "metadata": {},
   "outputs": [],
   "source": []
  },
  {
   "cell_type": "code",
   "execution_count": null,
   "id": "6f9e00c0-e27d-4300-8404-72a93f58c357",
   "metadata": {},
   "outputs": [],
   "source": [
    "# 페이지에서 html 소스 가져오기\n",
    "targetUrl = \"https://www.naver.com/\"\n",
    "try:\n",
    "    resp = requests.get(targetUrl)\n",
    "except Exception as e:\n",
    "    print(e)\n",
    "    print(\"크롤링한 페이지 : \" + targetUrl)\n",
    "    \n",
    "html = resp.text\n",
    "bs = bs4.BeautifulSoup(html, 'html.parser')\n",
    "\n",
    "# 목표 링크까지 Tag 줄여가기\n",
    "divTag = bs.find(name = \"div\", attrs ={\"class\" :\"footer_inner\" })\n",
    "\n",
    "divTag2 = bs.find(name = \"div\", attrs ={\"class\" :\"partner_box\" })\n",
    "\n",
    "aTags = divTag2.findAll(name = \"a\")\n",
    "\n",
    "nameList = []\n",
    "linkList = []\n",
    "\n",
    "aTagsLen = len(aTags)\n",
    "\n",
    "for i in range (0, aTagsLen):\n",
    "    #태그 텍스트 찾기\n",
    "    tagTextName = aTags[i].text \n",
    "    #속성 찾기\n",
    "    if aTags[i].attrs[\"href\"][0] == \"#\":\n",
    "        tagLinkInfo = targetUrl + aTags[i].attrs[\"href\"]\n",
    "    else:\n",
    "        tagLinkInfo = aTags[i].attrs[\"href\"]\n",
    "    #태그명 찾기\n",
    "    tagNameInfo = aTags[i].name\n",
    "    nameList.append(tagTextName)\n",
    "    linkList.append(tagLinkInfo)\n",
    "    \n",
    "# 구한 값들을 zip 함수로 합치기\n",
    "df2 = pd.DataFrame( zip( nameList, linkList) , columns = [\"name\",\"link\"] )\n",
    "# csv 파일로 저장하기\n",
    "df2.to_csv(\"./practice3.csv\",index=False)"
   ]
  },
  {
   "cell_type": "markdown",
   "id": "64b5f1eb-b83d-4eba-bd65-a59f30c6b694",
   "metadata": {},
   "source": [
    "### 연습 TimeAndDate_Weather"
   ]
  },
  {
   "cell_type": "code",
   "execution_count": 2,
   "id": "1875bcc4-85a3-48b3-b197-9a5235e871cd",
   "metadata": {
    "collapsed": true,
    "jupyter": {
     "outputs_hidden": true
    },
    "tags": []
   },
   "outputs": [
    {
     "data": {
      "text/plain": [
       "<table class=\"zebra fw tb-theme\"><thead><tr><th colspan=\"8\"><h3 class=\"tb-header\">Local Time and Weather  Around the World </h3><div class=\"tb-show\"><form action=\"/scripts/gowc.php\" aria-hidden=\"true\" class=\"inline\" id=\"wc-sort\" method=\"get\" name=\"wc-sort\"><label for=\"sort\">Sort By: </label><select id=\"sort\" name=\"sort\" onchange=\"this.form.submit()\"><option selected=\"\" value=\"0\">City</option><option value=\"1\">Country</option><option value=\"2\">Time</option><option value=\"6\">Temperature</option></select><input name=\"url\" type=\"hidden\" value=\"/weather/\"/><input name=\"args\" type=\"hidden\" value=\"\"/></form></div><div class=\"tb-show mgr10\"><form action=\"/scripts/gowc.php\" aria-hidden=\"true\" class=\"inline\" id=\"wc-shown\" method=\"get\" name=\"wc-shown\"><label for=\"pop\">Cities Shown: </label><select id=\"pop\" name=\"low\" onchange=\"this.form.submit();\"><option value=\"c\">Capitals (215)</option><option selected=\"\" value=\"6\">Most Popular (143)</option><option value=\"5\">Popular (356)</option><option value=\"4\">Somewhat Popular (469)</option></select><input name=\"url\" type=\"hidden\" value=\"/weather/\"/><input name=\"args\" type=\"hidden\" value=\"\"/></form></div></th></tr></thead><tr><td><a href=\"/weather/ghana/accra\">Accra</a><span class=\"wds\" id=\"p0s\"></span></td><td class=\"r\" id=\"p0\">월요일 오후 11:56.</td><td class=\"r\"><img alt=\"Passing clouds. Warm.\" height=\"40\" src=\"//c.tadst.com/gfx/w/svg/wt-14.svg\" title=\"Passing clouds. Warm.\" width=\"40\"/></td><td class=\"rbi\">29 °C</td><td><a href=\"/weather/malaysia/kuala-lumpur\">Kuala Lumpur</a><span class=\"wds\" id=\"p70s\"></span></td><td class=\"r\" id=\"p70\">화요일 오전 07:56.</td><td class=\"r\"><img alt=\"Passing clouds. Warm.\" height=\"40\" src=\"//c.tadst.com/gfx/w/svg/wt-2.svg\" title=\"Passing clouds. Warm.\" width=\"40\"/></td><td class=\"rbi\">25 °C</td></tr><tr><td><a href=\"/weather/ethiopia/addis-ababa\">Addis Ababa</a><span class=\"wds\" id=\"p1s\"></span></td><td class=\"r\" id=\"p1\">화요일 오전 02:56.</td><td class=\"r\"><img alt=\"Passing clouds. Mild.\" height=\"40\" src=\"//c.tadst.com/gfx/w/svg/wt-14.svg\" title=\"Passing clouds. Mild.\" width=\"40\"/></td><td class=\"rbi\">18 °C</td><td><a href=\"/weather/kuwait/kuwait-city\">Kuwait City</a><span class=\"wds\" id=\"p71s\"></span></td><td class=\"r\" id=\"p71\">화요일 오전 02:56.</td><td class=\"r\"><img alt=\"Clear. Mild.\" height=\"40\" src=\"//c.tadst.com/gfx/w/svg/wt-13.svg\" title=\"Clear. Mild.\" width=\"40\"/></td><td class=\"rbi\">23 °C</td></tr><tr><td><a href=\"/weather/australia/adelaide\">Adelaide</a><span class=\"wds\" id=\"p2s\"></span></td><td class=\"r\" id=\"p2\">화요일 오전 09:26.</td><td class=\"r\"><img alt=\"Mild.\" height=\"40\" src=\"//c.tadst.com/gfx/w/svg/wt-5.svg\" title=\"Mild.\" width=\"40\"/></td><td class=\"rbi\">19 °C</td><td><a href=\"/weather/ukraine/kyiv\">Kyiv</a><span class=\"wds\" id=\"p72s\"> *</span></td><td class=\"r\" id=\"p72\">화요일 오전 02:56.</td><td class=\"r\"><img alt=\"Clear. Chilly.\" height=\"40\" src=\"//c.tadst.com/gfx/w/svg/wt-13.svg\" title=\"Clear. Chilly.\" width=\"40\"/></td><td class=\"rbi\">0 °C</td></tr><tr><td><a href=\"/weather/algeria/algiers\">Algiers</a><span class=\"wds\" id=\"p3s\"></span></td><td class=\"r\" id=\"p3\">화요일 오전 12:56.</td><td class=\"r\"><img alt=\"Light rain. Overcast. Cool.\" height=\"40\" src=\"//c.tadst.com/gfx/w/svg/wt-34.svg\" title=\"Light rain. Overcast. Cool.\" width=\"40\"/></td><td class=\"rbi\">14 °C</td><td><a href=\"/weather/bolivia/la-paz\">La Paz</a><span class=\"wds\" id=\"p73s\"></span></td><td class=\"r\" id=\"p73\">월요일 오후 07:56.</td><td class=\"r\"><img alt=\"Partly sunny. Cool.\" height=\"40\" src=\"//c.tadst.com/gfx/w/svg/wt-17.svg\" title=\"Partly sunny. Cool.\" width=\"40\"/></td><td class=\"rbi\">11 °C</td></tr><tr><td><a href=\"/weather/kazakstan/almaty\">Almaty</a><span class=\"wds\" id=\"p4s\"></span></td><td class=\"r\" id=\"p4\">화요일 오전 05:56.</td><td class=\"r\"><img alt=\"Passing clouds. Cool.\" height=\"40\" src=\"//c.tadst.com/gfx/w/svg/wt-14.svg\" title=\"Passing clouds. Cool.\" width=\"40\"/></td><td class=\"rbi\">9 °C</td><td><a href=\"/weather/nigeria/lagos\">Lagos</a><span class=\"wds\" id=\"p74s\"></span></td><td class=\"r\" id=\"p74\">화요일 오전 12:56.</td><td class=\"r\"><img alt=\"Passing clouds. Warm.\" height=\"40\" src=\"//c.tadst.com/gfx/w/svg/wt-14.svg\" title=\"Passing clouds. Warm.\" width=\"40\"/></td><td class=\"rbi\">29 °C</td></tr><tr><td><a href=\"/weather/jordan/amman\">Amman</a><span class=\"wds\" id=\"p5s\"> *</span></td><td class=\"r\" id=\"p5\">화요일 오전 02:56.</td><td class=\"r\"><img alt=\"Clear. Mild.\" height=\"40\" src=\"//c.tadst.com/gfx/w/svg/wt-13.svg\" title=\"Clear. Mild.\" width=\"40\"/></td><td class=\"rbi\">17 °C</td><td><a href=\"/weather/pakistan/lahore\">Lahore</a><span class=\"wds\" id=\"p75s\"></span></td><td class=\"r\" id=\"p75\">화요일 오전 04:56.</td><td class=\"r\"><img alt=\"Clear. Mild.\" height=\"40\" src=\"//c.tadst.com/gfx/w/svg/wt-13.svg\" title=\"Clear. Mild.\" width=\"40\"/></td><td class=\"rbi\">24 °C</td></tr><tr><td><a href=\"/weather/netherlands/amsterdam\">Amsterdam</a><span class=\"wds\" id=\"p6s\"> *</span></td><td class=\"r\" id=\"p6\">화요일 오전 01:56.</td><td class=\"r\"><img alt=\"Partly cloudy. Cool.\" height=\"40\" src=\"//c.tadst.com/gfx/w/svg/wt-15.svg\" title=\"Partly cloudy. Cool.\" width=\"40\"/></td><td class=\"rbi\">9 °C</td><td><a href=\"/weather/usa/las-vegas\">Las Vegas</a><span class=\"wds\" id=\"p76s\"> *</span></td><td class=\"r\" id=\"p76\">월요일 오후 04:56.</td><td class=\"r\"><img alt=\"Scattered clouds. Mild.\" height=\"40\" src=\"//c.tadst.com/gfx/w/svg/wt-2.svg\" title=\"Scattered clouds. Mild.\" width=\"40\"/></td><td class=\"rbi\">24 °C</td></tr><tr><td><a href=\"/weather/russia/anadyr\">Anadyr</a><span class=\"wds\" id=\"p7s\"></span></td><td class=\"r\" id=\"p7\">화요일 오전 11:56.</td><td class=\"r\"><img alt=\"Passing clouds. Extremely cold.\" height=\"40\" src=\"//c.tadst.com/gfx/w/svg/wt-2.svg\" title=\"Passing clouds. Extremely cold.\" width=\"40\"/></td><td class=\"rbi\">-24 °C</td><td><a href=\"/weather/peru/lima\">Lima</a><span class=\"wds\" id=\"p77s\"></span></td><td class=\"r\" id=\"p77\">월요일 오후 06:56.</td><td class=\"r\"><img alt=\"Scattered clouds. Mild.\" height=\"40\" src=\"//c.tadst.com/gfx/w/svg/wt-15.svg\" title=\"Scattered clouds. Mild.\" width=\"40\"/></td><td class=\"rbi\">21 °C</td></tr><tr><td><a href=\"/weather/usa/anchorage\">Anchorage</a><span class=\"wds\" id=\"p8s\"> *</span></td><td class=\"r\" id=\"p8\">월요일 오후 03:56.</td><td class=\"r\"><img alt=\"Partly sunny. Chilly.\" height=\"40\" src=\"//c.tadst.com/gfx/w/svg/wt-6.svg\" title=\"Partly sunny. Chilly.\" width=\"40\"/></td><td class=\"rbi\">3 °C</td><td><a href=\"/weather/portugal/lisbon\">Lisbon</a><span class=\"wds\" id=\"p78s\"> *</span></td><td class=\"r\" id=\"p78\">화요일 오전 12:56.</td><td class=\"r\"><img alt=\"Clear. Cool.\" height=\"40\" src=\"//c.tadst.com/gfx/w/svg/wt-13.svg\" title=\"Clear. Cool.\" width=\"40\"/></td><td class=\"rbi\">12 °C</td></tr><tr><td><a href=\"/weather/turkey/ankara\">Ankara</a><span class=\"wds\" id=\"p9s\"></span></td><td class=\"r\" id=\"p9\">화요일 오전 02:56.</td><td class=\"r\"><img alt=\"Passing clouds. Cool.\" height=\"40\" src=\"//c.tadst.com/gfx/w/svg/wt-14.svg\" title=\"Passing clouds. Cool.\" width=\"40\"/></td><td class=\"rbi\">9 °C</td><td><a href=\"/weather/uk/london\">London</a><span class=\"wds\" id=\"p79s\"> *</span></td><td class=\"r\" id=\"p79\">화요일 오전 12:56.</td><td class=\"r\"><img alt=\"Overcast. Cool.\" height=\"40\" src=\"//c.tadst.com/gfx/w/svg/wt-17.svg\" title=\"Overcast. Cool.\" width=\"40\"/></td><td class=\"rbi\">13 °C</td></tr><tr><td><a href=\"/weather/madagascar/antananarivo\">Antananarivo</a><span class=\"wds\" id=\"p10s\"></span></td><td class=\"r\" id=\"p10\">화요일 오전 02:56.</td><td class=\"r\"><img alt=\"Passing clouds. Mild.\" height=\"40\" src=\"//c.tadst.com/gfx/w/svg/wt-14.svg\" title=\"Passing clouds. Mild.\" width=\"40\"/></td><td class=\"rbi\">17 °C</td><td><a href=\"/weather/usa/los-angeles\">Los Angeles</a><span class=\"wds\" id=\"p80s\"> *</span></td><td class=\"r\" id=\"p80\">월요일 오후 04:56.</td><td class=\"r\"><img alt=\"Sunny. Mild.\" height=\"40\" src=\"//c.tadst.com/gfx/w/svg/wt-1.svg\" title=\"Sunny. Mild.\" width=\"40\"/></td><td class=\"rbi\">18 °C</td></tr><tr><td><a href=\"/weather/paraguay/asuncion\">Asuncion</a><span class=\"wds\" id=\"p11s\"></span></td><td class=\"r\" id=\"p11\">월요일 오후 07:56.</td><td class=\"r\"><img alt=\"Passing clouds. Mild.\" height=\"40\" src=\"//c.tadst.com/gfx/w/svg/wt-14.svg\" title=\"Passing clouds. Mild.\" width=\"40\"/></td><td class=\"rbi\">24 °C</td><td><a href=\"/weather/spain/madrid\">Madrid</a><span class=\"wds\" id=\"p81s\"> *</span></td><td class=\"r\" id=\"p81\">화요일 오전 01:56.</td><td class=\"r\"><img alt=\"Passing clouds. Quite cool.\" height=\"40\" src=\"//c.tadst.com/gfx/w/svg/wt-14.svg\" title=\"Passing clouds. Quite cool.\" width=\"40\"/></td><td class=\"rbi\">7 °C</td></tr><tr><td><a href=\"/weather/greece/athens\">Athens</a><span class=\"wds\" id=\"p12s\"> *</span></td><td class=\"r\" id=\"p12\">화요일 오전 02:56.</td><td class=\"r\"><img alt=\"Passing clouds. Refreshingly cool.\" height=\"40\" src=\"//c.tadst.com/gfx/w/svg/wt-14.svg\" title=\"Passing clouds. Refreshingly cool.\" width=\"40\"/></td><td class=\"rbi\">15 °C</td><td><a href=\"/weather/nicaragua/managua\">Managua</a><span class=\"wds\" id=\"p82s\"></span></td><td class=\"r\" id=\"p82\">월요일 오후 05:56.</td><td class=\"r\"><img alt=\"Scattered clouds. Hot.\" height=\"40\" src=\"//c.tadst.com/gfx/w/svg/wt-15.svg\" title=\"Scattered clouds. Hot.\" width=\"40\"/></td><td class=\"rbi\">33 °C</td></tr><tr><td><a href=\"/weather/usa/atlanta\">Atlanta</a><span class=\"wds\" id=\"p13s\"> *</span></td><td class=\"r\" id=\"p13\">월요일 오후 07:56.</td><td class=\"r\"><img alt=\"Sunny. Mild.\" height=\"40\" src=\"//c.tadst.com/gfx/w/svg/wt-1.svg\" title=\"Sunny. Mild.\" width=\"40\"/></td><td class=\"rbi\">24 °C</td><td><a href=\"/weather/philippines/manila\">Manila</a><span class=\"wds\" id=\"p83s\"></span></td><td class=\"r\" id=\"p83\">화요일 오전 07:56.</td><td class=\"r\"><img alt=\"Sprinkles. Overcast. Warm.\" height=\"40\" src=\"//c.tadst.com/gfx/w/svg/wt-33.svg\" title=\"Sprinkles. Overcast. Warm.\" width=\"40\"/></td><td class=\"rbi\">26 °C</td></tr><tr><td><a href=\"/weather/new-zealand/auckland\">Auckland</a><span class=\"wds\" id=\"p14s\"></span></td><td class=\"r\" id=\"p14\">화요일 오전 11:56.</td><td class=\"r\"><img alt=\"Overcast. Mild.\" height=\"40\" src=\"//c.tadst.com/gfx/w/svg/wt-7.svg\" title=\"Overcast. Mild.\" width=\"40\"/></td><td class=\"rbi\">22 °C</td><td><a href=\"/weather/australia/melbourne\">Melbourne</a><span class=\"wds\" id=\"p84s\"></span></td><td class=\"r\" id=\"p84\">화요일 오전 09:56.</td><td class=\"r\"><img alt=\"Low clouds. Cool.\" height=\"40\" src=\"//c.tadst.com/gfx/w/svg/wt-7.svg\" title=\"Low clouds. Cool.\" width=\"40\"/></td><td class=\"rbi\">12 °C</td></tr><tr><td><a href=\"/weather/iraq/baghdad\">Baghdad</a><span class=\"wds\" id=\"p15s\"></span></td><td class=\"r\" id=\"p15\">화요일 오전 02:56.</td><td class=\"r\"><img alt=\"Clear. Mild.\" height=\"40\" src=\"//c.tadst.com/gfx/w/svg/wt-13.svg\" title=\"Clear. Mild.\" width=\"40\"/></td><td class=\"rbi\">23 °C</td><td><a href=\"/weather/mexico/mexico-city\">Mexico City</a><span class=\"wds\" id=\"p85s\"> *</span></td><td class=\"r\" id=\"p85\">월요일 오후 06:56.</td><td class=\"r\"><img alt=\"Passing clouds. Pleasantly warm.\" height=\"40\" src=\"//c.tadst.com/gfx/w/svg/wt-2.svg\" title=\"Passing clouds. Pleasantly warm.\" width=\"40\"/></td><td class=\"rbi\">27 °C</td></tr><tr><td><a href=\"/weather/thailand/bangkok\">Bangkok</a><span class=\"wds\" id=\"p16s\"></span></td><td class=\"r\" id=\"p16\">화요일 오전 06:56.</td><td class=\"r\"><img alt=\"Passing clouds. Warm.\" height=\"40\" src=\"//c.tadst.com/gfx/w/svg/wt-2.svg\" title=\"Passing clouds. Warm.\" width=\"40\"/></td><td class=\"rbi\">25 °C</td><td><a href=\"/weather/usa/miami\">Miami</a><span class=\"wds\" id=\"p86s\"> *</span></td><td class=\"r\" id=\"p86\">월요일 오후 07:56.</td><td class=\"r\"><img alt=\"Broken clouds. Warm.\" height=\"40\" src=\"//c.tadst.com/gfx/w/svg/wt-17.svg\" title=\"Broken clouds. Warm.\" width=\"40\"/></td><td class=\"rbi\">25 °C</td></tr><tr><td><a href=\"/weather/spain/barcelona\">Barcelona</a><span class=\"wds\" id=\"p17s\"> *</span></td><td class=\"r\" id=\"p17\">화요일 오전 01:56.</td><td class=\"r\"><img alt=\"Clear. Quite cool.\" height=\"40\" src=\"//c.tadst.com/gfx/w/svg/wt-13.svg\" title=\"Clear. Quite cool.\" width=\"40\"/></td><td class=\"rbi\">7 °C</td><td><a href=\"/weather/usa/minneapolis\">Minneapolis</a><span class=\"wds\" id=\"p87s\"> *</span></td><td class=\"r\" id=\"p87\">월요일 오후 06:56.</td><td class=\"r\"><img alt=\"Overcast. Chilly.\" height=\"40\" src=\"//c.tadst.com/gfx/w/svg/wt-7.svg\" title=\"Overcast. Chilly.\" width=\"40\"/></td><td class=\"rbi\">3 °C</td></tr><tr><td><a href=\"/weather/china/beijing\">Beijing</a><span class=\"wds\" id=\"p18s\"></span></td><td class=\"r\" id=\"p18\">화요일 오전 07:56.</td><td class=\"r\"><img alt=\"Haze. Cool.\" height=\"40\" src=\"//c.tadst.com/gfx/w/svg/wt-2.svg\" title=\"Haze. Cool.\" width=\"40\"/></td><td class=\"rbi\">11 °C</td><td><a href=\"/weather/belarus/minsk\">Minsk</a><span class=\"wds\" id=\"p88s\"></span></td><td class=\"r\" id=\"p88\">화요일 오전 02:56.</td><td class=\"r\"><img alt=\"Clear. Chilly.\" height=\"40\" src=\"//c.tadst.com/gfx/w/svg/wt-13.svg\" title=\"Clear. Chilly.\" width=\"40\"/></td><td class=\"rbi\">1 °C</td></tr><tr><td><a href=\"/weather/lebanon/beirut\">Beirut</a><span class=\"wds\" id=\"p19s\"> *</span></td><td class=\"r\" id=\"p19\">화요일 오전 02:56.</td><td class=\"r\"><img alt=\"Clear. Mild.\" height=\"40\" src=\"//c.tadst.com/gfx/w/svg/wt-13.svg\" title=\"Clear. Mild.\" width=\"40\"/></td><td class=\"rbi\">19 °C</td><td><a href=\"/weather/uruguay/montevideo\">Montevideo</a><span class=\"wds\" id=\"p89s\"></span></td><td class=\"r\" id=\"p89\">월요일 오후 08:56.</td><td class=\"r\"><img alt=\"Sunny. Mild.\" height=\"40\" src=\"//c.tadst.com/gfx/w/svg/wt-13.svg\" title=\"Sunny. Mild.\" width=\"40\"/></td><td class=\"rbi\">17 °C</td></tr><tr><td><a href=\"/weather/serbia/belgrade\">Belgrade</a><span class=\"wds\" id=\"p20s\"> *</span></td><td class=\"r\" id=\"p20\">화요일 오전 01:56.</td><td class=\"r\"><img alt=\"Clear. Quite cool.\" height=\"40\" src=\"//c.tadst.com/gfx/w/svg/wt-13.svg\" title=\"Clear. Quite cool.\" width=\"40\"/></td><td class=\"rbi\">6 °C</td><td><a href=\"/weather/canada/montreal\">Montréal</a><span class=\"wds\" id=\"p90s\"> *</span></td><td class=\"r\" id=\"p90\">월요일 오후 07:56.</td><td class=\"r\"><img alt=\"Partly sunny. Cool.\" height=\"40\" src=\"//c.tadst.com/gfx/w/svg/wt-17.svg\" title=\"Partly sunny. Cool.\" width=\"40\"/></td><td class=\"rbi\">9 °C</td></tr><tr><td><a href=\"/weather/india/bengaluru\">Bengaluru</a><span class=\"wds\" id=\"p21s\"></span></td><td class=\"r\" id=\"p21\">화요일 오전 05:26.</td><td class=\"r\"><img alt=\"Passing clouds. Mild.\" height=\"40\" src=\"//c.tadst.com/gfx/w/svg/wt-14.svg\" title=\"Passing clouds. Mild.\" width=\"40\"/></td><td class=\"rbi\">24 °C</td><td><a href=\"/weather/russia/moscow\">Moscow</a><span class=\"wds\" id=\"p91s\"></span></td><td class=\"r\" id=\"p91\">화요일 오전 02:56.</td><td class=\"r\"><img alt=\"Overcast. Chilly.\" height=\"40\" src=\"//c.tadst.com/gfx/w/svg/wt-17.svg\" title=\"Overcast. Chilly.\" width=\"40\"/></td><td class=\"rbi\">1 °C</td></tr><tr><td><a href=\"/weather/germany/berlin\">Berlin</a><span class=\"wds\" id=\"p22s\"> *</span></td><td class=\"r\" id=\"p22\">화요일 오전 01:56.</td><td class=\"r\"><img alt=\"Light rain. Passing clouds. Quite cool.\" height=\"40\" src=\"//c.tadst.com/gfx/w/svg/wt-34.svg\" title=\"Light rain. Passing clouds. Quite cool.\" width=\"40\"/></td><td class=\"rbi\">5 °C</td><td><a href=\"/weather/india/mumbai\">Mumbai</a><span class=\"wds\" id=\"p92s\"></span></td><td class=\"r\" id=\"p92\">화요일 오전 05:26.</td><td class=\"r\"><img alt=\"Passing clouds. Warm.\" height=\"40\" src=\"//c.tadst.com/gfx/w/svg/wt-14.svg\" title=\"Passing clouds. Warm.\" width=\"40\"/></td><td class=\"rbi\">28 °C</td></tr><tr><td><a href=\"/weather/colombia/bogota\">Bogota</a><span class=\"wds\" id=\"p23s\"></span></td><td class=\"r\" id=\"p23\">월요일 오후 06:56.</td><td class=\"r\"><img alt=\"Passing clouds. Mild.\" height=\"40\" src=\"//c.tadst.com/gfx/w/svg/wt-15.svg\" title=\"Passing clouds. Mild.\" width=\"40\"/></td><td class=\"rbi\">18 °C</td><td><a href=\"/weather/kenya/nairobi\">Nairobi</a><span class=\"wds\" id=\"p93s\"></span></td><td class=\"r\" id=\"p93\">화요일 오전 02:56.</td><td class=\"r\"><img alt=\"Passing clouds. Mild.\" height=\"40\" src=\"//c.tadst.com/gfx/w/svg/wt-14.svg\" title=\"Passing clouds. Mild.\" width=\"40\"/></td><td class=\"rbi\">21 °C</td></tr><tr><td><a href=\"/weather/usa/boston\">Boston</a><span class=\"wds\" id=\"p24s\"> *</span></td><td class=\"r\" id=\"p24\">월요일 오후 07:56.</td><td class=\"r\"><img alt=\"Partly sunny. Cool.\" height=\"40\" src=\"//c.tadst.com/gfx/w/svg/wt-17.svg\" title=\"Partly sunny. Cool.\" width=\"40\"/></td><td class=\"rbi\">12 °C</td><td><a href=\"/weather/bahamas/nassau\">Nassau</a><span class=\"wds\" id=\"p94s\"> *</span></td><td class=\"r\" id=\"p94\">월요일 오후 07:56.</td><td class=\"r\"><img alt=\"Partly sunny. Warm.\" height=\"40\" src=\"//c.tadst.com/gfx/w/svg/wt-17.svg\" title=\"Partly sunny. Warm.\" width=\"40\"/></td><td class=\"rbi\">26 °C</td></tr><tr><td><a href=\"/weather/brazil/brasilia\">Brasilia</a><span class=\"wds\" id=\"p25s\"></span></td><td class=\"r\" id=\"p25\">월요일 오후 08:56.</td><td class=\"r\"><img alt=\"Clear. Warm.\" height=\"40\" src=\"//c.tadst.com/gfx/w/svg/wt-13.svg\" title=\"Clear. Warm.\" width=\"40\"/></td><td class=\"rbi\">25 °C</td><td><a href=\"/weather/india/new-delhi\">New Delhi</a><span class=\"wds\" id=\"p95s\"></span></td><td class=\"r\" id=\"p95\">화요일 오전 05:26.</td><td class=\"r\"><img alt=\"Clear. Mild.\" height=\"40\" src=\"//c.tadst.com/gfx/w/svg/wt-13.svg\" title=\"Clear. Mild.\" width=\"40\"/></td><td class=\"rbi\">22 °C</td></tr><tr><td><a href=\"/weather/australia/brisbane\">Brisbane</a><span class=\"wds\" id=\"p26s\"></span></td><td class=\"r\" id=\"p26\">화요일 오전 09:56.</td><td class=\"r\"><img alt=\"Passing clouds. Mild.\" height=\"40\" src=\"//c.tadst.com/gfx/w/svg/wt-2.svg\" title=\"Passing clouds. Mild.\" width=\"40\"/></td><td class=\"rbi\">24 °C</td><td><a href=\"/weather/usa/new-orleans\">New Orleans</a><span class=\"wds\" id=\"p96s\"> *</span></td><td class=\"r\" id=\"p96\">월요일 오후 06:56.</td><td class=\"r\"><img alt=\"Broken clouds. Mild.\" height=\"40\" src=\"//c.tadst.com/gfx/w/svg/wt-6.svg\" title=\"Broken clouds. Mild.\" width=\"40\"/></td><td class=\"rbi\">24 °C</td></tr><tr><td><a href=\"/weather/belgium/brussels\">Brussels</a><span class=\"wds\" id=\"p27s\"> *</span></td><td class=\"r\" id=\"p27\">화요일 오전 01:56.</td><td class=\"r\"><img alt=\"Drizzle. Mostly cloudy. Cool.\" height=\"40\" src=\"//c.tadst.com/gfx/w/svg/wt-34.svg\" title=\"Drizzle. Mostly cloudy. Cool.\" width=\"40\"/></td><td class=\"rbi\">8 °C</td><td><a href=\"/weather/usa/new-york\">New York</a><span class=\"wds\" id=\"p97s\"> *</span></td><td class=\"r\" id=\"p97\">월요일 오후 07:56.</td><td class=\"r\"><img alt=\"Sunny. Cool.\" height=\"40\" src=\"//c.tadst.com/gfx/w/svg/wt-13.svg\" title=\"Sunny. Cool.\" width=\"40\"/></td><td class=\"rbi\">11 °C</td></tr><tr><td><a href=\"/weather/romania/bucharest\">Bucharest</a><span class=\"wds\" id=\"p28s\"> *</span></td><td class=\"r\" id=\"p28\">화요일 오전 02:56.</td><td class=\"r\"><img alt=\"Passing clouds. Quite cool.\" height=\"40\" src=\"//c.tadst.com/gfx/w/svg/wt-14.svg\" title=\"Passing clouds. Quite cool.\" width=\"40\"/></td><td class=\"rbi\">5 °C</td><td><a href=\"/weather/norway/oslo\">Oslo</a><span class=\"wds\" id=\"p98s\"> *</span></td><td class=\"r\" id=\"p98\">화요일 오전 01:56.</td><td class=\"r\"><img alt=\"Passing clouds. Chilly.\" height=\"40\" src=\"//c.tadst.com/gfx/w/svg/wt-14.svg\" title=\"Passing clouds. Chilly.\" width=\"40\"/></td><td class=\"rbi\">-3 °C</td></tr><tr><td><a href=\"/weather/hungary/budapest\">Budapest</a><span class=\"wds\" id=\"p29s\"> *</span></td><td class=\"r\" id=\"p29\">화요일 오전 01:56.</td><td class=\"r\"><img alt=\"Passing clouds. Chilly.\" height=\"40\" src=\"//c.tadst.com/gfx/w/svg/wt-14.svg\" title=\"Passing clouds. Chilly.\" width=\"40\"/></td><td class=\"rbi\">2 °C</td><td><a href=\"/weather/canada/ottawa\">Ottawa</a><span class=\"wds\" id=\"p99s\"> *</span></td><td class=\"r\" id=\"p99\">월요일 오후 07:56.</td><td class=\"r\"><img alt=\"Partly sunny. Cool.\" height=\"40\" src=\"//c.tadst.com/gfx/w/svg/wt-17.svg\" title=\"Partly sunny. Cool.\" width=\"40\"/></td><td class=\"rbi\">8 °C</td></tr><tr><td><a href=\"/weather/argentina/buenos-aires\">Buenos Aires</a><span class=\"wds\" id=\"p30s\"></span></td><td class=\"r\" id=\"p30\">월요일 오후 08:56.</td><td class=\"r\"><img alt=\"Passing clouds. Mild.\" height=\"40\" src=\"//c.tadst.com/gfx/w/svg/wt-14.svg\" title=\"Passing clouds. Mild.\" width=\"40\"/></td><td class=\"rbi\">19 °C</td><td><a href=\"/weather/france/paris\">Paris</a><span class=\"wds\" id=\"p100s\"> *</span></td><td class=\"r\" id=\"p100\">화요일 오전 01:56.</td><td class=\"r\"><img alt=\"Overcast. Quite cool.\" height=\"40\" src=\"//c.tadst.com/gfx/w/svg/wt-17.svg\" title=\"Overcast. Quite cool.\" width=\"40\"/></td><td class=\"rbi\">7 °C</td></tr><tr><td><a href=\"/weather/egypt/cairo\">Cairo</a><span class=\"wds\" id=\"p31s\"></span></td><td class=\"r\" id=\"p31\">화요일 오전 01:56.</td><td class=\"r\"><img alt=\"Clear. Mild.\" height=\"40\" src=\"//c.tadst.com/gfx/w/svg/wt-13.svg\" title=\"Clear. Mild.\" width=\"40\"/></td><td class=\"rbi\">21 °C</td><td><a href=\"/weather/australia/perth\">Perth</a><span class=\"wds\" id=\"p101s\"></span></td><td class=\"r\" id=\"p101\">화요일 오전 07:56.</td><td class=\"r\"><img alt=\"Sunny. Cool.\" height=\"40\" src=\"//c.tadst.com/gfx/w/svg/wt-1.svg\" title=\"Sunny. Cool.\" width=\"40\"/></td><td class=\"rbi\">14 °C</td></tr><tr><td><a href=\"/weather/canada/calgary\">Calgary</a><span class=\"wds\" id=\"p32s\"> *</span></td><td class=\"r\" id=\"p32\">월요일 오후 05:56.</td><td class=\"r\"><img alt=\"Broken clouds. Cool.\" height=\"40\" src=\"//c.tadst.com/gfx/w/svg/wt-6.svg\" title=\"Broken clouds. Cool.\" width=\"40\"/></td><td class=\"rbi\">11 °C</td><td><a href=\"/weather/usa/philadelphia\">Philadelphia</a><span class=\"wds\" id=\"p102s\"> *</span></td><td class=\"r\" id=\"p102\">월요일 오후 07:56.</td><td class=\"r\"><img alt=\"Broken clouds. Cool.\" height=\"40\" src=\"//c.tadst.com/gfx/w/svg/wt-17.svg\" title=\"Broken clouds. Cool.\" width=\"40\"/></td><td class=\"rbi\">12 °C</td></tr><tr><td><a href=\"/weather/australia/canberra\">Canberra</a><span class=\"wds\" id=\"p33s\"></span></td><td class=\"r\" id=\"p33\">화요일 오전 09:56.</td><td class=\"r\"><img alt=\"Sunny. Cool.\" height=\"40\" src=\"//c.tadst.com/gfx/w/svg/wt-1.svg\" title=\"Sunny. Cool.\" width=\"40\"/></td><td class=\"rbi\">12 °C</td><td><a href=\"/weather/usa/phoenix\">Phoenix</a><span class=\"wds\" id=\"p103s\"></span></td><td class=\"r\" id=\"p103\">월요일 오후 04:56.</td><td class=\"r\"><img alt=\"Passing clouds. Hot.\" height=\"40\" src=\"//c.tadst.com/gfx/w/svg/wt-2.svg\" title=\"Passing clouds. Hot.\" width=\"40\"/></td><td class=\"rbi\">31 °C</td></tr><tr><td><a href=\"/weather/south-africa/cape-town\">Cape Town</a><span class=\"wds\" id=\"p34s\"></span></td><td class=\"r\" id=\"p34\">화요일 오전 01:56.</td><td class=\"r\"><img alt=\"Partly cloudy. Cool.\" height=\"40\" src=\"//c.tadst.com/gfx/w/svg/wt-15.svg\" title=\"Partly cloudy. Cool.\" width=\"40\"/></td><td class=\"rbi\">15 °C</td><td><a href=\"/weather/czech-republic/prague\">Prague</a><span class=\"wds\" id=\"p104s\"> *</span></td><td class=\"r\" id=\"p104\">화요일 오전 01:56.</td><td class=\"r\"><img alt=\"Passing clouds. Chilly.\" height=\"40\" src=\"//c.tadst.com/gfx/w/svg/wt-14.svg\" title=\"Passing clouds. Chilly.\" width=\"40\"/></td><td class=\"rbi\">3 °C</td></tr><tr><td><a href=\"/weather/venezuela/caracas\">Caracas</a><span class=\"wds\" id=\"p35s\"></span></td><td class=\"r\" id=\"p35\">월요일 오후 07:56.</td><td class=\"r\"><img alt=\"Passing clouds. Warm.\" height=\"40\" src=\"//c.tadst.com/gfx/w/svg/wt-14.svg\" title=\"Passing clouds. Warm.\" width=\"40\"/></td><td class=\"rbi\">27 °C</td><td><a href=\"/weather/iceland/reykjavik\">Reykjavik</a><span class=\"wds\" id=\"p105s\"></span></td><td class=\"r\" id=\"p105\">월요일 오후 11:56.</td><td class=\"r\"><img alt=\"Light snow. Mostly cloudy. Chilly.\" height=\"40\" src=\"//c.tadst.com/gfx/w/svg/wt-30.svg\" title=\"Light snow. Mostly cloudy. Chilly.\" width=\"40\"/></td><td class=\"rbi\">-1 °C</td></tr><tr><td><a href=\"/weather/morocco/casablanca\">Casablanca</a><span class=\"wds\" id=\"p36s\"></span></td><td class=\"r\" id=\"p36\">월요일 오후 11:56.</td><td class=\"r\"><img alt=\"Overcast. Cool.\" height=\"40\" src=\"//c.tadst.com/gfx/w/svg/wt-7.svg\" title=\"Overcast. Cool.\" width=\"40\"/></td><td class=\"rbi\">16 °C</td><td><a href=\"/weather/brazil/rio-de-janeiro\">Rio de Janeiro</a><span class=\"wds\" id=\"p106s\"></span></td><td class=\"r\" id=\"p106\">월요일 오후 08:56.</td><td class=\"r\"><img alt=\"Clear. Warm.\" height=\"40\" src=\"//c.tadst.com/gfx/w/svg/wt-13.svg\" title=\"Clear. Warm.\" width=\"40\"/></td><td class=\"rbi\">27 °C</td></tr><tr><td><a href=\"/weather/usa/chicago\">Chicago</a><span class=\"wds\" id=\"p37s\"> *</span></td><td class=\"r\" id=\"p37\">월요일 오후 06:56.</td><td class=\"r\"><img alt=\"Overcast. Cool.\" height=\"40\" src=\"//c.tadst.com/gfx/w/svg/wt-7.svg\" title=\"Overcast. Cool.\" width=\"40\"/></td><td class=\"rbi\">8 °C</td><td><a href=\"/weather/saudi-arabia/riyadh\">Riyadh</a><span class=\"wds\" id=\"p107s\"></span></td><td class=\"r\" id=\"p107\">화요일 오전 02:56.</td><td class=\"r\"><img alt=\"Clear. Pleasantly warm.\" height=\"40\" src=\"//c.tadst.com/gfx/w/svg/wt-13.svg\" title=\"Clear. Pleasantly warm.\" width=\"40\"/></td><td class=\"rbi\">26 °C</td></tr><tr><td><a href=\"/weather/denmark/copenhagen\">Copenhagen</a><span class=\"wds\" id=\"p38s\"> *</span></td><td class=\"r\" id=\"p38\">화요일 오전 01:56.</td><td class=\"r\"><img alt=\"Overcast. Quite cool.\" height=\"40\" src=\"//c.tadst.com/gfx/w/svg/wt-17.svg\" title=\"Overcast. Quite cool.\" width=\"40\"/></td><td class=\"rbi\">5 °C</td><td><a href=\"/weather/italy/rome\">Rome</a><span class=\"wds\" id=\"p108s\"> *</span></td><td class=\"r\" id=\"p108\">화요일 오전 01:56.</td><td class=\"r\"><img alt=\"Clear. Quite cool.\" height=\"40\" src=\"//c.tadst.com/gfx/w/svg/wt-13.svg\" title=\"Clear. Quite cool.\" width=\"40\"/></td><td class=\"rbi\">7 °C</td></tr><tr><td><a href=\"/weather/usa/dallas\">Dallas</a><span class=\"wds\" id=\"p39s\"> *</span></td><td class=\"r\" id=\"p39\">월요일 오후 06:56.</td><td class=\"r\"><img alt=\"Broken clouds. Warm.\" height=\"40\" src=\"//c.tadst.com/gfx/w/svg/wt-6.svg\" title=\"Broken clouds. Warm.\" width=\"40\"/></td><td class=\"rbi\">26 °C</td><td><a href=\"/weather/usa/salt-lake-city\">Salt Lake City</a><span class=\"wds\" id=\"p109s\"> *</span></td><td class=\"r\" id=\"p109\">월요일 오후 05:56.</td><td class=\"r\"><img alt=\"Overcast. Refreshingly cool.\" height=\"40\" src=\"//c.tadst.com/gfx/w/svg/wt-7.svg\" title=\"Overcast. Refreshingly cool.\" width=\"40\"/></td><td class=\"rbi\">15 °C</td></tr><tr><td><a href=\"/weather/tanzania/dar-es-salaam\">Dar es Salaam</a><span class=\"wds\" id=\"p40s\"></span></td><td class=\"r\" id=\"p40\">화요일 오전 02:56.</td><td class=\"r\"><img alt=\"Passing clouds. Warm.\" height=\"40\" src=\"//c.tadst.com/gfx/w/svg/wt-14.svg\" title=\"Passing clouds. Warm.\" width=\"40\"/></td><td class=\"rbi\">25 °C</td><td><a href=\"/weather/usa/san-francisco\">San Francisco</a><span class=\"wds\" id=\"p110s\"> *</span></td><td class=\"r\" id=\"p110\">월요일 오후 04:56.</td><td class=\"r\"><img alt=\"Partly sunny. Cool.\" height=\"40\" src=\"//c.tadst.com/gfx/w/svg/wt-6.svg\" title=\"Partly sunny. Cool.\" width=\"40\"/></td><td class=\"rbi\">16 °C</td></tr><tr><td><a href=\"/weather/australia/darwin\">Darwin</a><span class=\"wds\" id=\"p41s\"></span></td><td class=\"r\" id=\"p41\">화요일 오전 09:26.</td><td class=\"r\"><img alt=\"Passing clouds. Warm.\" height=\"40\" src=\"//c.tadst.com/gfx/w/svg/wt-2.svg\" title=\"Passing clouds. Warm.\" width=\"40\"/></td><td class=\"rbi\">29 °C</td><td><a href=\"/weather/puerto-rico/san-juan\">San Juan</a><span class=\"wds\" id=\"p111s\"></span></td><td class=\"r\" id=\"p111\">월요일 오후 07:56.</td><td class=\"r\"><img alt=\"Light rain. Broken clouds. Warm.\" height=\"40\" src=\"//c.tadst.com/gfx/w/svg/wt-18.svg\" title=\"Light rain. Broken clouds. Warm.\" width=\"40\"/></td><td class=\"rbi\">27 °C</td></tr><tr><td><a href=\"/weather/usa/denver\">Denver</a><span class=\"wds\" id=\"p42s\"> *</span></td><td class=\"r\" id=\"p42\">월요일 오후 05:56.</td><td class=\"r\"><img alt=\"Partly sunny. Refreshingly cool.\" height=\"40\" src=\"//c.tadst.com/gfx/w/svg/wt-6.svg\" title=\"Partly sunny. Refreshingly cool.\" width=\"40\"/></td><td class=\"rbi\">16 °C</td><td><a href=\"/weather/el-salvador/san-salvador\">San Salvador</a><span class=\"wds\" id=\"p112s\"></span></td><td class=\"r\" id=\"p112\">월요일 오후 05:56.</td><td class=\"r\"><img alt=\"Scattered clouds. Warm.\" height=\"40\" src=\"//c.tadst.com/gfx/w/svg/wt-2.svg\" title=\"Scattered clouds. Warm.\" width=\"40\"/></td><td class=\"rbi\">25 °C</td></tr><tr><td><a href=\"/weather/usa/detroit\">Detroit</a><span class=\"wds\" id=\"p43s\"> *</span></td><td class=\"r\" id=\"p43\">월요일 오후 07:56.</td><td class=\"r\"><img alt=\"Light rain. Mostly cloudy. Quite cool.\" height=\"40\" src=\"//c.tadst.com/gfx/w/svg/wt-18.svg\" title=\"Light rain. Mostly cloudy. Quite cool.\" width=\"40\"/></td><td class=\"rbi\">6 °C</td><td><a href=\"/weather/chile/santiago\">Santiago</a><span class=\"wds\" id=\"p113s\"></span></td><td class=\"r\" id=\"p113\">월요일 오후 07:56.</td><td class=\"r\"><img alt=\"Clear. Mild.\" height=\"40\" src=\"//c.tadst.com/gfx/w/svg/wt-13.svg\" title=\"Clear. Mild.\" width=\"40\"/></td><td class=\"rbi\">24 °C</td></tr><tr><td><a href=\"/weather/qatar/doha\">Doha</a><span class=\"wds\" id=\"p44s\"></span></td><td class=\"r\" id=\"p44\">화요일 오전 02:56.</td><td class=\"r\"><img alt=\"Clear. Mild.\" height=\"40\" src=\"//c.tadst.com/gfx/w/svg/wt-13.svg\" title=\"Clear. Mild.\" width=\"40\"/></td><td class=\"rbi\">22 °C</td><td><a href=\"/weather/dominican-republic/santo-domingo\">Santo Domingo</a><span class=\"wds\" id=\"p114s\"></span></td><td class=\"r\" id=\"p114\">월요일 오후 07:56.</td><td class=\"r\"><img alt=\"Scattered clouds. Warm.\" height=\"40\" src=\"//c.tadst.com/gfx/w/svg/wt-15.svg\" title=\"Scattered clouds. Warm.\" width=\"40\"/></td><td class=\"rbi\">29 °C</td></tr><tr><td><a href=\"/weather/united-arab-emirates/dubai\">Dubai</a><span class=\"wds\" id=\"p45s\"></span></td><td class=\"r\" id=\"p45\">화요일 오전 03:56.</td><td class=\"r\"><img alt=\"Passing clouds. Warm.\" height=\"40\" src=\"//c.tadst.com/gfx/w/svg/wt-14.svg\" title=\"Passing clouds. Warm.\" width=\"40\"/></td><td class=\"rbi\">26 °C</td><td><a href=\"/weather/brazil/sao-paulo\">São Paulo</a><span class=\"wds\" id=\"p115s\"></span></td><td class=\"r\" id=\"p115\">월요일 오후 08:56.</td><td class=\"r\"><img alt=\"Clear. Mild.\" height=\"40\" src=\"//c.tadst.com/gfx/w/svg/wt-13.svg\" title=\"Clear. Mild.\" width=\"40\"/></td><td class=\"rbi\">24 °C</td></tr><tr><td><a href=\"/weather/ireland/dublin\">Dublin</a><span class=\"wds\" id=\"p46s\"> *</span></td><td class=\"r\" id=\"p46\">화요일 오전 12:56.</td><td class=\"r\"><img alt=\"Partly cloudy. Cool.\" height=\"40\" src=\"//c.tadst.com/gfx/w/svg/wt-15.svg\" title=\"Partly cloudy. Cool.\" width=\"40\"/></td><td class=\"rbi\">10 °C</td><td><a href=\"/weather/usa/seattle\">Seattle</a><span class=\"wds\" id=\"p116s\"> *</span></td><td class=\"r\" id=\"p116\">월요일 오후 04:56.</td><td class=\"r\"><img alt=\"Mostly cloudy. Cool.\" height=\"40\" src=\"//c.tadst.com/gfx/w/svg/wt-6.svg\" title=\"Mostly cloudy. Cool.\" width=\"40\"/></td><td class=\"rbi\">8 °C</td></tr><tr><td><a href=\"/weather/canada/edmonton\">Edmonton</a><span class=\"wds\" id=\"p47s\"> *</span></td><td class=\"r\" id=\"p47\">월요일 오후 05:56.</td><td class=\"r\"><img alt=\"Cloudy. Cool.\" height=\"40\" src=\"//c.tadst.com/gfx/w/svg/wt-7.svg\" title=\"Cloudy. Cool.\" width=\"40\"/></td><td class=\"rbi\">12 °C</td><td><a href=\"/weather/south-korea/seoul\">Seoul</a><span class=\"wds\" id=\"p117s\"></span></td><td class=\"r\" id=\"p117\">화요일 오전 08:56.</td><td class=\"r\"><img alt=\"Sunny. Quite cool.\" height=\"40\" src=\"//c.tadst.com/gfx/w/svg/wt-1.svg\" title=\"Sunny. Quite cool.\" width=\"40\"/></td><td class=\"rbi\">7 °C</td></tr><tr><td><a href=\"/weather/germany/frankfurt\">Frankfurt</a><span class=\"wds\" id=\"p48s\"> *</span></td><td class=\"r\" id=\"p48\">화요일 오전 01:56.</td><td class=\"r\"><img alt=\"Light rain. Passing clouds. Quite cool.\" height=\"40\" src=\"//c.tadst.com/gfx/w/svg/wt-34.svg\" title=\"Light rain. Passing clouds. Quite cool.\" width=\"40\"/></td><td class=\"rbi\">6 °C</td><td><a href=\"/weather/china/shanghai\">Shanghai</a><span class=\"wds\" id=\"p118s\"></span></td><td class=\"r\" id=\"p118\">화요일 오전 07:56.</td><td class=\"r\"><img alt=\"Sunny. Cool.\" height=\"40\" src=\"//c.tadst.com/gfx/w/svg/wt-1.svg\" title=\"Sunny. Cool.\" width=\"40\"/></td><td class=\"rbi\">12 °C</td></tr><tr><td><a href=\"/weather/guatemala/guatemala\">Guatemala City</a><span class=\"wds\" id=\"p49s\"></span></td><td class=\"r\" id=\"p49\">월요일 오후 05:56.</td><td class=\"r\"><img alt=\"Scattered clouds. Mild.\" height=\"40\" src=\"//c.tadst.com/gfx/w/svg/wt-2.svg\" title=\"Scattered clouds. Mild.\" width=\"40\"/></td><td class=\"rbi\">23 °C</td><td><a href=\"/weather/singapore/singapore\">Singapore</a><span class=\"wds\" id=\"p119s\"></span></td><td class=\"r\" id=\"p119\">화요일 오전 07:56.</td><td class=\"r\"><img alt=\"Passing clouds. Warm.\" height=\"40\" src=\"//c.tadst.com/gfx/w/svg/wt-2.svg\" title=\"Passing clouds. Warm.\" width=\"40\"/></td><td class=\"rbi\">26 °C</td></tr><tr><td><a href=\"/weather/canada/halifax\">Halifax</a><span class=\"wds\" id=\"p50s\"> *</span></td><td class=\"r\" id=\"p50\">월요일 오후 08:56.</td><td class=\"r\"><img alt=\"Ice fog. Chilly.\" height=\"40\" src=\"//c.tadst.com/gfx/w/svg/wt-14.svg\" title=\"Ice fog. Chilly.\" width=\"40\"/></td><td class=\"rbi\">-2 °C</td><td><a href=\"/weather/bulgaria/sofia\">Sofia</a><span class=\"wds\" id=\"p120s\"> *</span></td><td class=\"r\" id=\"p120\">화요일 오전 02:56.</td><td class=\"r\"><img alt=\"Passing clouds. Quite cool.\" height=\"40\" src=\"//c.tadst.com/gfx/w/svg/wt-14.svg\" title=\"Passing clouds. Quite cool.\" width=\"40\"/></td><td class=\"rbi\">6 °C</td></tr><tr><td><a href=\"/weather/vietnam/hanoi\">Hanoi</a><span class=\"wds\" id=\"p51s\"></span></td><td class=\"r\" id=\"p51\">화요일 오전 06:56.</td><td class=\"r\"><img alt=\"Clear. Mild.\" height=\"40\" src=\"//c.tadst.com/gfx/w/svg/wt-1.svg\" title=\"Clear. Mild.\" width=\"40\"/></td><td class=\"rbi\">17 °C</td><td><a href=\"/weather/canada/st-johns\">St. John's</a><span class=\"wds\" id=\"p121s\"> *</span></td><td class=\"r\" id=\"p121\">월요일 오후 09:26.</td><td class=\"r\"><img alt=\"Light rain. Fog. Chilly.\" height=\"40\" src=\"//c.tadst.com/gfx/w/svg/wt-34.svg\" title=\"Light rain. Fog. Chilly.\" width=\"40\"/></td><td class=\"rbi\">1 °C</td></tr><tr><td><a href=\"/weather/zimbabwe/harare\">Harare</a><span class=\"wds\" id=\"p52s\"></span></td><td class=\"r\" id=\"p52\">화요일 오전 01:56.</td><td class=\"r\"><img alt=\"Low clouds.\" height=\"40\" src=\"//c.tadst.com/gfx/w/svg/wt-17.svg\" title=\"Low clouds.\" width=\"40\"/></td><td class=\"rbi\">N/A</td><td><a href=\"/weather/sweden/stockholm\">Stockholm</a><span class=\"wds\" id=\"p122s\"> *</span></td><td class=\"r\" id=\"p122\">화요일 오전 01:56.</td><td class=\"r\"><img alt=\"Light snow. Ice fog. Chilly.\" height=\"40\" src=\"//c.tadst.com/gfx/w/svg/wt-30.svg\" title=\"Light snow. Ice fog. Chilly.\" width=\"40\"/></td><td class=\"rbi\">-1 °C</td></tr><tr><td><a href=\"/weather/cuba/havana\">Havana</a><span class=\"wds\" id=\"p53s\"> *</span></td><td class=\"r\" id=\"p53\">월요일 오후 07:56.</td><td class=\"r\"><img alt=\"Scattered clouds. Warm.\" height=\"40\" src=\"//c.tadst.com/gfx/w/svg/wt-15.svg\" title=\"Scattered clouds. Warm.\" width=\"40\"/></td><td class=\"rbi\">29 °C</td><td><a href=\"/weather/fiji/suva\">Suva</a><span class=\"wds\" id=\"p123s\"></span></td><td class=\"r\" id=\"p123\">화요일 오전 11:56.</td><td class=\"r\"><img alt=\"Passing clouds. Warm.\" height=\"40\" src=\"//c.tadst.com/gfx/w/svg/wt-2.svg\" title=\"Passing clouds. Warm.\" width=\"40\"/></td><td class=\"rbi\">28 °C</td></tr><tr><td><a href=\"/weather/finland/helsinki\">Helsinki</a><span class=\"wds\" id=\"p54s\"> *</span></td><td class=\"r\" id=\"p54\">화요일 오전 02:56.</td><td class=\"r\"><img alt=\"Light snow. Partly cloudy. Chilly.\" height=\"40\" src=\"//c.tadst.com/gfx/w/svg/wt-30.svg\" title=\"Light snow. Partly cloudy. Chilly.\" width=\"40\"/></td><td class=\"rbi\">1 °C</td><td><a href=\"/weather/australia/sydney\">Sydney</a><span class=\"wds\" id=\"p124s\"></span></td><td class=\"r\" id=\"p124\">화요일 오전 09:56.</td><td class=\"r\"><img alt=\"Passing clouds. Mild.\" height=\"40\" src=\"//c.tadst.com/gfx/w/svg/wt-2.svg\" title=\"Passing clouds. Mild.\" width=\"40\"/></td><td class=\"rbi\">23 °C</td></tr><tr><td><a href=\"/weather/hong-kong/hong-kong\">Hong Kong</a><span class=\"wds\" id=\"p55s\"></span></td><td class=\"r\" id=\"p55\">화요일 오전 07:56.</td><td class=\"r\"><img alt=\"Sunny. Mild.\" height=\"40\" src=\"//c.tadst.com/gfx/w/svg/wt-1.svg\" title=\"Sunny. Mild.\" width=\"40\"/></td><td class=\"rbi\">19 °C</td><td><a href=\"/weather/taiwan/taipei\">Taipei</a><span class=\"wds\" id=\"p125s\"></span></td><td class=\"r\" id=\"p125\">화요일 오전 07:56.</td><td class=\"r\"><img alt=\"Partly sunny. Mild.\" height=\"40\" src=\"//c.tadst.com/gfx/w/svg/wt-6.svg\" title=\"Partly sunny. Mild.\" width=\"40\"/></td><td class=\"rbi\">19 °C</td></tr><tr><td><a href=\"/weather/usa/honolulu\">Honolulu</a><span class=\"wds\" id=\"p56s\"></span></td><td class=\"r\" id=\"p56\">월요일 오후 01:56.</td><td class=\"r\"><img alt=\"Partly sunny. Warm.\" height=\"40\" src=\"//c.tadst.com/gfx/w/svg/wt-6.svg\" title=\"Partly sunny. Warm.\" width=\"40\"/></td><td class=\"rbi\">28 °C</td><td><a href=\"/weather/estonia/tallinn\">Tallinn</a><span class=\"wds\" id=\"p126s\"> *</span></td><td class=\"r\" id=\"p126\">화요일 오전 02:56.</td><td class=\"r\"><img alt=\"Light rain. Mostly cloudy. Chilly.\" height=\"40\" src=\"//c.tadst.com/gfx/w/svg/wt-34.svg\" title=\"Light rain. Mostly cloudy. Chilly.\" width=\"40\"/></td><td class=\"rbi\">1 °C</td></tr><tr><td><a href=\"/weather/usa/houston\">Houston</a><span class=\"wds\" id=\"p57s\"> *</span></td><td class=\"r\" id=\"p57\">월요일 오후 06:56.</td><td class=\"r\"><img alt=\"Fog. Mild.\" height=\"40\" src=\"//c.tadst.com/gfx/w/svg/wt-9.svg\" title=\"Fog. Mild.\" width=\"40\"/></td><td class=\"rbi\">22 °C</td><td><a href=\"/weather/uzbekistan/tashkent\">Tashkent</a><span class=\"wds\" id=\"p127s\"></span></td><td class=\"r\" id=\"p127\">화요일 오전 04:56.</td><td class=\"r\"><img alt=\"Passing clouds. Refreshingly cool.\" height=\"40\" src=\"//c.tadst.com/gfx/w/svg/wt-14.svg\" title=\"Passing clouds. Refreshingly cool.\" width=\"40\"/></td><td class=\"rbi\">16 °C</td></tr><tr><td><a href=\"/weather/usa/indianapolis\">Indianapolis</a><span class=\"wds\" id=\"p58s\"> *</span></td><td class=\"r\" id=\"p58\">월요일 오후 07:56.</td><td class=\"r\"><img alt=\"Partly sunny. Refreshingly cool.\" height=\"40\" src=\"//c.tadst.com/gfx/w/svg/wt-6.svg\" title=\"Partly sunny. Refreshingly cool.\" width=\"40\"/></td><td class=\"rbi\">17 °C</td><td><a href=\"/weather/honduras/tegucigalpa\">Tegucigalpa</a><span class=\"wds\" id=\"p128s\"></span></td><td class=\"r\" id=\"p128\">월요일 오후 05:56.</td><td class=\"r\"><img alt=\"Scattered clouds. Warm.\" height=\"40\" src=\"//c.tadst.com/gfx/w/svg/wt-2.svg\" title=\"Scattered clouds. Warm.\" width=\"40\"/></td><td class=\"rbi\">29 °C</td></tr><tr><td><a href=\"/weather/pakistan/islamabad\">Islamabad</a><span class=\"wds\" id=\"p59s\"></span></td><td class=\"r\" id=\"p59\">화요일 오전 04:56.</td><td class=\"r\"><img alt=\"Clear. Mild.\" height=\"40\" src=\"//c.tadst.com/gfx/w/svg/wt-13.svg\" title=\"Clear. Mild.\" width=\"40\"/></td><td class=\"rbi\">22 °C</td><td><a href=\"/weather/iran/tehran\">Tehran</a><span class=\"wds\" id=\"p129s\"> *</span></td><td class=\"r\" id=\"p129\">화요일 오전 04:26.</td><td class=\"r\"><img alt=\"Clear. Mild.\" height=\"40\" src=\"//c.tadst.com/gfx/w/svg/wt-13.svg\" title=\"Clear. Mild.\" width=\"40\"/></td><td class=\"rbi\">19 °C</td></tr><tr><td><a href=\"/weather/turkey/istanbul\">Istanbul</a><span class=\"wds\" id=\"p60s\"></span></td><td class=\"r\" id=\"p60\">화요일 오전 02:56.</td><td class=\"r\"><img alt=\"Sprinkles. Passing clouds. Cool.\" height=\"40\" src=\"//c.tadst.com/gfx/w/svg/wt-34.svg\" title=\"Sprinkles. Passing clouds. Cool.\" width=\"40\"/></td><td class=\"rbi\">9 °C</td><td><a href=\"/weather/japan/tokyo\">Tokyo</a><span class=\"wds\" id=\"p130s\"></span></td><td class=\"r\" id=\"p130\">화요일 오전 08:56.</td><td class=\"r\"><img alt=\"Overcast. Cool.\" height=\"40\" src=\"//c.tadst.com/gfx/w/svg/wt-7.svg\" title=\"Overcast. Cool.\" width=\"40\"/></td><td class=\"rbi\">10 °C</td></tr><tr><td><a href=\"/weather/indonesia/jakarta\">Jakarta</a><span class=\"wds\" id=\"p61s\"></span></td><td class=\"r\" id=\"p61\">화요일 오전 06:56.</td><td class=\"r\"><img alt=\"Passing clouds. Warm.\" height=\"40\" src=\"//c.tadst.com/gfx/w/svg/wt-2.svg\" title=\"Passing clouds. Warm.\" width=\"40\"/></td><td class=\"rbi\">27 °C</td><td><a href=\"/weather/canada/toronto\">Toronto</a><span class=\"wds\" id=\"p131s\"> *</span></td><td class=\"r\" id=\"p131\">월요일 오후 07:56.</td><td class=\"r\"><img alt=\"More clouds than sun. Quite cool.\" height=\"40\" src=\"//c.tadst.com/gfx/w/svg/wt-17.svg\" title=\"More clouds than sun. Quite cool.\" width=\"40\"/></td><td class=\"rbi\">5 °C</td></tr><tr><td><a href=\"/weather/israel/jerusalem\">Jerusalem</a><span class=\"wds\" id=\"p62s\"> *</span></td><td class=\"r\" id=\"p62\">화요일 오전 02:56.</td><td class=\"r\"><img alt=\"Clear. Cool.\" height=\"40\" src=\"//c.tadst.com/gfx/w/svg/wt-13.svg\" title=\"Clear. Cool.\" width=\"40\"/></td><td class=\"rbi\">15 °C</td><td><a href=\"/weather/canada/vancouver\">Vancouver</a><span class=\"wds\" id=\"p132s\"> *</span></td><td class=\"r\" id=\"p132\">월요일 오후 04:56.</td><td class=\"r\"><img alt=\"Partly sunny. Cool.\" height=\"40\" src=\"//c.tadst.com/gfx/w/svg/wt-6.svg\" title=\"Partly sunny. Cool.\" width=\"40\"/></td><td class=\"rbi\">8 °C</td></tr><tr><td><a href=\"/weather/south-africa/johannesburg\">Johannesburg</a><span class=\"wds\" id=\"p63s\"></span></td><td class=\"r\" id=\"p63\">화요일 오전 01:56.</td><td class=\"r\"><img alt=\"Partly sunny. Cool.\" height=\"40\" src=\"//c.tadst.com/gfx/w/svg/wt-17.svg\" title=\"Partly sunny. Cool.\" width=\"40\"/></td><td class=\"rbi\">16 °C</td><td><a href=\"/weather/austria/vienna\">Vienna</a><span class=\"wds\" id=\"p133s\"> *</span></td><td class=\"r\" id=\"p133\">화요일 오전 01:56.</td><td class=\"r\"><img alt=\"Passing clouds. Quite cool.\" height=\"40\" src=\"//c.tadst.com/gfx/w/svg/wt-14.svg\" title=\"Passing clouds. Quite cool.\" width=\"40\"/></td><td class=\"rbi\">7 °C</td></tr><tr><td><a href=\"/weather/pakistan/karachi\">Karachi</a><span class=\"wds\" id=\"p64s\"></span></td><td class=\"r\" id=\"p64\">화요일 오전 04:56.</td><td class=\"r\"><img alt=\"Clear. Mild.\" height=\"40\" src=\"//c.tadst.com/gfx/w/svg/wt-13.svg\" title=\"Clear. Mild.\" width=\"40\"/></td><td class=\"rbi\">24 °C</td><td><a href=\"/weather/poland/warsaw\">Warsaw</a><span class=\"wds\" id=\"p134s\"> *</span></td><td class=\"r\" id=\"p134\">화요일 오전 01:56.</td><td class=\"r\"><img alt=\"Light rain. Passing clouds. Chilly.\" height=\"40\" src=\"//c.tadst.com/gfx/w/svg/wt-34.svg\" title=\"Light rain. Passing clouds. Chilly.\" width=\"40\"/></td><td class=\"rbi\">4 °C</td></tr><tr><td><a href=\"/weather/nepal/kathmandu\">Kathmandu</a><span class=\"wds\" id=\"p65s\"></span></td><td class=\"r\" id=\"p65\">화요일 오전 05:41.</td><td class=\"r\"><img alt=\"Passing clouds. Pleasantly warm.\" height=\"40\" src=\"//c.tadst.com/gfx/w/svg/wt-14.svg\" title=\"Passing clouds. Pleasantly warm.\" width=\"40\"/></td><td class=\"rbi\">28 °C</td><td><a href=\"/weather/usa/washington-dc\">Washington DC</a><span class=\"wds\" id=\"p135s\"> *</span></td><td class=\"r\" id=\"p135\">월요일 오후 07:56.</td><td class=\"r\"><img alt=\"Mostly cloudy. Cool.\" height=\"40\" src=\"//c.tadst.com/gfx/w/svg/wt-17.svg\" title=\"Mostly cloudy. Cool.\" width=\"40\"/></td><td class=\"rbi\">12 °C</td></tr><tr><td><a href=\"/weather/jamaica/kingston\">Kingston</a><span class=\"wds\" id=\"p66s\"></span></td><td class=\"r\" id=\"p66\">월요일 오후 06:56.</td><td class=\"r\"><img alt=\"Overcast. Warm.\" height=\"40\" src=\"//c.tadst.com/gfx/w/svg/wt-7.svg\" title=\"Overcast. Warm.\" width=\"40\"/></td><td class=\"rbi\">28 °C</td><td><a href=\"/weather/canada/winnipeg\">Winnipeg</a><span class=\"wds\" id=\"p136s\"> *</span></td><td class=\"r\" id=\"p136\">월요일 오후 06:56.</td><td class=\"r\"><img alt=\"Quite cool.\" height=\"40\" src=\"//c.tadst.com/gfx/w/svg/wt-6.svg\" title=\"Quite cool.\" width=\"40\"/></td><td class=\"rbi\">7 °C</td></tr><tr><td><a href=\"/weather/congo-demrep/kinshasa\">Kinshasa</a><span class=\"wds\" id=\"p67s\"></span></td><td class=\"r\" id=\"p67\">화요일 오전 12:56.</td><td class=\"r\"><img alt=\"Thunderstorms. Passing clouds. Warm.\" height=\"40\" src=\"//c.tadst.com/gfx/w/svg/wt-22.svg\" title=\"Thunderstorms. Passing clouds. Warm.\" width=\"40\"/></td><td class=\"rbi\">26 °C</td><td><a href=\"/weather/myanmar/yangon\">Yangon</a><span class=\"wds\" id=\"p137s\"></span></td><td class=\"r\" id=\"p137\">화요일 오전 06:26.</td><td class=\"r\"><img alt=\"Clear. Warm.\" height=\"40\" src=\"//c.tadst.com/gfx/w/svg/wt-1.svg\" title=\"Clear. Warm.\" width=\"40\"/></td><td class=\"rbi\">26 °C</td></tr><tr><td><a href=\"/weather/kiribati/kiritimati\">Kiritimati</a><span class=\"wds\" id=\"p68s\"></span></td><td class=\"r\" id=\"p68\">화요일 오후 01:56.</td><td class=\"r\"><img alt=\"Passing clouds. Warm.\" height=\"40\" src=\"//c.tadst.com/gfx/w/svg/wt-2.svg\" title=\"Passing clouds. Warm.\" width=\"40\"/></td><td class=\"rbi\">30 °C</td><td><a href=\"/weather/croatia/zagreb\">Zagreb</a><span class=\"wds\" id=\"p138s\"> *</span></td><td class=\"r\" id=\"p138\">화요일 오전 01:56.</td><td class=\"r\"><img alt=\"Clear. Chilly.\" height=\"40\" src=\"//c.tadst.com/gfx/w/svg/wt-13.svg\" title=\"Clear. Chilly.\" width=\"40\"/></td><td class=\"rbi\">3 °C</td></tr><tr><td><a href=\"/weather/india/kolkata\">Kolkata</a><span class=\"wds\" id=\"p69s\"></span></td><td class=\"r\" id=\"p69\">화요일 오전 05:26.</td><td class=\"r\"><img alt=\"Passing clouds. Warm.\" height=\"40\" src=\"//c.tadst.com/gfx/w/svg/wt-14.svg\" title=\"Passing clouds. Warm.\" width=\"40\"/></td><td class=\"rbi\">27 °C</td><td><a href=\"/weather/switzerland/zurich\">Zürich</a><span class=\"wds\" id=\"p139s\"> *</span></td><td class=\"r\" id=\"p139\">화요일 오전 01:56.</td><td class=\"r\"><img alt=\"Quite cool.\" height=\"40\" src=\"//c.tadst.com/gfx/w/svg/wt-17.svg\" title=\"Quite cool.\" width=\"40\"/></td><td class=\"rbi\">5 °C</td></tr></table>"
      ]
     },
     "execution_count": 2,
     "metadata": {},
     "output_type": "execute_result"
    }
   ],
   "source": [
    "import pandas as pd\n",
    "import requests\n",
    "import bs4\n",
    "\n",
    "targetUrl=\"https://www.timeanddate.com/weather/\"\n",
    "resp = requests.get(targetUrl)\n",
    "resp.encoding='utf-8'\n",
    "\n",
    "html = resp.text\n",
    "\n",
    "bs = bs4.BeautifulSoup(html,'html.parser')\n",
    "\n",
    "tabletag = bs.find(\"table\",{\"class\":\"zebra fw tb-theme\"})\n",
    "tabletag"
   ]
  },
  {
   "cell_type": "code",
   "execution_count": 3,
   "id": "44349484-40d1-4eec-9cea-dd7350c2db1b",
   "metadata": {},
   "outputs": [],
   "source": [
    "### 전략!!\n",
    "columnList = []\n",
    "rowList = []\n",
    "nameList = []"
   ]
  },
  {
   "cell_type": "code",
   "execution_count": 5,
   "id": "a354a860-9596-4d3e-962e-e4c78dccd86e",
   "metadata": {
    "collapsed": true,
    "jupyter": {
     "outputs_hidden": true
    },
    "tags": []
   },
   "outputs": [
    {
     "data": {
      "text/plain": [
       "[<tr><th colspan=\"8\"><h3 class=\"tb-header\">Local Time and Weather  Around the World </h3><div class=\"tb-show\"><form action=\"/scripts/gowc.php\" aria-hidden=\"true\" class=\"inline\" id=\"wc-sort\" method=\"get\" name=\"wc-sort\"><label for=\"sort\">Sort By: </label><select id=\"sort\" name=\"sort\" onchange=\"this.form.submit()\"><option selected=\"\" value=\"0\">City</option><option value=\"1\">Country</option><option value=\"2\">Time</option><option value=\"6\">Temperature</option></select><input name=\"url\" type=\"hidden\" value=\"/weather/\"/><input name=\"args\" type=\"hidden\" value=\"\"/></form></div><div class=\"tb-show mgr10\"><form action=\"/scripts/gowc.php\" aria-hidden=\"true\" class=\"inline\" id=\"wc-shown\" method=\"get\" name=\"wc-shown\"><label for=\"pop\">Cities Shown: </label><select id=\"pop\" name=\"low\" onchange=\"this.form.submit();\"><option value=\"c\">Capitals (215)</option><option selected=\"\" value=\"6\">Most Popular (143)</option><option value=\"5\">Popular (356)</option><option value=\"4\">Somewhat Popular (469)</option></select><input name=\"url\" type=\"hidden\" value=\"/weather/\"/><input name=\"args\" type=\"hidden\" value=\"\"/></form></div></th></tr>,\n",
       " <tr><td><a href=\"/weather/ghana/accra\">Accra</a><span class=\"wds\" id=\"p0s\"></span></td><td class=\"r\" id=\"p0\">월요일 오후 11:56.</td><td class=\"r\"><img alt=\"Passing clouds. Warm.\" height=\"40\" src=\"//c.tadst.com/gfx/w/svg/wt-14.svg\" title=\"Passing clouds. Warm.\" width=\"40\"/></td><td class=\"rbi\">29 °C</td><td><a href=\"/weather/malaysia/kuala-lumpur\">Kuala Lumpur</a><span class=\"wds\" id=\"p70s\"></span></td><td class=\"r\" id=\"p70\">화요일 오전 07:56.</td><td class=\"r\"><img alt=\"Passing clouds. Warm.\" height=\"40\" src=\"//c.tadst.com/gfx/w/svg/wt-2.svg\" title=\"Passing clouds. Warm.\" width=\"40\"/></td><td class=\"rbi\">25 °C</td></tr>,\n",
       " <tr><td><a href=\"/weather/ethiopia/addis-ababa\">Addis Ababa</a><span class=\"wds\" id=\"p1s\"></span></td><td class=\"r\" id=\"p1\">화요일 오전 02:56.</td><td class=\"r\"><img alt=\"Passing clouds. Mild.\" height=\"40\" src=\"//c.tadst.com/gfx/w/svg/wt-14.svg\" title=\"Passing clouds. Mild.\" width=\"40\"/></td><td class=\"rbi\">18 °C</td><td><a href=\"/weather/kuwait/kuwait-city\">Kuwait City</a><span class=\"wds\" id=\"p71s\"></span></td><td class=\"r\" id=\"p71\">화요일 오전 02:56.</td><td class=\"r\"><img alt=\"Clear. Mild.\" height=\"40\" src=\"//c.tadst.com/gfx/w/svg/wt-13.svg\" title=\"Clear. Mild.\" width=\"40\"/></td><td class=\"rbi\">23 °C</td></tr>,\n",
       " <tr><td><a href=\"/weather/australia/adelaide\">Adelaide</a><span class=\"wds\" id=\"p2s\"></span></td><td class=\"r\" id=\"p2\">화요일 오전 09:26.</td><td class=\"r\"><img alt=\"Mild.\" height=\"40\" src=\"//c.tadst.com/gfx/w/svg/wt-5.svg\" title=\"Mild.\" width=\"40\"/></td><td class=\"rbi\">19 °C</td><td><a href=\"/weather/ukraine/kyiv\">Kyiv</a><span class=\"wds\" id=\"p72s\"> *</span></td><td class=\"r\" id=\"p72\">화요일 오전 02:56.</td><td class=\"r\"><img alt=\"Clear. Chilly.\" height=\"40\" src=\"//c.tadst.com/gfx/w/svg/wt-13.svg\" title=\"Clear. Chilly.\" width=\"40\"/></td><td class=\"rbi\">0 °C</td></tr>,\n",
       " <tr><td><a href=\"/weather/algeria/algiers\">Algiers</a><span class=\"wds\" id=\"p3s\"></span></td><td class=\"r\" id=\"p3\">화요일 오전 12:56.</td><td class=\"r\"><img alt=\"Light rain. Overcast. Cool.\" height=\"40\" src=\"//c.tadst.com/gfx/w/svg/wt-34.svg\" title=\"Light rain. Overcast. Cool.\" width=\"40\"/></td><td class=\"rbi\">14 °C</td><td><a href=\"/weather/bolivia/la-paz\">La Paz</a><span class=\"wds\" id=\"p73s\"></span></td><td class=\"r\" id=\"p73\">월요일 오후 07:56.</td><td class=\"r\"><img alt=\"Partly sunny. Cool.\" height=\"40\" src=\"//c.tadst.com/gfx/w/svg/wt-17.svg\" title=\"Partly sunny. Cool.\" width=\"40\"/></td><td class=\"rbi\">11 °C</td></tr>,\n",
       " <tr><td><a href=\"/weather/kazakstan/almaty\">Almaty</a><span class=\"wds\" id=\"p4s\"></span></td><td class=\"r\" id=\"p4\">화요일 오전 05:56.</td><td class=\"r\"><img alt=\"Passing clouds. Cool.\" height=\"40\" src=\"//c.tadst.com/gfx/w/svg/wt-14.svg\" title=\"Passing clouds. Cool.\" width=\"40\"/></td><td class=\"rbi\">9 °C</td><td><a href=\"/weather/nigeria/lagos\">Lagos</a><span class=\"wds\" id=\"p74s\"></span></td><td class=\"r\" id=\"p74\">화요일 오전 12:56.</td><td class=\"r\"><img alt=\"Passing clouds. Warm.\" height=\"40\" src=\"//c.tadst.com/gfx/w/svg/wt-14.svg\" title=\"Passing clouds. Warm.\" width=\"40\"/></td><td class=\"rbi\">29 °C</td></tr>,\n",
       " <tr><td><a href=\"/weather/jordan/amman\">Amman</a><span class=\"wds\" id=\"p5s\"> *</span></td><td class=\"r\" id=\"p5\">화요일 오전 02:56.</td><td class=\"r\"><img alt=\"Clear. Mild.\" height=\"40\" src=\"//c.tadst.com/gfx/w/svg/wt-13.svg\" title=\"Clear. Mild.\" width=\"40\"/></td><td class=\"rbi\">17 °C</td><td><a href=\"/weather/pakistan/lahore\">Lahore</a><span class=\"wds\" id=\"p75s\"></span></td><td class=\"r\" id=\"p75\">화요일 오전 04:56.</td><td class=\"r\"><img alt=\"Clear. Mild.\" height=\"40\" src=\"//c.tadst.com/gfx/w/svg/wt-13.svg\" title=\"Clear. Mild.\" width=\"40\"/></td><td class=\"rbi\">24 °C</td></tr>,\n",
       " <tr><td><a href=\"/weather/netherlands/amsterdam\">Amsterdam</a><span class=\"wds\" id=\"p6s\"> *</span></td><td class=\"r\" id=\"p6\">화요일 오전 01:56.</td><td class=\"r\"><img alt=\"Partly cloudy. Cool.\" height=\"40\" src=\"//c.tadst.com/gfx/w/svg/wt-15.svg\" title=\"Partly cloudy. Cool.\" width=\"40\"/></td><td class=\"rbi\">9 °C</td><td><a href=\"/weather/usa/las-vegas\">Las Vegas</a><span class=\"wds\" id=\"p76s\"> *</span></td><td class=\"r\" id=\"p76\">월요일 오후 04:56.</td><td class=\"r\"><img alt=\"Scattered clouds. Mild.\" height=\"40\" src=\"//c.tadst.com/gfx/w/svg/wt-2.svg\" title=\"Scattered clouds. Mild.\" width=\"40\"/></td><td class=\"rbi\">24 °C</td></tr>,\n",
       " <tr><td><a href=\"/weather/russia/anadyr\">Anadyr</a><span class=\"wds\" id=\"p7s\"></span></td><td class=\"r\" id=\"p7\">화요일 오전 11:56.</td><td class=\"r\"><img alt=\"Passing clouds. Extremely cold.\" height=\"40\" src=\"//c.tadst.com/gfx/w/svg/wt-2.svg\" title=\"Passing clouds. Extremely cold.\" width=\"40\"/></td><td class=\"rbi\">-24 °C</td><td><a href=\"/weather/peru/lima\">Lima</a><span class=\"wds\" id=\"p77s\"></span></td><td class=\"r\" id=\"p77\">월요일 오후 06:56.</td><td class=\"r\"><img alt=\"Scattered clouds. Mild.\" height=\"40\" src=\"//c.tadst.com/gfx/w/svg/wt-15.svg\" title=\"Scattered clouds. Mild.\" width=\"40\"/></td><td class=\"rbi\">21 °C</td></tr>,\n",
       " <tr><td><a href=\"/weather/usa/anchorage\">Anchorage</a><span class=\"wds\" id=\"p8s\"> *</span></td><td class=\"r\" id=\"p8\">월요일 오후 03:56.</td><td class=\"r\"><img alt=\"Partly sunny. Chilly.\" height=\"40\" src=\"//c.tadst.com/gfx/w/svg/wt-6.svg\" title=\"Partly sunny. Chilly.\" width=\"40\"/></td><td class=\"rbi\">3 °C</td><td><a href=\"/weather/portugal/lisbon\">Lisbon</a><span class=\"wds\" id=\"p78s\"> *</span></td><td class=\"r\" id=\"p78\">화요일 오전 12:56.</td><td class=\"r\"><img alt=\"Clear. Cool.\" height=\"40\" src=\"//c.tadst.com/gfx/w/svg/wt-13.svg\" title=\"Clear. Cool.\" width=\"40\"/></td><td class=\"rbi\">12 °C</td></tr>,\n",
       " <tr><td><a href=\"/weather/turkey/ankara\">Ankara</a><span class=\"wds\" id=\"p9s\"></span></td><td class=\"r\" id=\"p9\">화요일 오전 02:56.</td><td class=\"r\"><img alt=\"Passing clouds. Cool.\" height=\"40\" src=\"//c.tadst.com/gfx/w/svg/wt-14.svg\" title=\"Passing clouds. Cool.\" width=\"40\"/></td><td class=\"rbi\">9 °C</td><td><a href=\"/weather/uk/london\">London</a><span class=\"wds\" id=\"p79s\"> *</span></td><td class=\"r\" id=\"p79\">화요일 오전 12:56.</td><td class=\"r\"><img alt=\"Overcast. Cool.\" height=\"40\" src=\"//c.tadst.com/gfx/w/svg/wt-17.svg\" title=\"Overcast. Cool.\" width=\"40\"/></td><td class=\"rbi\">13 °C</td></tr>,\n",
       " <tr><td><a href=\"/weather/madagascar/antananarivo\">Antananarivo</a><span class=\"wds\" id=\"p10s\"></span></td><td class=\"r\" id=\"p10\">화요일 오전 02:56.</td><td class=\"r\"><img alt=\"Passing clouds. Mild.\" height=\"40\" src=\"//c.tadst.com/gfx/w/svg/wt-14.svg\" title=\"Passing clouds. Mild.\" width=\"40\"/></td><td class=\"rbi\">17 °C</td><td><a href=\"/weather/usa/los-angeles\">Los Angeles</a><span class=\"wds\" id=\"p80s\"> *</span></td><td class=\"r\" id=\"p80\">월요일 오후 04:56.</td><td class=\"r\"><img alt=\"Sunny. Mild.\" height=\"40\" src=\"//c.tadst.com/gfx/w/svg/wt-1.svg\" title=\"Sunny. Mild.\" width=\"40\"/></td><td class=\"rbi\">18 °C</td></tr>,\n",
       " <tr><td><a href=\"/weather/paraguay/asuncion\">Asuncion</a><span class=\"wds\" id=\"p11s\"></span></td><td class=\"r\" id=\"p11\">월요일 오후 07:56.</td><td class=\"r\"><img alt=\"Passing clouds. Mild.\" height=\"40\" src=\"//c.tadst.com/gfx/w/svg/wt-14.svg\" title=\"Passing clouds. Mild.\" width=\"40\"/></td><td class=\"rbi\">24 °C</td><td><a href=\"/weather/spain/madrid\">Madrid</a><span class=\"wds\" id=\"p81s\"> *</span></td><td class=\"r\" id=\"p81\">화요일 오전 01:56.</td><td class=\"r\"><img alt=\"Passing clouds. Quite cool.\" height=\"40\" src=\"//c.tadst.com/gfx/w/svg/wt-14.svg\" title=\"Passing clouds. Quite cool.\" width=\"40\"/></td><td class=\"rbi\">7 °C</td></tr>,\n",
       " <tr><td><a href=\"/weather/greece/athens\">Athens</a><span class=\"wds\" id=\"p12s\"> *</span></td><td class=\"r\" id=\"p12\">화요일 오전 02:56.</td><td class=\"r\"><img alt=\"Passing clouds. Refreshingly cool.\" height=\"40\" src=\"//c.tadst.com/gfx/w/svg/wt-14.svg\" title=\"Passing clouds. Refreshingly cool.\" width=\"40\"/></td><td class=\"rbi\">15 °C</td><td><a href=\"/weather/nicaragua/managua\">Managua</a><span class=\"wds\" id=\"p82s\"></span></td><td class=\"r\" id=\"p82\">월요일 오후 05:56.</td><td class=\"r\"><img alt=\"Scattered clouds. Hot.\" height=\"40\" src=\"//c.tadst.com/gfx/w/svg/wt-15.svg\" title=\"Scattered clouds. Hot.\" width=\"40\"/></td><td class=\"rbi\">33 °C</td></tr>,\n",
       " <tr><td><a href=\"/weather/usa/atlanta\">Atlanta</a><span class=\"wds\" id=\"p13s\"> *</span></td><td class=\"r\" id=\"p13\">월요일 오후 07:56.</td><td class=\"r\"><img alt=\"Sunny. Mild.\" height=\"40\" src=\"//c.tadst.com/gfx/w/svg/wt-1.svg\" title=\"Sunny. Mild.\" width=\"40\"/></td><td class=\"rbi\">24 °C</td><td><a href=\"/weather/philippines/manila\">Manila</a><span class=\"wds\" id=\"p83s\"></span></td><td class=\"r\" id=\"p83\">화요일 오전 07:56.</td><td class=\"r\"><img alt=\"Sprinkles. Overcast. Warm.\" height=\"40\" src=\"//c.tadst.com/gfx/w/svg/wt-33.svg\" title=\"Sprinkles. Overcast. Warm.\" width=\"40\"/></td><td class=\"rbi\">26 °C</td></tr>,\n",
       " <tr><td><a href=\"/weather/new-zealand/auckland\">Auckland</a><span class=\"wds\" id=\"p14s\"></span></td><td class=\"r\" id=\"p14\">화요일 오전 11:56.</td><td class=\"r\"><img alt=\"Overcast. Mild.\" height=\"40\" src=\"//c.tadst.com/gfx/w/svg/wt-7.svg\" title=\"Overcast. Mild.\" width=\"40\"/></td><td class=\"rbi\">22 °C</td><td><a href=\"/weather/australia/melbourne\">Melbourne</a><span class=\"wds\" id=\"p84s\"></span></td><td class=\"r\" id=\"p84\">화요일 오전 09:56.</td><td class=\"r\"><img alt=\"Low clouds. Cool.\" height=\"40\" src=\"//c.tadst.com/gfx/w/svg/wt-7.svg\" title=\"Low clouds. Cool.\" width=\"40\"/></td><td class=\"rbi\">12 °C</td></tr>,\n",
       " <tr><td><a href=\"/weather/iraq/baghdad\">Baghdad</a><span class=\"wds\" id=\"p15s\"></span></td><td class=\"r\" id=\"p15\">화요일 오전 02:56.</td><td class=\"r\"><img alt=\"Clear. Mild.\" height=\"40\" src=\"//c.tadst.com/gfx/w/svg/wt-13.svg\" title=\"Clear. Mild.\" width=\"40\"/></td><td class=\"rbi\">23 °C</td><td><a href=\"/weather/mexico/mexico-city\">Mexico City</a><span class=\"wds\" id=\"p85s\"> *</span></td><td class=\"r\" id=\"p85\">월요일 오후 06:56.</td><td class=\"r\"><img alt=\"Passing clouds. Pleasantly warm.\" height=\"40\" src=\"//c.tadst.com/gfx/w/svg/wt-2.svg\" title=\"Passing clouds. Pleasantly warm.\" width=\"40\"/></td><td class=\"rbi\">27 °C</td></tr>,\n",
       " <tr><td><a href=\"/weather/thailand/bangkok\">Bangkok</a><span class=\"wds\" id=\"p16s\"></span></td><td class=\"r\" id=\"p16\">화요일 오전 06:56.</td><td class=\"r\"><img alt=\"Passing clouds. Warm.\" height=\"40\" src=\"//c.tadst.com/gfx/w/svg/wt-2.svg\" title=\"Passing clouds. Warm.\" width=\"40\"/></td><td class=\"rbi\">25 °C</td><td><a href=\"/weather/usa/miami\">Miami</a><span class=\"wds\" id=\"p86s\"> *</span></td><td class=\"r\" id=\"p86\">월요일 오후 07:56.</td><td class=\"r\"><img alt=\"Broken clouds. Warm.\" height=\"40\" src=\"//c.tadst.com/gfx/w/svg/wt-17.svg\" title=\"Broken clouds. Warm.\" width=\"40\"/></td><td class=\"rbi\">25 °C</td></tr>,\n",
       " <tr><td><a href=\"/weather/spain/barcelona\">Barcelona</a><span class=\"wds\" id=\"p17s\"> *</span></td><td class=\"r\" id=\"p17\">화요일 오전 01:56.</td><td class=\"r\"><img alt=\"Clear. Quite cool.\" height=\"40\" src=\"//c.tadst.com/gfx/w/svg/wt-13.svg\" title=\"Clear. Quite cool.\" width=\"40\"/></td><td class=\"rbi\">7 °C</td><td><a href=\"/weather/usa/minneapolis\">Minneapolis</a><span class=\"wds\" id=\"p87s\"> *</span></td><td class=\"r\" id=\"p87\">월요일 오후 06:56.</td><td class=\"r\"><img alt=\"Overcast. Chilly.\" height=\"40\" src=\"//c.tadst.com/gfx/w/svg/wt-7.svg\" title=\"Overcast. Chilly.\" width=\"40\"/></td><td class=\"rbi\">3 °C</td></tr>,\n",
       " <tr><td><a href=\"/weather/china/beijing\">Beijing</a><span class=\"wds\" id=\"p18s\"></span></td><td class=\"r\" id=\"p18\">화요일 오전 07:56.</td><td class=\"r\"><img alt=\"Haze. Cool.\" height=\"40\" src=\"//c.tadst.com/gfx/w/svg/wt-2.svg\" title=\"Haze. Cool.\" width=\"40\"/></td><td class=\"rbi\">11 °C</td><td><a href=\"/weather/belarus/minsk\">Minsk</a><span class=\"wds\" id=\"p88s\"></span></td><td class=\"r\" id=\"p88\">화요일 오전 02:56.</td><td class=\"r\"><img alt=\"Clear. Chilly.\" height=\"40\" src=\"//c.tadst.com/gfx/w/svg/wt-13.svg\" title=\"Clear. Chilly.\" width=\"40\"/></td><td class=\"rbi\">1 °C</td></tr>,\n",
       " <tr><td><a href=\"/weather/lebanon/beirut\">Beirut</a><span class=\"wds\" id=\"p19s\"> *</span></td><td class=\"r\" id=\"p19\">화요일 오전 02:56.</td><td class=\"r\"><img alt=\"Clear. Mild.\" height=\"40\" src=\"//c.tadst.com/gfx/w/svg/wt-13.svg\" title=\"Clear. Mild.\" width=\"40\"/></td><td class=\"rbi\">19 °C</td><td><a href=\"/weather/uruguay/montevideo\">Montevideo</a><span class=\"wds\" id=\"p89s\"></span></td><td class=\"r\" id=\"p89\">월요일 오후 08:56.</td><td class=\"r\"><img alt=\"Sunny. Mild.\" height=\"40\" src=\"//c.tadst.com/gfx/w/svg/wt-13.svg\" title=\"Sunny. Mild.\" width=\"40\"/></td><td class=\"rbi\">17 °C</td></tr>,\n",
       " <tr><td><a href=\"/weather/serbia/belgrade\">Belgrade</a><span class=\"wds\" id=\"p20s\"> *</span></td><td class=\"r\" id=\"p20\">화요일 오전 01:56.</td><td class=\"r\"><img alt=\"Clear. Quite cool.\" height=\"40\" src=\"//c.tadst.com/gfx/w/svg/wt-13.svg\" title=\"Clear. Quite cool.\" width=\"40\"/></td><td class=\"rbi\">6 °C</td><td><a href=\"/weather/canada/montreal\">Montréal</a><span class=\"wds\" id=\"p90s\"> *</span></td><td class=\"r\" id=\"p90\">월요일 오후 07:56.</td><td class=\"r\"><img alt=\"Partly sunny. Cool.\" height=\"40\" src=\"//c.tadst.com/gfx/w/svg/wt-17.svg\" title=\"Partly sunny. Cool.\" width=\"40\"/></td><td class=\"rbi\">9 °C</td></tr>,\n",
       " <tr><td><a href=\"/weather/india/bengaluru\">Bengaluru</a><span class=\"wds\" id=\"p21s\"></span></td><td class=\"r\" id=\"p21\">화요일 오전 05:26.</td><td class=\"r\"><img alt=\"Passing clouds. Mild.\" height=\"40\" src=\"//c.tadst.com/gfx/w/svg/wt-14.svg\" title=\"Passing clouds. Mild.\" width=\"40\"/></td><td class=\"rbi\">24 °C</td><td><a href=\"/weather/russia/moscow\">Moscow</a><span class=\"wds\" id=\"p91s\"></span></td><td class=\"r\" id=\"p91\">화요일 오전 02:56.</td><td class=\"r\"><img alt=\"Overcast. Chilly.\" height=\"40\" src=\"//c.tadst.com/gfx/w/svg/wt-17.svg\" title=\"Overcast. Chilly.\" width=\"40\"/></td><td class=\"rbi\">1 °C</td></tr>,\n",
       " <tr><td><a href=\"/weather/germany/berlin\">Berlin</a><span class=\"wds\" id=\"p22s\"> *</span></td><td class=\"r\" id=\"p22\">화요일 오전 01:56.</td><td class=\"r\"><img alt=\"Light rain. Passing clouds. Quite cool.\" height=\"40\" src=\"//c.tadst.com/gfx/w/svg/wt-34.svg\" title=\"Light rain. Passing clouds. Quite cool.\" width=\"40\"/></td><td class=\"rbi\">5 °C</td><td><a href=\"/weather/india/mumbai\">Mumbai</a><span class=\"wds\" id=\"p92s\"></span></td><td class=\"r\" id=\"p92\">화요일 오전 05:26.</td><td class=\"r\"><img alt=\"Passing clouds. Warm.\" height=\"40\" src=\"//c.tadst.com/gfx/w/svg/wt-14.svg\" title=\"Passing clouds. Warm.\" width=\"40\"/></td><td class=\"rbi\">28 °C</td></tr>,\n",
       " <tr><td><a href=\"/weather/colombia/bogota\">Bogota</a><span class=\"wds\" id=\"p23s\"></span></td><td class=\"r\" id=\"p23\">월요일 오후 06:56.</td><td class=\"r\"><img alt=\"Passing clouds. Mild.\" height=\"40\" src=\"//c.tadst.com/gfx/w/svg/wt-15.svg\" title=\"Passing clouds. Mild.\" width=\"40\"/></td><td class=\"rbi\">18 °C</td><td><a href=\"/weather/kenya/nairobi\">Nairobi</a><span class=\"wds\" id=\"p93s\"></span></td><td class=\"r\" id=\"p93\">화요일 오전 02:56.</td><td class=\"r\"><img alt=\"Passing clouds. Mild.\" height=\"40\" src=\"//c.tadst.com/gfx/w/svg/wt-14.svg\" title=\"Passing clouds. Mild.\" width=\"40\"/></td><td class=\"rbi\">21 °C</td></tr>,\n",
       " <tr><td><a href=\"/weather/usa/boston\">Boston</a><span class=\"wds\" id=\"p24s\"> *</span></td><td class=\"r\" id=\"p24\">월요일 오후 07:56.</td><td class=\"r\"><img alt=\"Partly sunny. Cool.\" height=\"40\" src=\"//c.tadst.com/gfx/w/svg/wt-17.svg\" title=\"Partly sunny. Cool.\" width=\"40\"/></td><td class=\"rbi\">12 °C</td><td><a href=\"/weather/bahamas/nassau\">Nassau</a><span class=\"wds\" id=\"p94s\"> *</span></td><td class=\"r\" id=\"p94\">월요일 오후 07:56.</td><td class=\"r\"><img alt=\"Partly sunny. Warm.\" height=\"40\" src=\"//c.tadst.com/gfx/w/svg/wt-17.svg\" title=\"Partly sunny. Warm.\" width=\"40\"/></td><td class=\"rbi\">26 °C</td></tr>,\n",
       " <tr><td><a href=\"/weather/brazil/brasilia\">Brasilia</a><span class=\"wds\" id=\"p25s\"></span></td><td class=\"r\" id=\"p25\">월요일 오후 08:56.</td><td class=\"r\"><img alt=\"Clear. Warm.\" height=\"40\" src=\"//c.tadst.com/gfx/w/svg/wt-13.svg\" title=\"Clear. Warm.\" width=\"40\"/></td><td class=\"rbi\">25 °C</td><td><a href=\"/weather/india/new-delhi\">New Delhi</a><span class=\"wds\" id=\"p95s\"></span></td><td class=\"r\" id=\"p95\">화요일 오전 05:26.</td><td class=\"r\"><img alt=\"Clear. Mild.\" height=\"40\" src=\"//c.tadst.com/gfx/w/svg/wt-13.svg\" title=\"Clear. Mild.\" width=\"40\"/></td><td class=\"rbi\">22 °C</td></tr>,\n",
       " <tr><td><a href=\"/weather/australia/brisbane\">Brisbane</a><span class=\"wds\" id=\"p26s\"></span></td><td class=\"r\" id=\"p26\">화요일 오전 09:56.</td><td class=\"r\"><img alt=\"Passing clouds. Mild.\" height=\"40\" src=\"//c.tadst.com/gfx/w/svg/wt-2.svg\" title=\"Passing clouds. Mild.\" width=\"40\"/></td><td class=\"rbi\">24 °C</td><td><a href=\"/weather/usa/new-orleans\">New Orleans</a><span class=\"wds\" id=\"p96s\"> *</span></td><td class=\"r\" id=\"p96\">월요일 오후 06:56.</td><td class=\"r\"><img alt=\"Broken clouds. Mild.\" height=\"40\" src=\"//c.tadst.com/gfx/w/svg/wt-6.svg\" title=\"Broken clouds. Mild.\" width=\"40\"/></td><td class=\"rbi\">24 °C</td></tr>,\n",
       " <tr><td><a href=\"/weather/belgium/brussels\">Brussels</a><span class=\"wds\" id=\"p27s\"> *</span></td><td class=\"r\" id=\"p27\">화요일 오전 01:56.</td><td class=\"r\"><img alt=\"Drizzle. Mostly cloudy. Cool.\" height=\"40\" src=\"//c.tadst.com/gfx/w/svg/wt-34.svg\" title=\"Drizzle. Mostly cloudy. Cool.\" width=\"40\"/></td><td class=\"rbi\">8 °C</td><td><a href=\"/weather/usa/new-york\">New York</a><span class=\"wds\" id=\"p97s\"> *</span></td><td class=\"r\" id=\"p97\">월요일 오후 07:56.</td><td class=\"r\"><img alt=\"Sunny. Cool.\" height=\"40\" src=\"//c.tadst.com/gfx/w/svg/wt-13.svg\" title=\"Sunny. Cool.\" width=\"40\"/></td><td class=\"rbi\">11 °C</td></tr>,\n",
       " <tr><td><a href=\"/weather/romania/bucharest\">Bucharest</a><span class=\"wds\" id=\"p28s\"> *</span></td><td class=\"r\" id=\"p28\">화요일 오전 02:56.</td><td class=\"r\"><img alt=\"Passing clouds. Quite cool.\" height=\"40\" src=\"//c.tadst.com/gfx/w/svg/wt-14.svg\" title=\"Passing clouds. Quite cool.\" width=\"40\"/></td><td class=\"rbi\">5 °C</td><td><a href=\"/weather/norway/oslo\">Oslo</a><span class=\"wds\" id=\"p98s\"> *</span></td><td class=\"r\" id=\"p98\">화요일 오전 01:56.</td><td class=\"r\"><img alt=\"Passing clouds. Chilly.\" height=\"40\" src=\"//c.tadst.com/gfx/w/svg/wt-14.svg\" title=\"Passing clouds. Chilly.\" width=\"40\"/></td><td class=\"rbi\">-3 °C</td></tr>,\n",
       " <tr><td><a href=\"/weather/hungary/budapest\">Budapest</a><span class=\"wds\" id=\"p29s\"> *</span></td><td class=\"r\" id=\"p29\">화요일 오전 01:56.</td><td class=\"r\"><img alt=\"Passing clouds. Chilly.\" height=\"40\" src=\"//c.tadst.com/gfx/w/svg/wt-14.svg\" title=\"Passing clouds. Chilly.\" width=\"40\"/></td><td class=\"rbi\">2 °C</td><td><a href=\"/weather/canada/ottawa\">Ottawa</a><span class=\"wds\" id=\"p99s\"> *</span></td><td class=\"r\" id=\"p99\">월요일 오후 07:56.</td><td class=\"r\"><img alt=\"Partly sunny. Cool.\" height=\"40\" src=\"//c.tadst.com/gfx/w/svg/wt-17.svg\" title=\"Partly sunny. Cool.\" width=\"40\"/></td><td class=\"rbi\">8 °C</td></tr>,\n",
       " <tr><td><a href=\"/weather/argentina/buenos-aires\">Buenos Aires</a><span class=\"wds\" id=\"p30s\"></span></td><td class=\"r\" id=\"p30\">월요일 오후 08:56.</td><td class=\"r\"><img alt=\"Passing clouds. Mild.\" height=\"40\" src=\"//c.tadst.com/gfx/w/svg/wt-14.svg\" title=\"Passing clouds. Mild.\" width=\"40\"/></td><td class=\"rbi\">19 °C</td><td><a href=\"/weather/france/paris\">Paris</a><span class=\"wds\" id=\"p100s\"> *</span></td><td class=\"r\" id=\"p100\">화요일 오전 01:56.</td><td class=\"r\"><img alt=\"Overcast. Quite cool.\" height=\"40\" src=\"//c.tadst.com/gfx/w/svg/wt-17.svg\" title=\"Overcast. Quite cool.\" width=\"40\"/></td><td class=\"rbi\">7 °C</td></tr>,\n",
       " <tr><td><a href=\"/weather/egypt/cairo\">Cairo</a><span class=\"wds\" id=\"p31s\"></span></td><td class=\"r\" id=\"p31\">화요일 오전 01:56.</td><td class=\"r\"><img alt=\"Clear. Mild.\" height=\"40\" src=\"//c.tadst.com/gfx/w/svg/wt-13.svg\" title=\"Clear. Mild.\" width=\"40\"/></td><td class=\"rbi\">21 °C</td><td><a href=\"/weather/australia/perth\">Perth</a><span class=\"wds\" id=\"p101s\"></span></td><td class=\"r\" id=\"p101\">화요일 오전 07:56.</td><td class=\"r\"><img alt=\"Sunny. Cool.\" height=\"40\" src=\"//c.tadst.com/gfx/w/svg/wt-1.svg\" title=\"Sunny. Cool.\" width=\"40\"/></td><td class=\"rbi\">14 °C</td></tr>,\n",
       " <tr><td><a href=\"/weather/canada/calgary\">Calgary</a><span class=\"wds\" id=\"p32s\"> *</span></td><td class=\"r\" id=\"p32\">월요일 오후 05:56.</td><td class=\"r\"><img alt=\"Broken clouds. Cool.\" height=\"40\" src=\"//c.tadst.com/gfx/w/svg/wt-6.svg\" title=\"Broken clouds. Cool.\" width=\"40\"/></td><td class=\"rbi\">11 °C</td><td><a href=\"/weather/usa/philadelphia\">Philadelphia</a><span class=\"wds\" id=\"p102s\"> *</span></td><td class=\"r\" id=\"p102\">월요일 오후 07:56.</td><td class=\"r\"><img alt=\"Broken clouds. Cool.\" height=\"40\" src=\"//c.tadst.com/gfx/w/svg/wt-17.svg\" title=\"Broken clouds. Cool.\" width=\"40\"/></td><td class=\"rbi\">12 °C</td></tr>,\n",
       " <tr><td><a href=\"/weather/australia/canberra\">Canberra</a><span class=\"wds\" id=\"p33s\"></span></td><td class=\"r\" id=\"p33\">화요일 오전 09:56.</td><td class=\"r\"><img alt=\"Sunny. Cool.\" height=\"40\" src=\"//c.tadst.com/gfx/w/svg/wt-1.svg\" title=\"Sunny. Cool.\" width=\"40\"/></td><td class=\"rbi\">12 °C</td><td><a href=\"/weather/usa/phoenix\">Phoenix</a><span class=\"wds\" id=\"p103s\"></span></td><td class=\"r\" id=\"p103\">월요일 오후 04:56.</td><td class=\"r\"><img alt=\"Passing clouds. Hot.\" height=\"40\" src=\"//c.tadst.com/gfx/w/svg/wt-2.svg\" title=\"Passing clouds. Hot.\" width=\"40\"/></td><td class=\"rbi\">31 °C</td></tr>,\n",
       " <tr><td><a href=\"/weather/south-africa/cape-town\">Cape Town</a><span class=\"wds\" id=\"p34s\"></span></td><td class=\"r\" id=\"p34\">화요일 오전 01:56.</td><td class=\"r\"><img alt=\"Partly cloudy. Cool.\" height=\"40\" src=\"//c.tadst.com/gfx/w/svg/wt-15.svg\" title=\"Partly cloudy. Cool.\" width=\"40\"/></td><td class=\"rbi\">15 °C</td><td><a href=\"/weather/czech-republic/prague\">Prague</a><span class=\"wds\" id=\"p104s\"> *</span></td><td class=\"r\" id=\"p104\">화요일 오전 01:56.</td><td class=\"r\"><img alt=\"Passing clouds. Chilly.\" height=\"40\" src=\"//c.tadst.com/gfx/w/svg/wt-14.svg\" title=\"Passing clouds. Chilly.\" width=\"40\"/></td><td class=\"rbi\">3 °C</td></tr>,\n",
       " <tr><td><a href=\"/weather/venezuela/caracas\">Caracas</a><span class=\"wds\" id=\"p35s\"></span></td><td class=\"r\" id=\"p35\">월요일 오후 07:56.</td><td class=\"r\"><img alt=\"Passing clouds. Warm.\" height=\"40\" src=\"//c.tadst.com/gfx/w/svg/wt-14.svg\" title=\"Passing clouds. Warm.\" width=\"40\"/></td><td class=\"rbi\">27 °C</td><td><a href=\"/weather/iceland/reykjavik\">Reykjavik</a><span class=\"wds\" id=\"p105s\"></span></td><td class=\"r\" id=\"p105\">월요일 오후 11:56.</td><td class=\"r\"><img alt=\"Light snow. Mostly cloudy. Chilly.\" height=\"40\" src=\"//c.tadst.com/gfx/w/svg/wt-30.svg\" title=\"Light snow. Mostly cloudy. Chilly.\" width=\"40\"/></td><td class=\"rbi\">-1 °C</td></tr>,\n",
       " <tr><td><a href=\"/weather/morocco/casablanca\">Casablanca</a><span class=\"wds\" id=\"p36s\"></span></td><td class=\"r\" id=\"p36\">월요일 오후 11:56.</td><td class=\"r\"><img alt=\"Overcast. Cool.\" height=\"40\" src=\"//c.tadst.com/gfx/w/svg/wt-7.svg\" title=\"Overcast. Cool.\" width=\"40\"/></td><td class=\"rbi\">16 °C</td><td><a href=\"/weather/brazil/rio-de-janeiro\">Rio de Janeiro</a><span class=\"wds\" id=\"p106s\"></span></td><td class=\"r\" id=\"p106\">월요일 오후 08:56.</td><td class=\"r\"><img alt=\"Clear. Warm.\" height=\"40\" src=\"//c.tadst.com/gfx/w/svg/wt-13.svg\" title=\"Clear. Warm.\" width=\"40\"/></td><td class=\"rbi\">27 °C</td></tr>,\n",
       " <tr><td><a href=\"/weather/usa/chicago\">Chicago</a><span class=\"wds\" id=\"p37s\"> *</span></td><td class=\"r\" id=\"p37\">월요일 오후 06:56.</td><td class=\"r\"><img alt=\"Overcast. Cool.\" height=\"40\" src=\"//c.tadst.com/gfx/w/svg/wt-7.svg\" title=\"Overcast. Cool.\" width=\"40\"/></td><td class=\"rbi\">8 °C</td><td><a href=\"/weather/saudi-arabia/riyadh\">Riyadh</a><span class=\"wds\" id=\"p107s\"></span></td><td class=\"r\" id=\"p107\">화요일 오전 02:56.</td><td class=\"r\"><img alt=\"Clear. Pleasantly warm.\" height=\"40\" src=\"//c.tadst.com/gfx/w/svg/wt-13.svg\" title=\"Clear. Pleasantly warm.\" width=\"40\"/></td><td class=\"rbi\">26 °C</td></tr>,\n",
       " <tr><td><a href=\"/weather/denmark/copenhagen\">Copenhagen</a><span class=\"wds\" id=\"p38s\"> *</span></td><td class=\"r\" id=\"p38\">화요일 오전 01:56.</td><td class=\"r\"><img alt=\"Overcast. Quite cool.\" height=\"40\" src=\"//c.tadst.com/gfx/w/svg/wt-17.svg\" title=\"Overcast. Quite cool.\" width=\"40\"/></td><td class=\"rbi\">5 °C</td><td><a href=\"/weather/italy/rome\">Rome</a><span class=\"wds\" id=\"p108s\"> *</span></td><td class=\"r\" id=\"p108\">화요일 오전 01:56.</td><td class=\"r\"><img alt=\"Clear. Quite cool.\" height=\"40\" src=\"//c.tadst.com/gfx/w/svg/wt-13.svg\" title=\"Clear. Quite cool.\" width=\"40\"/></td><td class=\"rbi\">7 °C</td></tr>,\n",
       " <tr><td><a href=\"/weather/usa/dallas\">Dallas</a><span class=\"wds\" id=\"p39s\"> *</span></td><td class=\"r\" id=\"p39\">월요일 오후 06:56.</td><td class=\"r\"><img alt=\"Broken clouds. Warm.\" height=\"40\" src=\"//c.tadst.com/gfx/w/svg/wt-6.svg\" title=\"Broken clouds. Warm.\" width=\"40\"/></td><td class=\"rbi\">26 °C</td><td><a href=\"/weather/usa/salt-lake-city\">Salt Lake City</a><span class=\"wds\" id=\"p109s\"> *</span></td><td class=\"r\" id=\"p109\">월요일 오후 05:56.</td><td class=\"r\"><img alt=\"Overcast. Refreshingly cool.\" height=\"40\" src=\"//c.tadst.com/gfx/w/svg/wt-7.svg\" title=\"Overcast. Refreshingly cool.\" width=\"40\"/></td><td class=\"rbi\">15 °C</td></tr>,\n",
       " <tr><td><a href=\"/weather/tanzania/dar-es-salaam\">Dar es Salaam</a><span class=\"wds\" id=\"p40s\"></span></td><td class=\"r\" id=\"p40\">화요일 오전 02:56.</td><td class=\"r\"><img alt=\"Passing clouds. Warm.\" height=\"40\" src=\"//c.tadst.com/gfx/w/svg/wt-14.svg\" title=\"Passing clouds. Warm.\" width=\"40\"/></td><td class=\"rbi\">25 °C</td><td><a href=\"/weather/usa/san-francisco\">San Francisco</a><span class=\"wds\" id=\"p110s\"> *</span></td><td class=\"r\" id=\"p110\">월요일 오후 04:56.</td><td class=\"r\"><img alt=\"Partly sunny. Cool.\" height=\"40\" src=\"//c.tadst.com/gfx/w/svg/wt-6.svg\" title=\"Partly sunny. Cool.\" width=\"40\"/></td><td class=\"rbi\">16 °C</td></tr>,\n",
       " <tr><td><a href=\"/weather/australia/darwin\">Darwin</a><span class=\"wds\" id=\"p41s\"></span></td><td class=\"r\" id=\"p41\">화요일 오전 09:26.</td><td class=\"r\"><img alt=\"Passing clouds. Warm.\" height=\"40\" src=\"//c.tadst.com/gfx/w/svg/wt-2.svg\" title=\"Passing clouds. Warm.\" width=\"40\"/></td><td class=\"rbi\">29 °C</td><td><a href=\"/weather/puerto-rico/san-juan\">San Juan</a><span class=\"wds\" id=\"p111s\"></span></td><td class=\"r\" id=\"p111\">월요일 오후 07:56.</td><td class=\"r\"><img alt=\"Light rain. Broken clouds. Warm.\" height=\"40\" src=\"//c.tadst.com/gfx/w/svg/wt-18.svg\" title=\"Light rain. Broken clouds. Warm.\" width=\"40\"/></td><td class=\"rbi\">27 °C</td></tr>,\n",
       " <tr><td><a href=\"/weather/usa/denver\">Denver</a><span class=\"wds\" id=\"p42s\"> *</span></td><td class=\"r\" id=\"p42\">월요일 오후 05:56.</td><td class=\"r\"><img alt=\"Partly sunny. Refreshingly cool.\" height=\"40\" src=\"//c.tadst.com/gfx/w/svg/wt-6.svg\" title=\"Partly sunny. Refreshingly cool.\" width=\"40\"/></td><td class=\"rbi\">16 °C</td><td><a href=\"/weather/el-salvador/san-salvador\">San Salvador</a><span class=\"wds\" id=\"p112s\"></span></td><td class=\"r\" id=\"p112\">월요일 오후 05:56.</td><td class=\"r\"><img alt=\"Scattered clouds. Warm.\" height=\"40\" src=\"//c.tadst.com/gfx/w/svg/wt-2.svg\" title=\"Scattered clouds. Warm.\" width=\"40\"/></td><td class=\"rbi\">25 °C</td></tr>,\n",
       " <tr><td><a href=\"/weather/usa/detroit\">Detroit</a><span class=\"wds\" id=\"p43s\"> *</span></td><td class=\"r\" id=\"p43\">월요일 오후 07:56.</td><td class=\"r\"><img alt=\"Light rain. Mostly cloudy. Quite cool.\" height=\"40\" src=\"//c.tadst.com/gfx/w/svg/wt-18.svg\" title=\"Light rain. Mostly cloudy. Quite cool.\" width=\"40\"/></td><td class=\"rbi\">6 °C</td><td><a href=\"/weather/chile/santiago\">Santiago</a><span class=\"wds\" id=\"p113s\"></span></td><td class=\"r\" id=\"p113\">월요일 오후 07:56.</td><td class=\"r\"><img alt=\"Clear. Mild.\" height=\"40\" src=\"//c.tadst.com/gfx/w/svg/wt-13.svg\" title=\"Clear. Mild.\" width=\"40\"/></td><td class=\"rbi\">24 °C</td></tr>,\n",
       " <tr><td><a href=\"/weather/qatar/doha\">Doha</a><span class=\"wds\" id=\"p44s\"></span></td><td class=\"r\" id=\"p44\">화요일 오전 02:56.</td><td class=\"r\"><img alt=\"Clear. Mild.\" height=\"40\" src=\"//c.tadst.com/gfx/w/svg/wt-13.svg\" title=\"Clear. Mild.\" width=\"40\"/></td><td class=\"rbi\">22 °C</td><td><a href=\"/weather/dominican-republic/santo-domingo\">Santo Domingo</a><span class=\"wds\" id=\"p114s\"></span></td><td class=\"r\" id=\"p114\">월요일 오후 07:56.</td><td class=\"r\"><img alt=\"Scattered clouds. Warm.\" height=\"40\" src=\"//c.tadst.com/gfx/w/svg/wt-15.svg\" title=\"Scattered clouds. Warm.\" width=\"40\"/></td><td class=\"rbi\">29 °C</td></tr>,\n",
       " <tr><td><a href=\"/weather/united-arab-emirates/dubai\">Dubai</a><span class=\"wds\" id=\"p45s\"></span></td><td class=\"r\" id=\"p45\">화요일 오전 03:56.</td><td class=\"r\"><img alt=\"Passing clouds. Warm.\" height=\"40\" src=\"//c.tadst.com/gfx/w/svg/wt-14.svg\" title=\"Passing clouds. Warm.\" width=\"40\"/></td><td class=\"rbi\">26 °C</td><td><a href=\"/weather/brazil/sao-paulo\">São Paulo</a><span class=\"wds\" id=\"p115s\"></span></td><td class=\"r\" id=\"p115\">월요일 오후 08:56.</td><td class=\"r\"><img alt=\"Clear. Mild.\" height=\"40\" src=\"//c.tadst.com/gfx/w/svg/wt-13.svg\" title=\"Clear. Mild.\" width=\"40\"/></td><td class=\"rbi\">24 °C</td></tr>,\n",
       " <tr><td><a href=\"/weather/ireland/dublin\">Dublin</a><span class=\"wds\" id=\"p46s\"> *</span></td><td class=\"r\" id=\"p46\">화요일 오전 12:56.</td><td class=\"r\"><img alt=\"Partly cloudy. Cool.\" height=\"40\" src=\"//c.tadst.com/gfx/w/svg/wt-15.svg\" title=\"Partly cloudy. Cool.\" width=\"40\"/></td><td class=\"rbi\">10 °C</td><td><a href=\"/weather/usa/seattle\">Seattle</a><span class=\"wds\" id=\"p116s\"> *</span></td><td class=\"r\" id=\"p116\">월요일 오후 04:56.</td><td class=\"r\"><img alt=\"Mostly cloudy. Cool.\" height=\"40\" src=\"//c.tadst.com/gfx/w/svg/wt-6.svg\" title=\"Mostly cloudy. Cool.\" width=\"40\"/></td><td class=\"rbi\">8 °C</td></tr>,\n",
       " <tr><td><a href=\"/weather/canada/edmonton\">Edmonton</a><span class=\"wds\" id=\"p47s\"> *</span></td><td class=\"r\" id=\"p47\">월요일 오후 05:56.</td><td class=\"r\"><img alt=\"Cloudy. Cool.\" height=\"40\" src=\"//c.tadst.com/gfx/w/svg/wt-7.svg\" title=\"Cloudy. Cool.\" width=\"40\"/></td><td class=\"rbi\">12 °C</td><td><a href=\"/weather/south-korea/seoul\">Seoul</a><span class=\"wds\" id=\"p117s\"></span></td><td class=\"r\" id=\"p117\">화요일 오전 08:56.</td><td class=\"r\"><img alt=\"Sunny. Quite cool.\" height=\"40\" src=\"//c.tadst.com/gfx/w/svg/wt-1.svg\" title=\"Sunny. Quite cool.\" width=\"40\"/></td><td class=\"rbi\">7 °C</td></tr>,\n",
       " <tr><td><a href=\"/weather/germany/frankfurt\">Frankfurt</a><span class=\"wds\" id=\"p48s\"> *</span></td><td class=\"r\" id=\"p48\">화요일 오전 01:56.</td><td class=\"r\"><img alt=\"Light rain. Passing clouds. Quite cool.\" height=\"40\" src=\"//c.tadst.com/gfx/w/svg/wt-34.svg\" title=\"Light rain. Passing clouds. Quite cool.\" width=\"40\"/></td><td class=\"rbi\">6 °C</td><td><a href=\"/weather/china/shanghai\">Shanghai</a><span class=\"wds\" id=\"p118s\"></span></td><td class=\"r\" id=\"p118\">화요일 오전 07:56.</td><td class=\"r\"><img alt=\"Sunny. Cool.\" height=\"40\" src=\"//c.tadst.com/gfx/w/svg/wt-1.svg\" title=\"Sunny. Cool.\" width=\"40\"/></td><td class=\"rbi\">12 °C</td></tr>,\n",
       " <tr><td><a href=\"/weather/guatemala/guatemala\">Guatemala City</a><span class=\"wds\" id=\"p49s\"></span></td><td class=\"r\" id=\"p49\">월요일 오후 05:56.</td><td class=\"r\"><img alt=\"Scattered clouds. Mild.\" height=\"40\" src=\"//c.tadst.com/gfx/w/svg/wt-2.svg\" title=\"Scattered clouds. Mild.\" width=\"40\"/></td><td class=\"rbi\">23 °C</td><td><a href=\"/weather/singapore/singapore\">Singapore</a><span class=\"wds\" id=\"p119s\"></span></td><td class=\"r\" id=\"p119\">화요일 오전 07:56.</td><td class=\"r\"><img alt=\"Passing clouds. Warm.\" height=\"40\" src=\"//c.tadst.com/gfx/w/svg/wt-2.svg\" title=\"Passing clouds. Warm.\" width=\"40\"/></td><td class=\"rbi\">26 °C</td></tr>,\n",
       " <tr><td><a href=\"/weather/canada/halifax\">Halifax</a><span class=\"wds\" id=\"p50s\"> *</span></td><td class=\"r\" id=\"p50\">월요일 오후 08:56.</td><td class=\"r\"><img alt=\"Ice fog. Chilly.\" height=\"40\" src=\"//c.tadst.com/gfx/w/svg/wt-14.svg\" title=\"Ice fog. Chilly.\" width=\"40\"/></td><td class=\"rbi\">-2 °C</td><td><a href=\"/weather/bulgaria/sofia\">Sofia</a><span class=\"wds\" id=\"p120s\"> *</span></td><td class=\"r\" id=\"p120\">화요일 오전 02:56.</td><td class=\"r\"><img alt=\"Passing clouds. Quite cool.\" height=\"40\" src=\"//c.tadst.com/gfx/w/svg/wt-14.svg\" title=\"Passing clouds. Quite cool.\" width=\"40\"/></td><td class=\"rbi\">6 °C</td></tr>,\n",
       " <tr><td><a href=\"/weather/vietnam/hanoi\">Hanoi</a><span class=\"wds\" id=\"p51s\"></span></td><td class=\"r\" id=\"p51\">화요일 오전 06:56.</td><td class=\"r\"><img alt=\"Clear. Mild.\" height=\"40\" src=\"//c.tadst.com/gfx/w/svg/wt-1.svg\" title=\"Clear. Mild.\" width=\"40\"/></td><td class=\"rbi\">17 °C</td><td><a href=\"/weather/canada/st-johns\">St. John's</a><span class=\"wds\" id=\"p121s\"> *</span></td><td class=\"r\" id=\"p121\">월요일 오후 09:26.</td><td class=\"r\"><img alt=\"Light rain. Fog. Chilly.\" height=\"40\" src=\"//c.tadst.com/gfx/w/svg/wt-34.svg\" title=\"Light rain. Fog. Chilly.\" width=\"40\"/></td><td class=\"rbi\">1 °C</td></tr>,\n",
       " <tr><td><a href=\"/weather/zimbabwe/harare\">Harare</a><span class=\"wds\" id=\"p52s\"></span></td><td class=\"r\" id=\"p52\">화요일 오전 01:56.</td><td class=\"r\"><img alt=\"Low clouds.\" height=\"40\" src=\"//c.tadst.com/gfx/w/svg/wt-17.svg\" title=\"Low clouds.\" width=\"40\"/></td><td class=\"rbi\">N/A</td><td><a href=\"/weather/sweden/stockholm\">Stockholm</a><span class=\"wds\" id=\"p122s\"> *</span></td><td class=\"r\" id=\"p122\">화요일 오전 01:56.</td><td class=\"r\"><img alt=\"Light snow. Ice fog. Chilly.\" height=\"40\" src=\"//c.tadst.com/gfx/w/svg/wt-30.svg\" title=\"Light snow. Ice fog. Chilly.\" width=\"40\"/></td><td class=\"rbi\">-1 °C</td></tr>,\n",
       " <tr><td><a href=\"/weather/cuba/havana\">Havana</a><span class=\"wds\" id=\"p53s\"> *</span></td><td class=\"r\" id=\"p53\">월요일 오후 07:56.</td><td class=\"r\"><img alt=\"Scattered clouds. Warm.\" height=\"40\" src=\"//c.tadst.com/gfx/w/svg/wt-15.svg\" title=\"Scattered clouds. Warm.\" width=\"40\"/></td><td class=\"rbi\">29 °C</td><td><a href=\"/weather/fiji/suva\">Suva</a><span class=\"wds\" id=\"p123s\"></span></td><td class=\"r\" id=\"p123\">화요일 오전 11:56.</td><td class=\"r\"><img alt=\"Passing clouds. Warm.\" height=\"40\" src=\"//c.tadst.com/gfx/w/svg/wt-2.svg\" title=\"Passing clouds. Warm.\" width=\"40\"/></td><td class=\"rbi\">28 °C</td></tr>,\n",
       " <tr><td><a href=\"/weather/finland/helsinki\">Helsinki</a><span class=\"wds\" id=\"p54s\"> *</span></td><td class=\"r\" id=\"p54\">화요일 오전 02:56.</td><td class=\"r\"><img alt=\"Light snow. Partly cloudy. Chilly.\" height=\"40\" src=\"//c.tadst.com/gfx/w/svg/wt-30.svg\" title=\"Light snow. Partly cloudy. Chilly.\" width=\"40\"/></td><td class=\"rbi\">1 °C</td><td><a href=\"/weather/australia/sydney\">Sydney</a><span class=\"wds\" id=\"p124s\"></span></td><td class=\"r\" id=\"p124\">화요일 오전 09:56.</td><td class=\"r\"><img alt=\"Passing clouds. Mild.\" height=\"40\" src=\"//c.tadst.com/gfx/w/svg/wt-2.svg\" title=\"Passing clouds. Mild.\" width=\"40\"/></td><td class=\"rbi\">23 °C</td></tr>,\n",
       " <tr><td><a href=\"/weather/hong-kong/hong-kong\">Hong Kong</a><span class=\"wds\" id=\"p55s\"></span></td><td class=\"r\" id=\"p55\">화요일 오전 07:56.</td><td class=\"r\"><img alt=\"Sunny. Mild.\" height=\"40\" src=\"//c.tadst.com/gfx/w/svg/wt-1.svg\" title=\"Sunny. Mild.\" width=\"40\"/></td><td class=\"rbi\">19 °C</td><td><a href=\"/weather/taiwan/taipei\">Taipei</a><span class=\"wds\" id=\"p125s\"></span></td><td class=\"r\" id=\"p125\">화요일 오전 07:56.</td><td class=\"r\"><img alt=\"Partly sunny. Mild.\" height=\"40\" src=\"//c.tadst.com/gfx/w/svg/wt-6.svg\" title=\"Partly sunny. Mild.\" width=\"40\"/></td><td class=\"rbi\">19 °C</td></tr>,\n",
       " <tr><td><a href=\"/weather/usa/honolulu\">Honolulu</a><span class=\"wds\" id=\"p56s\"></span></td><td class=\"r\" id=\"p56\">월요일 오후 01:56.</td><td class=\"r\"><img alt=\"Partly sunny. Warm.\" height=\"40\" src=\"//c.tadst.com/gfx/w/svg/wt-6.svg\" title=\"Partly sunny. Warm.\" width=\"40\"/></td><td class=\"rbi\">28 °C</td><td><a href=\"/weather/estonia/tallinn\">Tallinn</a><span class=\"wds\" id=\"p126s\"> *</span></td><td class=\"r\" id=\"p126\">화요일 오전 02:56.</td><td class=\"r\"><img alt=\"Light rain. Mostly cloudy. Chilly.\" height=\"40\" src=\"//c.tadst.com/gfx/w/svg/wt-34.svg\" title=\"Light rain. Mostly cloudy. Chilly.\" width=\"40\"/></td><td class=\"rbi\">1 °C</td></tr>,\n",
       " <tr><td><a href=\"/weather/usa/houston\">Houston</a><span class=\"wds\" id=\"p57s\"> *</span></td><td class=\"r\" id=\"p57\">월요일 오후 06:56.</td><td class=\"r\"><img alt=\"Fog. Mild.\" height=\"40\" src=\"//c.tadst.com/gfx/w/svg/wt-9.svg\" title=\"Fog. Mild.\" width=\"40\"/></td><td class=\"rbi\">22 °C</td><td><a href=\"/weather/uzbekistan/tashkent\">Tashkent</a><span class=\"wds\" id=\"p127s\"></span></td><td class=\"r\" id=\"p127\">화요일 오전 04:56.</td><td class=\"r\"><img alt=\"Passing clouds. Refreshingly cool.\" height=\"40\" src=\"//c.tadst.com/gfx/w/svg/wt-14.svg\" title=\"Passing clouds. Refreshingly cool.\" width=\"40\"/></td><td class=\"rbi\">16 °C</td></tr>,\n",
       " <tr><td><a href=\"/weather/usa/indianapolis\">Indianapolis</a><span class=\"wds\" id=\"p58s\"> *</span></td><td class=\"r\" id=\"p58\">월요일 오후 07:56.</td><td class=\"r\"><img alt=\"Partly sunny. Refreshingly cool.\" height=\"40\" src=\"//c.tadst.com/gfx/w/svg/wt-6.svg\" title=\"Partly sunny. Refreshingly cool.\" width=\"40\"/></td><td class=\"rbi\">17 °C</td><td><a href=\"/weather/honduras/tegucigalpa\">Tegucigalpa</a><span class=\"wds\" id=\"p128s\"></span></td><td class=\"r\" id=\"p128\">월요일 오후 05:56.</td><td class=\"r\"><img alt=\"Scattered clouds. Warm.\" height=\"40\" src=\"//c.tadst.com/gfx/w/svg/wt-2.svg\" title=\"Scattered clouds. Warm.\" width=\"40\"/></td><td class=\"rbi\">29 °C</td></tr>,\n",
       " <tr><td><a href=\"/weather/pakistan/islamabad\">Islamabad</a><span class=\"wds\" id=\"p59s\"></span></td><td class=\"r\" id=\"p59\">화요일 오전 04:56.</td><td class=\"r\"><img alt=\"Clear. Mild.\" height=\"40\" src=\"//c.tadst.com/gfx/w/svg/wt-13.svg\" title=\"Clear. Mild.\" width=\"40\"/></td><td class=\"rbi\">22 °C</td><td><a href=\"/weather/iran/tehran\">Tehran</a><span class=\"wds\" id=\"p129s\"> *</span></td><td class=\"r\" id=\"p129\">화요일 오전 04:26.</td><td class=\"r\"><img alt=\"Clear. Mild.\" height=\"40\" src=\"//c.tadst.com/gfx/w/svg/wt-13.svg\" title=\"Clear. Mild.\" width=\"40\"/></td><td class=\"rbi\">19 °C</td></tr>,\n",
       " <tr><td><a href=\"/weather/turkey/istanbul\">Istanbul</a><span class=\"wds\" id=\"p60s\"></span></td><td class=\"r\" id=\"p60\">화요일 오전 02:56.</td><td class=\"r\"><img alt=\"Sprinkles. Passing clouds. Cool.\" height=\"40\" src=\"//c.tadst.com/gfx/w/svg/wt-34.svg\" title=\"Sprinkles. Passing clouds. Cool.\" width=\"40\"/></td><td class=\"rbi\">9 °C</td><td><a href=\"/weather/japan/tokyo\">Tokyo</a><span class=\"wds\" id=\"p130s\"></span></td><td class=\"r\" id=\"p130\">화요일 오전 08:56.</td><td class=\"r\"><img alt=\"Overcast. Cool.\" height=\"40\" src=\"//c.tadst.com/gfx/w/svg/wt-7.svg\" title=\"Overcast. Cool.\" width=\"40\"/></td><td class=\"rbi\">10 °C</td></tr>,\n",
       " <tr><td><a href=\"/weather/indonesia/jakarta\">Jakarta</a><span class=\"wds\" id=\"p61s\"></span></td><td class=\"r\" id=\"p61\">화요일 오전 06:56.</td><td class=\"r\"><img alt=\"Passing clouds. Warm.\" height=\"40\" src=\"//c.tadst.com/gfx/w/svg/wt-2.svg\" title=\"Passing clouds. Warm.\" width=\"40\"/></td><td class=\"rbi\">27 °C</td><td><a href=\"/weather/canada/toronto\">Toronto</a><span class=\"wds\" id=\"p131s\"> *</span></td><td class=\"r\" id=\"p131\">월요일 오후 07:56.</td><td class=\"r\"><img alt=\"More clouds than sun. Quite cool.\" height=\"40\" src=\"//c.tadst.com/gfx/w/svg/wt-17.svg\" title=\"More clouds than sun. Quite cool.\" width=\"40\"/></td><td class=\"rbi\">5 °C</td></tr>,\n",
       " <tr><td><a href=\"/weather/israel/jerusalem\">Jerusalem</a><span class=\"wds\" id=\"p62s\"> *</span></td><td class=\"r\" id=\"p62\">화요일 오전 02:56.</td><td class=\"r\"><img alt=\"Clear. Cool.\" height=\"40\" src=\"//c.tadst.com/gfx/w/svg/wt-13.svg\" title=\"Clear. Cool.\" width=\"40\"/></td><td class=\"rbi\">15 °C</td><td><a href=\"/weather/canada/vancouver\">Vancouver</a><span class=\"wds\" id=\"p132s\"> *</span></td><td class=\"r\" id=\"p132\">월요일 오후 04:56.</td><td class=\"r\"><img alt=\"Partly sunny. Cool.\" height=\"40\" src=\"//c.tadst.com/gfx/w/svg/wt-6.svg\" title=\"Partly sunny. Cool.\" width=\"40\"/></td><td class=\"rbi\">8 °C</td></tr>,\n",
       " <tr><td><a href=\"/weather/south-africa/johannesburg\">Johannesburg</a><span class=\"wds\" id=\"p63s\"></span></td><td class=\"r\" id=\"p63\">화요일 오전 01:56.</td><td class=\"r\"><img alt=\"Partly sunny. Cool.\" height=\"40\" src=\"//c.tadst.com/gfx/w/svg/wt-17.svg\" title=\"Partly sunny. Cool.\" width=\"40\"/></td><td class=\"rbi\">16 °C</td><td><a href=\"/weather/austria/vienna\">Vienna</a><span class=\"wds\" id=\"p133s\"> *</span></td><td class=\"r\" id=\"p133\">화요일 오전 01:56.</td><td class=\"r\"><img alt=\"Passing clouds. Quite cool.\" height=\"40\" src=\"//c.tadst.com/gfx/w/svg/wt-14.svg\" title=\"Passing clouds. Quite cool.\" width=\"40\"/></td><td class=\"rbi\">7 °C</td></tr>,\n",
       " <tr><td><a href=\"/weather/pakistan/karachi\">Karachi</a><span class=\"wds\" id=\"p64s\"></span></td><td class=\"r\" id=\"p64\">화요일 오전 04:56.</td><td class=\"r\"><img alt=\"Clear. Mild.\" height=\"40\" src=\"//c.tadst.com/gfx/w/svg/wt-13.svg\" title=\"Clear. Mild.\" width=\"40\"/></td><td class=\"rbi\">24 °C</td><td><a href=\"/weather/poland/warsaw\">Warsaw</a><span class=\"wds\" id=\"p134s\"> *</span></td><td class=\"r\" id=\"p134\">화요일 오전 01:56.</td><td class=\"r\"><img alt=\"Light rain. Passing clouds. Chilly.\" height=\"40\" src=\"//c.tadst.com/gfx/w/svg/wt-34.svg\" title=\"Light rain. Passing clouds. Chilly.\" width=\"40\"/></td><td class=\"rbi\">4 °C</td></tr>,\n",
       " <tr><td><a href=\"/weather/nepal/kathmandu\">Kathmandu</a><span class=\"wds\" id=\"p65s\"></span></td><td class=\"r\" id=\"p65\">화요일 오전 05:41.</td><td class=\"r\"><img alt=\"Passing clouds. Pleasantly warm.\" height=\"40\" src=\"//c.tadst.com/gfx/w/svg/wt-14.svg\" title=\"Passing clouds. Pleasantly warm.\" width=\"40\"/></td><td class=\"rbi\">28 °C</td><td><a href=\"/weather/usa/washington-dc\">Washington DC</a><span class=\"wds\" id=\"p135s\"> *</span></td><td class=\"r\" id=\"p135\">월요일 오후 07:56.</td><td class=\"r\"><img alt=\"Mostly cloudy. Cool.\" height=\"40\" src=\"//c.tadst.com/gfx/w/svg/wt-17.svg\" title=\"Mostly cloudy. Cool.\" width=\"40\"/></td><td class=\"rbi\">12 °C</td></tr>,\n",
       " <tr><td><a href=\"/weather/jamaica/kingston\">Kingston</a><span class=\"wds\" id=\"p66s\"></span></td><td class=\"r\" id=\"p66\">월요일 오후 06:56.</td><td class=\"r\"><img alt=\"Overcast. Warm.\" height=\"40\" src=\"//c.tadst.com/gfx/w/svg/wt-7.svg\" title=\"Overcast. Warm.\" width=\"40\"/></td><td class=\"rbi\">28 °C</td><td><a href=\"/weather/canada/winnipeg\">Winnipeg</a><span class=\"wds\" id=\"p136s\"> *</span></td><td class=\"r\" id=\"p136\">월요일 오후 06:56.</td><td class=\"r\"><img alt=\"Quite cool.\" height=\"40\" src=\"//c.tadst.com/gfx/w/svg/wt-6.svg\" title=\"Quite cool.\" width=\"40\"/></td><td class=\"rbi\">7 °C</td></tr>,\n",
       " <tr><td><a href=\"/weather/congo-demrep/kinshasa\">Kinshasa</a><span class=\"wds\" id=\"p67s\"></span></td><td class=\"r\" id=\"p67\">화요일 오전 12:56.</td><td class=\"r\"><img alt=\"Thunderstorms. Passing clouds. Warm.\" height=\"40\" src=\"//c.tadst.com/gfx/w/svg/wt-22.svg\" title=\"Thunderstorms. Passing clouds. Warm.\" width=\"40\"/></td><td class=\"rbi\">26 °C</td><td><a href=\"/weather/myanmar/yangon\">Yangon</a><span class=\"wds\" id=\"p137s\"></span></td><td class=\"r\" id=\"p137\">화요일 오전 06:26.</td><td class=\"r\"><img alt=\"Clear. Warm.\" height=\"40\" src=\"//c.tadst.com/gfx/w/svg/wt-1.svg\" title=\"Clear. Warm.\" width=\"40\"/></td><td class=\"rbi\">26 °C</td></tr>,\n",
       " <tr><td><a href=\"/weather/kiribati/kiritimati\">Kiritimati</a><span class=\"wds\" id=\"p68s\"></span></td><td class=\"r\" id=\"p68\">화요일 오후 01:56.</td><td class=\"r\"><img alt=\"Passing clouds. Warm.\" height=\"40\" src=\"//c.tadst.com/gfx/w/svg/wt-2.svg\" title=\"Passing clouds. Warm.\" width=\"40\"/></td><td class=\"rbi\">30 °C</td><td><a href=\"/weather/croatia/zagreb\">Zagreb</a><span class=\"wds\" id=\"p138s\"> *</span></td><td class=\"r\" id=\"p138\">화요일 오전 01:56.</td><td class=\"r\"><img alt=\"Clear. Chilly.\" height=\"40\" src=\"//c.tadst.com/gfx/w/svg/wt-13.svg\" title=\"Clear. Chilly.\" width=\"40\"/></td><td class=\"rbi\">3 °C</td></tr>,\n",
       " <tr><td><a href=\"/weather/india/kolkata\">Kolkata</a><span class=\"wds\" id=\"p69s\"></span></td><td class=\"r\" id=\"p69\">화요일 오전 05:26.</td><td class=\"r\"><img alt=\"Passing clouds. Warm.\" height=\"40\" src=\"//c.tadst.com/gfx/w/svg/wt-14.svg\" title=\"Passing clouds. Warm.\" width=\"40\"/></td><td class=\"rbi\">27 °C</td><td><a href=\"/weather/switzerland/zurich\">Zürich</a><span class=\"wds\" id=\"p139s\"> *</span></td><td class=\"r\" id=\"p139\">화요일 오전 01:56.</td><td class=\"r\"><img alt=\"Quite cool.\" height=\"40\" src=\"//c.tadst.com/gfx/w/svg/wt-17.svg\" title=\"Quite cool.\" width=\"40\"/></td><td class=\"rbi\">5 °C</td></tr>]"
      ]
     },
     "execution_count": 5,
     "metadata": {},
     "output_type": "execute_result"
    }
   ],
   "source": [
    "# rows = tabletag.find(\"tbody\").findAll(\"tr\")\n",
    "rows = tabletag.findAll(\"tr\")\n",
    "rows"
   ]
  },
  {
   "cell_type": "code",
   "execution_count": null,
   "id": "79d6ffa7-ed8b-4944-8051-c249d93929cd",
   "metadata": {},
   "outputs": [],
   "source": [
    "for j in range(0, len(rows)):\n",
    "    ### for 1개의 row를 잡고 로직을 펼친다.\n",
    "    columns = rows[j].findAll(name=[\"td\",\"th\"])\n",
    "    columnLen = len(columns)\n",
    "    \n",
    "    ### for 1개의 컬럼값을 잡고 로직을 펼친다.\n",
    "    for i in range(0, columnLen):\n",
    "        ### 만약에 컬럼내 태그가th면 nameList에 append하고 디음 for문으로 진입\n",
    "        if columns[i].name == \"th\":\n",
    "            columnValue = columns[i].text.replace(\"\\n\",\"\")\n",
    "            print(columnValue)\n",
    "            nameList.append(columnValue)\n",
    "            continue\n",
    "        # 만약에 컬럼내 태그가 th가 아니라면 columnList에 append 수행\n",
    "        else:\n",
    "            columnValue = columns[i].text.replace(\"\\n\",\"\")\n",
    "            columnList.append(columnValue)\n",
    "    \n",
    "    rowList.append(columnList)\n",
    "    columnList = []"
   ]
  },
  {
   "cell_type": "code",
   "execution_count": null,
   "id": "30a5d279-7178-49b2-ac56-082603537bc2",
   "metadata": {},
   "outputs": [],
   "source": [
    "pd.DataFrame(rowList, columns = nameList)"
   ]
  },
  {
   "cell_type": "code",
   "execution_count": 9,
   "id": "b65d26c7-b2d8-464d-bca4-9cdb13d88c15",
   "metadata": {},
   "outputs": [],
   "source": []
  },
  {
   "cell_type": "code",
   "execution_count": null,
   "id": "955fd77b-099c-4335-b154-6fed21d2ec90",
   "metadata": {},
   "outputs": [],
   "source": []
  },
  {
   "cell_type": "code",
   "execution_count": null,
   "id": "19d5ce65-bc09-4f9c-bc08-315cd257d71e",
   "metadata": {},
   "outputs": [],
   "source": []
  },
  {
   "cell_type": "code",
   "execution_count": null,
   "id": "eb67e6be-6e34-4056-a857-301042c80b7a",
   "metadata": {},
   "outputs": [],
   "source": []
  },
  {
   "cell_type": "code",
   "execution_count": null,
   "id": "a41dd44a-67f0-49a3-81a1-b18a3bb9addb",
   "metadata": {},
   "outputs": [],
   "source": []
  }
 ],
 "metadata": {
  "kernelspec": {
   "display_name": "Python 3 (ipykernel)",
   "language": "python",
   "name": "python3"
  },
  "language_info": {
   "codemirror_mode": {
    "name": "ipython",
    "version": 3
   },
   "file_extension": ".py",
   "mimetype": "text/x-python",
   "name": "python",
   "nbconvert_exporter": "python",
   "pygments_lexer": "ipython3",
   "version": "3.9.7"
  }
 },
 "nbformat": 4,
 "nbformat_minor": 5
}

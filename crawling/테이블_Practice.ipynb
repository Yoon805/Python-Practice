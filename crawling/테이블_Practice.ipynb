{
 "cells": [
  {
   "cell_type": "markdown",
   "id": "65bcb7b0-1465-4736-aab7-9d0858603c18",
   "metadata": {},
   "source": [
    "### sparkkorea test"
   ]
  },
  {
   "cell_type": "code",
   "execution_count": 6,
   "id": "c269a14b-7e50-49a2-b414-7c881cf7b527",
   "metadata": {},
   "outputs": [
    {
     "data": {
      "text/html": [
       "<div>\n",
       "<style scoped>\n",
       "    .dataframe tbody tr th:only-of-type {\n",
       "        vertical-align: middle;\n",
       "    }\n",
       "\n",
       "    .dataframe tbody tr th {\n",
       "        vertical-align: top;\n",
       "    }\n",
       "\n",
       "    .dataframe thead th {\n",
       "        text-align: right;\n",
       "    }\n",
       "</style>\n",
       "<table border=\"1\" class=\"dataframe\">\n",
       "  <thead>\n",
       "    <tr style=\"text-align: right;\">\n",
       "      <th></th>\n",
       "      <th>학번</th>\n",
       "      <th>이름</th>\n",
       "    </tr>\n",
       "  </thead>\n",
       "  <tbody>\n",
       "    <tr>\n",
       "      <th>0</th>\n",
       "      <td>101</td>\n",
       "      <td>김효관</td>\n",
       "    </tr>\n",
       "    <tr>\n",
       "      <th>1</th>\n",
       "      <td>102</td>\n",
       "      <td>이순신</td>\n",
       "    </tr>\n",
       "    <tr>\n",
       "      <th>2</th>\n",
       "      <td>103</td>\n",
       "      <td>김어진</td>\n",
       "    </tr>\n",
       "  </tbody>\n",
       "</table>\n",
       "</div>"
      ],
      "text/plain": [
       "    학번   이름\n",
       "0  101  김효관\n",
       "1  102  이순신\n",
       "2  103  김어진"
      ]
     },
     "execution_count": 6,
     "metadata": {},
     "output_type": "execute_result"
    }
   ],
   "source": [
    "import pandas as pd\n",
    "import requests\n",
    "import bs4\n",
    "\n",
    "targetUrl = \"https://sparkkorea.com/%ed%85%8c%ec%8a%a4%ed%8a%b8/\"\n",
    "\n",
    "resp = requests.get(targetUrl)\n",
    "resp.encoding = 'utf-8'\n",
    "\n",
    "html = resp.text\n",
    "\n",
    "bs = bs4.BeautifulSoup(html,'html.parser')\n",
    "\n",
    "### 데이터 찾아서 정리\n",
    "tableTag = bs.find(name=\"table\",attrs={\"class\":\"type07\"})\n",
    "\n",
    "rows = tableTag.findAll(\"tr\")\n",
    "\n",
    "columnList=[]\n",
    "nameList=[]\n",
    "rowList=[]\n",
    "\n",
    "### columns에 각 행 정보 저장\n",
    "for i in range(0, len(rows)):\n",
    "    columns = rows[i].findAll(name=[\"td\",\"th\"])\n",
    "    # print(columns)\n",
    "\n",
    "    for j in range(0,len(columns)):\n",
    "                ### 제목과 내용 분리하여 저장\n",
    "                if columns[j].name == \"th\":\n",
    "                    columnsValue = columns[j].text\n",
    "                    # print(columnsValue)\n",
    "                    nameList.append(columnsValue)\n",
    "                    continue\n",
    "                else:    \n",
    "                   columnsValue = columns[j].text\n",
    "                   # print(columnsValue)\n",
    "                   columnList.append(columnsValue)\n",
    "    ### 빈 데이터 값 제외\n",
    "    if len(columnList) == 0:\n",
    "        pass\n",
    "    else :\n",
    "        rowList.append(columnList)\n",
    "    columnList = []\n",
    "\n",
    "### 데이터 출력\n",
    "pd.DataFrame(rowList, columns = nameList)"
   ]
  },
  {
   "cell_type": "markdown",
   "id": "a7c7eb73-df6d-43d6-bb38-79bafd208dba",
   "metadata": {},
   "source": [
    "### 연습 2222\n",
    "### https://www.calspia.go.kr/io/openapi/gid/selectOpenApiSvcListView.do"
   ]
  },
  {
   "cell_type": "code",
   "execution_count": null,
   "id": "c94acdbb-7000-43e9-a9d2-ee7bac513c47",
   "metadata": {},
   "outputs": [],
   "source": []
  },
  {
   "cell_type": "code",
   "execution_count": null,
   "id": "d7975446-65d4-4b40-8edc-874677b98abd",
   "metadata": {},
   "outputs": [],
   "source": []
  },
  {
   "cell_type": "code",
   "execution_count": null,
   "id": "e30555fd-cd37-4b45-bd27-e89353ff5211",
   "metadata": {},
   "outputs": [],
   "source": []
  },
  {
   "cell_type": "code",
   "execution_count": null,
   "id": "ca4227be-fe1a-40ec-a8eb-fce7bd657c3c",
   "metadata": {},
   "outputs": [],
   "source": []
  },
  {
   "cell_type": "code",
   "execution_count": null,
   "id": "a85a0043-014d-4b4b-af46-e4fcba82132b",
   "metadata": {},
   "outputs": [],
   "source": []
  },
  {
   "cell_type": "code",
   "execution_count": null,
   "id": "03abf3ed-2354-47d6-868b-7deb776f841f",
   "metadata": {},
   "outputs": [],
   "source": []
  },
  {
   "cell_type": "code",
   "execution_count": null,
   "id": "28d712cb-0556-4488-a380-cbeaca8caa3a",
   "metadata": {},
   "outputs": [],
   "source": []
  },
  {
   "cell_type": "code",
   "execution_count": null,
   "id": "e0df4cd2-8497-4b0f-86b1-b1e001343eec",
   "metadata": {},
   "outputs": [],
   "source": []
  },
  {
   "cell_type": "code",
   "execution_count": null,
   "id": "8fe49a39-139c-4d45-bb59-ef54e2c176fd",
   "metadata": {},
   "outputs": [],
   "source": []
  }
 ],
 "metadata": {
  "kernelspec": {
   "display_name": "Python 3 (ipykernel)",
   "language": "python",
   "name": "python3"
  },
  "language_info": {
   "codemirror_mode": {
    "name": "ipython",
    "version": 3
   },
   "file_extension": ".py",
   "mimetype": "text/x-python",
   "name": "python",
   "nbconvert_exporter": "python",
   "pygments_lexer": "ipython3",
   "version": "3.9.7"
  }
 },
 "nbformat": 4,
 "nbformat_minor": 5
}

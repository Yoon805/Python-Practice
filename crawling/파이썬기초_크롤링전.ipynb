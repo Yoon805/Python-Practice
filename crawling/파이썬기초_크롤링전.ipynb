{
 "cells": [
  {
   "cell_type": "markdown",
   "id": "e5bef4db-3470-48bd-995e-967a17c891e9",
   "metadata": {},
   "source": [
    "## 1. 반복문"
   ]
  },
  {
   "cell_type": "code",
   "execution_count": 1,
   "id": "2f09e6e9-d08d-473d-86b1-652bdb5d265e",
   "metadata": {},
   "outputs": [],
   "source": [
    "inputList = [\"UN42INCH001\",\"UN42INCH002\",\"UN42INCH003\"]"
   ]
  },
  {
   "cell_type": "code",
   "execution_count": 2,
   "id": "39578655-d7f6-47ef-8268-125d8a67744a",
   "metadata": {},
   "outputs": [],
   "source": [
    "### 예시_POSTFIX 브랜드명 \"KOPO\""
   ]
  },
  {
   "cell_type": "code",
   "execution_count": 3,
   "id": "0c4d81a4-fd31-4909-902a-bc5c1f13eaf3",
   "metadata": {},
   "outputs": [],
   "source": [
    "### 1. POSTFIX 정의\n",
    "postFix = \"KOPO\""
   ]
  },
  {
   "cell_type": "code",
   "execution_count": 4,
   "id": "f265a915-2bd8-40ac-9667-43b151fd5642",
   "metadata": {},
   "outputs": [],
   "source": [
    "### 2. 각 리스트의 아이템 뒤쪽에 \"POSTFIX\"를 붙인다."
   ]
  },
  {
   "cell_type": "code",
   "execution_count": 5,
   "id": "df5b24c7-b97e-4ed9-b53d-3638e81293ca",
   "metadata": {},
   "outputs": [],
   "source": [
    "delimeter = \"_\""
   ]
  },
  {
   "cell_type": "code",
   "execution_count": 6,
   "id": "941c5d02-d2dd-431d-84c6-391afc0e6f19",
   "metadata": {},
   "outputs": [],
   "source": [
    "for i in range(0,len(inputList)):\n",
    "    inputList[i] = inputList[i] + delimeter + postFix"
   ]
  },
  {
   "cell_type": "code",
   "execution_count": 7,
   "id": "5bda243e-4ada-47c5-bada-10cb4a47ba0e",
   "metadata": {},
   "outputs": [
    {
     "data": {
      "text/plain": [
       "['UN42INCH001_KOPO', 'UN42INCH002_KOPO', 'UN42INCH003_KOPO']"
      ]
     },
     "execution_count": 7,
     "metadata": {},
     "output_type": "execute_result"
    }
   ],
   "source": [
    "inputList"
   ]
  },
  {
   "cell_type": "code",
   "execution_count": 8,
   "id": "4c9e0ca6-00f6-43dc-aa45-fce619c2462d",
   "metadata": {},
   "outputs": [],
   "source": [
    "### 001 빼기"
   ]
  },
  {
   "cell_type": "code",
   "execution_count": 6,
   "id": "e89ce187-fab5-46ce-bc18-80fe55aa03c1",
   "metadata": {},
   "outputs": [],
   "source": [
    "exceptChar = \"002\""
   ]
  },
  {
   "cell_type": "code",
   "execution_count": 10,
   "id": "bd233a40-9a63-4cb3-bb2f-0f22121663e5",
   "metadata": {},
   "outputs": [],
   "source": [
    "itemCode = inputList[1]"
   ]
  },
  {
   "cell_type": "code",
   "execution_count": 11,
   "id": "63d77a5c-79e6-4ce2-8d86-2c72ee1054e2",
   "metadata": {},
   "outputs": [
    {
     "data": {
      "text/plain": [
       "True"
      ]
     },
     "execution_count": 11,
     "metadata": {},
     "output_type": "execute_result"
    }
   ],
   "source": [
    "itemCode.count(\"002\") >=1"
   ]
  },
  {
   "cell_type": "code",
   "execution_count": 7,
   "id": "013ae519-1546-46e6-9750-4208f447a05b",
   "metadata": {},
   "outputs": [],
   "source": [
    "cleansedItemList = []"
   ]
  },
  {
   "cell_type": "code",
   "execution_count": 8,
   "id": "95b905ac-ba25-475c-b49d-f55ca62f0f06",
   "metadata": {},
   "outputs": [],
   "source": [
    "for i in range(0,len(inputList)):\n",
    "    # 002 포함 아이템 제외\n",
    "    itemCode = inputList[i]\n",
    "    if itemCode.count(\"002\") >=1:\n",
    "        continue\n",
    "    inputList[i] = inputList[i] + delimeter + postFix\n",
    "    cleansedItemList.append(inputList[i])"
   ]
  },
  {
   "cell_type": "code",
   "execution_count": 9,
   "id": "d03a103e-6d04-4f30-95b4-154cc4378a67",
   "metadata": {},
   "outputs": [
    {
     "data": {
      "text/plain": [
       "['UN42INCH001_KOPO', 'UN42INCH002', 'UN42INCH003_KOPO']"
      ]
     },
     "execution_count": 9,
     "metadata": {},
     "output_type": "execute_result"
    }
   ],
   "source": [
    "inputList"
   ]
  },
  {
   "cell_type": "code",
   "execution_count": 10,
   "id": "1084d963-d304-433e-8f58-31bce2e8f042",
   "metadata": {},
   "outputs": [
    {
     "data": {
      "text/plain": [
       "['UN42INCH001_KOPO', 'UN42INCH003_KOPO']"
      ]
     },
     "execution_count": 10,
     "metadata": {},
     "output_type": "execute_result"
    }
   ],
   "source": [
    "cleansedItemList"
   ]
  },
  {
   "cell_type": "markdown",
   "id": "769d35e0-cc9e-4ebf-a4b6-f28a3d9fbee6",
   "metadata": {},
   "source": [
    "### 1. pandas (행과 열이 있는 스프레드 시트 형태의 데이터)"
   ]
  },
  {
   "cell_type": "code",
   "execution_count": 1,
   "id": "c80dc966-7666-49b6-af9c-6cd80c3d2c14",
   "metadata": {},
   "outputs": [],
   "source": [
    "import pandas as pd"
   ]
  },
  {
   "cell_type": "code",
   "execution_count": 2,
   "id": "adc432ca-8d05-48e1-b605-839436bad75e",
   "metadata": {},
   "outputs": [],
   "source": [
    "cityList = [[\"서울\",\"02\"],[\"경기\",\"031\"]]"
   ]
  },
  {
   "cell_type": "code",
   "execution_count": 5,
   "id": "98355126-b0ac-45c0-859d-74059cedbde9",
   "metadata": {},
   "outputs": [
    {
     "data": {
      "text/html": [
       "<div>\n",
       "<style scoped>\n",
       "    .dataframe tbody tr th:only-of-type {\n",
       "        vertical-align: middle;\n",
       "    }\n",
       "\n",
       "    .dataframe tbody tr th {\n",
       "        vertical-align: top;\n",
       "    }\n",
       "\n",
       "    .dataframe thead th {\n",
       "        text-align: right;\n",
       "    }\n",
       "</style>\n",
       "<table border=\"1\" class=\"dataframe\">\n",
       "  <thead>\n",
       "    <tr style=\"text-align: right;\">\n",
       "      <th></th>\n",
       "      <th>지역</th>\n",
       "      <th>번호</th>\n",
       "    </tr>\n",
       "  </thead>\n",
       "  <tbody>\n",
       "    <tr>\n",
       "      <th>0</th>\n",
       "      <td>서울</td>\n",
       "      <td>02</td>\n",
       "    </tr>\n",
       "    <tr>\n",
       "      <th>1</th>\n",
       "      <td>경기</td>\n",
       "      <td>031</td>\n",
       "    </tr>\n",
       "  </tbody>\n",
       "</table>\n",
       "</div>"
      ],
      "text/plain": [
       "   지역   번호\n",
       "0  서울   02\n",
       "1  경기  031"
      ]
     },
     "execution_count": 5,
     "metadata": {},
     "output_type": "execute_result"
    }
   ],
   "source": [
    "pd.DataFrame(cityList,columns=[\"지역\",\"번호\"])"
   ]
  },
  {
   "cell_type": "markdown",
   "id": "1ecf98fd-4ecc-45a2-afc7-a159ac5d53fc",
   "metadata": {
    "tags": []
   },
   "source": [
    "### 가로형태 데이터 데이터 프레임 변환"
   ]
  },
  {
   "cell_type": "code",
   "execution_count": 7,
   "id": "3465fe71-504b-4e16-a1bd-346407f79818",
   "metadata": {},
   "outputs": [
    {
     "data": {
      "text/html": [
       "<div>\n",
       "<style scoped>\n",
       "    .dataframe tbody tr th:only-of-type {\n",
       "        vertical-align: middle;\n",
       "    }\n",
       "\n",
       "    .dataframe tbody tr th {\n",
       "        vertical-align: top;\n",
       "    }\n",
       "\n",
       "    .dataframe thead th {\n",
       "        text-align: right;\n",
       "    }\n",
       "</style>\n",
       "<table border=\"1\" class=\"dataframe\">\n",
       "  <thead>\n",
       "    <tr style=\"text-align: right;\">\n",
       "      <th></th>\n",
       "      <th>지역</th>\n",
       "      <th>번호</th>\n",
       "    </tr>\n",
       "  </thead>\n",
       "  <tbody>\n",
       "    <tr>\n",
       "      <th>0</th>\n",
       "      <td>서울</td>\n",
       "      <td>02</td>\n",
       "    </tr>\n",
       "    <tr>\n",
       "      <th>1</th>\n",
       "      <td>경기</td>\n",
       "      <td>031</td>\n",
       "    </tr>\n",
       "  </tbody>\n",
       "</table>\n",
       "</div>"
      ],
      "text/plain": [
       "   지역   번호\n",
       "0  서울   02\n",
       "1  경기  031"
      ]
     },
     "execution_count": 7,
     "metadata": {},
     "output_type": "execute_result"
    }
   ],
   "source": [
    "pd.DataFrame([[\"서울\",\"02\"],\n",
    "              [\"경기\",\"031\"]],columns=[\"지역\",\"번호\"])"
   ]
  },
  {
   "cell_type": "markdown",
   "id": "66db6d8f-e634-4ea9-9dc3-a6cb409c1f6f",
   "metadata": {},
   "source": []
  },
  {
   "cell_type": "code",
   "execution_count": null,
   "id": "93298435-b933-46b2-a0dc-fc7ac3781c7a",
   "metadata": {},
   "outputs": [],
   "source": []
  },
  {
   "cell_type": "code",
   "execution_count": null,
   "id": "863f3385-bde9-4aad-ac0f-c20011d2e64d",
   "metadata": {},
   "outputs": [],
   "source": []
  },
  {
   "cell_type": "code",
   "execution_count": null,
   "id": "16a3f7ab-8da2-4d1a-8c34-3527b49280f2",
   "metadata": {},
   "outputs": [],
   "source": []
  },
  {
   "cell_type": "code",
   "execution_count": null,
   "id": "44b48c76-3798-4e44-a9a5-c90dfa98ec2d",
   "metadata": {},
   "outputs": [],
   "source": []
  },
  {
   "cell_type": "code",
   "execution_count": null,
   "id": "21e057c6-0e5d-43c5-804d-a761507b51df",
   "metadata": {},
   "outputs": [],
   "source": []
  },
  {
   "cell_type": "code",
   "execution_count": null,
   "id": "e2c59970-b817-4263-90ee-ad0b877d7958",
   "metadata": {},
   "outputs": [],
   "source": []
  },
  {
   "cell_type": "code",
   "execution_count": null,
   "id": "3aa08058-aaf4-4631-814a-a555141151c7",
   "metadata": {},
   "outputs": [],
   "source": []
  },
  {
   "cell_type": "code",
   "execution_count": null,
   "id": "28e6e892-9672-4350-b825-9d72f8d9526a",
   "metadata": {},
   "outputs": [],
   "source": []
  },
  {
   "cell_type": "code",
   "execution_count": null,
   "id": "840b6e3b-062e-49fa-a41b-fe4dd222c4fb",
   "metadata": {},
   "outputs": [],
   "source": []
  },
  {
   "cell_type": "code",
   "execution_count": null,
   "id": "8909d2ff-0b47-44de-b8c6-12c7efe68042",
   "metadata": {},
   "outputs": [],
   "source": []
  },
  {
   "cell_type": "code",
   "execution_count": null,
   "id": "4b1dd490-3e1b-495f-aa0a-948c125024a7",
   "metadata": {},
   "outputs": [],
   "source": []
  }
 ],
 "metadata": {
  "kernelspec": {
   "display_name": "Python 3 (ipykernel)",
   "language": "python",
   "name": "python3"
  },
  "language_info": {
   "codemirror_mode": {
    "name": "ipython",
    "version": 3
   },
   "file_extension": ".py",
   "mimetype": "text/x-python",
   "name": "python",
   "nbconvert_exporter": "python",
   "pygments_lexer": "ipython3",
   "version": "3.9.7"
  }
 },
 "nbformat": 4,
 "nbformat_minor": 5
}

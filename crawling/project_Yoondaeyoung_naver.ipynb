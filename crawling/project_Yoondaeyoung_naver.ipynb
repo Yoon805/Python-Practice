{
 "cells": [
  {
   "cell_type": "markdown",
   "id": "25c503fc-b6ec-4476-864c-df16b008577a",
   "metadata": {},
   "source": [
    "### 크롤링 연습 "
   ]
  },
  {
   "cell_type": "code",
   "execution_count": 1,
   "id": "61d3db61-2be7-4ff4-86af-316eea6c9a1a",
   "metadata": {},
   "outputs": [],
   "source": [
    "# 행과 열이 있는 데이터 처리 라이브러리\n",
    "import pandas as pd\n",
    "# 웹페이지 요청 라이브러리\n",
    "import requests\n",
    "# 페이지소스 이쁘게 가져오는 라이브러리\n",
    "import bs4"
   ]
  },
  {
   "cell_type": "code",
   "execution_count": 2,
   "id": "a3b22728-29ee-4b1f-b79b-24439b8e6074",
   "metadata": {},
   "outputs": [],
   "source": [
    "# 페이지에서 html 소스 가져오기\n",
    "targetUrl = \"https://www.naver.com/\"\n",
    "try:\n",
    "    resp = requests.get(targetUrl)\n",
    "except Exception as e:\n",
    "    print(e)\n",
    "    print(\"크롤링한 페이지 : \" + targetUrl)\n",
    "    \n",
    "html = resp.text\n",
    "bs = bs4.BeautifulSoup(html, 'html.parser')\n",
    "\n",
    "# 목표 링크까지 Tag 줄여가기\n",
    "divTag = bs.find(name = \"div\", attrs ={\"class\" :\"footer_inner\" })\n",
    "\n",
    "divTag2 = bs.find(name = \"div\", attrs ={\"class\" :\"partner_box\" })\n",
    "\n",
    "aTags = divTag2.findAll(name = \"a\")\n",
    "\n",
    "nameList = []\n",
    "linkList = []\n",
    "\n",
    "aTagsLen = len(aTags)\n",
    "\n",
    "for i in range (0, aTagsLen):\n",
    "    #태그 텍스트 찾기\n",
    "    tagTextName = aTags[i].text \n",
    "    #속성 찾기\n",
    "    if aTags[i].attrs[\"href\"][0] == \"#\":\n",
    "        tagLinkInfo = targetUrl + aTags[i].attrs[\"href\"]\n",
    "    else:\n",
    "        tagLinkInfo = aTags[i].attrs[\"href\"]\n",
    "    #태그명 찾기\n",
    "    tagNameInfo = aTags[i].name\n",
    "    nameList.append(tagTextName)\n",
    "    linkList.append(tagLinkInfo)\n",
    "    \n",
    "# 구한 값들을 zip 함수로 합치기\n",
    "df2 = pd.DataFrame( zip( nameList, linkList) , columns = [\"name\",\"link\"] )\n",
    "# csv 파일로 저장하기\n",
    "df2.to_csv(\"./practice3.csv\",index=False)"
   ]
  },
  {
   "cell_type": "markdown",
   "id": "cf732dc3-8d50-4504-834a-6b41dcd62cb5",
   "metadata": {},
   "source": [
    "### 연습 333"
   ]
  },
  {
   "cell_type": "code",
   "execution_count": null,
   "id": "c093ce09-493a-40ae-bb75-ec10b9363223",
   "metadata": {},
   "outputs": [],
   "source": []
  },
  {
   "cell_type": "code",
   "execution_count": 3,
   "id": "b8edc90f-a0c5-4ba1-81ad-e53ae8202339",
   "metadata": {
    "tags": []
   },
   "outputs": [],
   "source": [
    "# 페이지에서 html 소스 가져오기\n",
    "targetUrl = \"https://www.timeanddate.com/holidays/south-korea/\"\n",
    "try:\n",
    "    resp = requests.get(targetUrl)\n",
    "except Exception as e:\n",
    "    print(e)\n",
    "    print(\"크롤링 error 페이지 : \" + targetUrl)\n",
    "    \n",
    "html = resp.text\n",
    "bs = bs4.BeautifulSoup(html, 'html.parser')\n",
    "\n",
    "# 목표 링크까지 Tag 줄여가기\n",
    "divTag = bs.find(name = \"div\", attrs ={\"class\" :\"main-content-div\" })\n"
   ]
  },
  {
   "cell_type": "code",
   "execution_count": 4,
   "id": "d0479452-b3d5-4a90-91ac-a401b3b90191",
   "metadata": {
    "tags": []
   },
   "outputs": [],
   "source": [
    "articleTag = divTag.find(name = \"article\", attrs ={\"class\" :\"table-data\" })\n"
   ]
  },
  {
   "cell_type": "code",
   "execution_count": 5,
   "id": "8a56a0e7-fd7a-4d13-b8d4-57b79c8eea7c",
   "metadata": {
    "tags": []
   },
   "outputs": [],
   "source": [
    "tableTag = articleTag.find(name = \"table\", attrs ={\"id\" :\"holidays-table\" })\n"
   ]
  },
  {
   "cell_type": "code",
   "execution_count": 6,
   "id": "d60cb98b-5c69-46e1-bdb0-9b4ce0633fe5",
   "metadata": {
    "tags": []
   },
   "outputs": [],
   "source": [
    "tbodyTag = tableTag.find(name = \"tbody\")\n"
   ]
  },
  {
   "cell_type": "code",
   "execution_count": 7,
   "id": "a6f08991-a245-4205-85be-7b122e5d0dbc",
   "metadata": {
    "tags": []
   },
   "outputs": [
    {
     "data": {
      "text/plain": [
       "<tr data-date=\"1643587200000\" data-mask=\"1\" id=\"tr2\"><th class=\"nw\">1월 31일</th><td class=\"nw\">월요일</td><td><a href=\"/holidays/south-korea/seollal-holiday-1\">Seollal Holiday</a></td><td>Public Holiday</td></tr>"
      ]
     },
     "execution_count": 7,
     "metadata": {},
     "output_type": "execute_result"
    }
   ],
   "source": [
    "trTags = tbodyTag.findAll(name = \"tr\")\n",
    "trTags[2]\n"
   ]
  },
  {
   "cell_type": "code",
   "execution_count": 13,
   "id": "adf4c563-09dc-4dd7-bdbe-0263821ba151",
   "metadata": {
    "tags": []
   },
   "outputs": [],
   "source": [
    "aTags = []"
   ]
  },
  {
   "cell_type": "code",
   "execution_count": 14,
   "id": "2a056106-613a-4ac8-bd45-3aaa55aad8b2",
   "metadata": {
    "tags": []
   },
   "outputs": [
    {
     "data": {
      "text/plain": [
       "[[],\n",
       " [<a href=\"/holidays/south-korea/new-year-day\">New Year's Day</a>],\n",
       " [<a href=\"/holidays/south-korea/seollal-holiday-1\">Seollal Holiday</a>],\n",
       " [],\n",
       " [<a href=\"/holidays/south-korea/seollal-holiday-2\">Seollal</a>],\n",
       " [<a href=\"/holidays/south-korea/seollal-holiday-3\">Seollal Holiday</a>],\n",
       " [<a href=\"/holidays/south-korea/valentines-day\">Valentine's Day</a>],\n",
       " [],\n",
       " [<a href=\"/holidays/south-korea/independence-movement-day\">Independence Movement Day</a>],\n",
       " [<a href=\"/holidays/south-korea/presidential-elections\">Presidential Election</a>],\n",
       " [<a href=\"/calendar/march-equinox.html\">March Equinox</a>],\n",
       " [],\n",
       " [<a href=\"/holidays/south-korea/arbor-day\">Arbor Day</a>],\n",
       " [],\n",
       " [<a href=\"/holidays/south-korea/labor-day\">Labor Day</a>],\n",
       " [<a href=\"/holidays/south-korea/childrens-day\">Children's Day</a>],\n",
       " [<a href=\"/holidays/south-korea/buddha-birthday\">Buddha's Birthday</a>],\n",
       " [<a href=\"/holidays/south-korea/parents-day\">Parents' Day</a>],\n",
       " [<a href=\"/holidays/south-korea/teachers-day\">Teacher's Day</a>],\n",
       " [],\n",
       " [<a href=\"/holidays/south-korea/local-election-day\">Local Election Day</a>],\n",
       " [<a href=\"/holidays/south-korea/memorial-day\">Memorial Day</a>],\n",
       " [<a href=\"/calendar/june-solstice.html\">June Solstice</a>],\n",
       " [],\n",
       " [<a href=\"/holidays/south-korea/constitution-day\">Constitution Day</a>],\n",
       " [],\n",
       " [<a href=\"/holidays/south-korea/liberation-day\">Liberation Day</a>],\n",
       " [],\n",
       " [<a href=\"/holidays/south-korea/mid-autumn-festival-day-1\">Chuseok Holiday</a>],\n",
       " [<a href=\"/holidays/south-korea/mid-autumn-festival-day-2\">Chuseok</a>],\n",
       " [<a href=\"/holidays/south-korea/mid-autumn-festival-day-3\">Chuseok Holiday</a>],\n",
       " [<a href=\"/calendar/september-equinox.html\">September Equinox</a>],\n",
       " [],\n",
       " [<a href=\"/holidays/south-korea/armed-forces-day\">Armed Forces Day</a>],\n",
       " [<a href=\"/holidays/south-korea/national-foundation-day\">National Foundation Day</a>],\n",
       " [<a href=\"/holidays/south-korea/hangeul-day\">Hangeul Proclamation Day</a>],\n",
       " [<a href=\"/holidays/south-korea/halloween\">Halloween</a>],\n",
       " [],\n",
       " [],\n",
       " [<a href=\"/calendar/december-solstice.html\">December Solstice</a>],\n",
       " [<a href=\"/holidays/south-korea/christmas-eve\">Christmas Eve</a>],\n",
       " [<a href=\"/holidays/south-korea/christmas-day\">Christmas Day</a>],\n",
       " [<a href=\"/holidays/south-korea/new-year-eve\">New Year's Eve</a>]]"
      ]
     },
     "execution_count": 14,
     "metadata": {},
     "output_type": "execute_result"
    }
   ],
   "source": [
    "for i in range(0,len(trTags)):\n",
    "    aTags.append(trTags[i].findAll(name=\"a\"))\n",
    "aTags"
   ]
  },
  {
   "cell_type": "code",
   "execution_count": 15,
   "id": "d5338aea-e827-4928-99a7-2e7b36f5978a",
   "metadata": {},
   "outputs": [
    {
     "data": {
      "text/plain": [
       "[<a href=\"/holidays/south-korea/seollal-holiday-1\">Seollal Holiday</a>]"
      ]
     },
     "execution_count": 15,
     "metadata": {},
     "output_type": "execute_result"
    }
   ],
   "source": [
    "aTags[2]"
   ]
  },
  {
   "cell_type": "code",
   "execution_count": 16,
   "id": "dc7ce276-c292-4913-8f54-ff574933ad16",
   "metadata": {},
   "outputs": [
    {
     "data": {
      "text/plain": [
       "<a href=\"/holidays/south-korea/seollal-holiday-1\">Seollal Holiday</a>"
      ]
     },
     "execution_count": 16,
     "metadata": {},
     "output_type": "execute_result"
    }
   ],
   "source": [
    "aTags[2][0]"
   ]
  },
  {
   "cell_type": "code",
   "execution_count": 102,
   "id": "395445b0-efdc-4334-8fea-932d83f40852",
   "metadata": {},
   "outputs": [
    {
     "ename": "AttributeError",
     "evalue": "ResultSet object has no attribute 'attrs'. You're probably treating a list of elements like a single element. Did you call find_all() when you meant to call find()?",
     "output_type": "error",
     "traceback": [
      "\u001b[1;31m---------------------------------------------------------------------------\u001b[0m",
      "\u001b[1;31mAttributeError\u001b[0m                            Traceback (most recent call last)",
      "\u001b[1;32m~\\AppData\\Local\\Temp/ipykernel_1200/791690312.py\u001b[0m in \u001b[0;36m<module>\u001b[1;34m\u001b[0m\n\u001b[1;32m----> 1\u001b[1;33m \u001b[0maTags\u001b[0m\u001b[1;33m[\u001b[0m\u001b[1;36m2\u001b[0m\u001b[1;33m]\u001b[0m\u001b[1;33m.\u001b[0m\u001b[0mattrs\u001b[0m\u001b[1;33m[\u001b[0m\u001b[1;34m\"href\"\u001b[0m\u001b[1;33m]\u001b[0m\u001b[1;33m\u001b[0m\u001b[1;33m\u001b[0m\u001b[0m\n\u001b[0m",
      "\u001b[1;32m~\\Anaconda3\\lib\\site-packages\\bs4\\element.py\u001b[0m in \u001b[0;36m__getattr__\u001b[1;34m(self, key)\u001b[0m\n\u001b[0;32m   2251\u001b[0m     \u001b[1;32mdef\u001b[0m \u001b[0m__getattr__\u001b[0m\u001b[1;33m(\u001b[0m\u001b[0mself\u001b[0m\u001b[1;33m,\u001b[0m \u001b[0mkey\u001b[0m\u001b[1;33m)\u001b[0m\u001b[1;33m:\u001b[0m\u001b[1;33m\u001b[0m\u001b[1;33m\u001b[0m\u001b[0m\n\u001b[0;32m   2252\u001b[0m         \u001b[1;34m\"\"\"Raise a helpful exception to explain a common code fix.\"\"\"\u001b[0m\u001b[1;33m\u001b[0m\u001b[1;33m\u001b[0m\u001b[0m\n\u001b[1;32m-> 2253\u001b[1;33m         raise AttributeError(\n\u001b[0m\u001b[0;32m   2254\u001b[0m             \u001b[1;34m\"ResultSet object has no attribute '%s'. You're probably treating a list of elements like a single element. Did you call find_all() when you meant to call find()?\"\u001b[0m \u001b[1;33m%\u001b[0m \u001b[0mkey\u001b[0m\u001b[1;33m\u001b[0m\u001b[1;33m\u001b[0m\u001b[0m\n\u001b[0;32m   2255\u001b[0m         )\n",
      "\u001b[1;31mAttributeError\u001b[0m: ResultSet object has no attribute 'attrs'. You're probably treating a list of elements like a single element. Did you call find_all() when you meant to call find()?"
     ]
    }
   ],
   "source": [
    "aTags[2].attrs[\"href\"]"
   ]
  },
  {
   "cell_type": "code",
   "execution_count": null,
   "id": "6419250c-e59d-4704-b2eb-174064e6e92c",
   "metadata": {},
   "outputs": [],
   "source": []
  },
  {
   "cell_type": "code",
   "execution_count": 62,
   "id": "139ee86f-1311-4b95-b3b4-90e955abb698",
   "metadata": {},
   "outputs": [],
   "source": [
    "holiDateTag = []\n",
    "holiDayOfTheWeekTag = [] \n",
    "holiDate = []\n",
    "holiDayOfTheWeek = []\n"
   ]
  },
  {
   "cell_type": "code",
   "execution_count": 83,
   "id": "f40cd1c5-23e2-4fbd-bf50-ea290932e4d1",
   "metadata": {},
   "outputs": [
    {
     "ename": "AttributeError",
     "evalue": "ResultSet object has no attribute 'attrs'. You're probably treating a list of elements like a single element. Did you call find_all() when you meant to call find()?",
     "output_type": "error",
     "traceback": [
      "\u001b[1;31m---------------------------------------------------------------------------\u001b[0m",
      "\u001b[1;31mAttributeError\u001b[0m                            Traceback (most recent call last)",
      "\u001b[1;32m~\\AppData\\Local\\Temp/ipykernel_1200/524093278.py\u001b[0m in \u001b[0;36m<module>\u001b[1;34m\u001b[0m\n\u001b[0;32m     10\u001b[0m \u001b[1;33m\u001b[0m\u001b[0m\n\u001b[0;32m     11\u001b[0m \u001b[1;33m\u001b[0m\u001b[0m\n\u001b[1;32m---> 12\u001b[1;33m     \u001b[1;32mif\u001b[0m \u001b[0maTags\u001b[0m\u001b[1;33m[\u001b[0m\u001b[0mi\u001b[0m\u001b[1;33m]\u001b[0m\u001b[1;33m.\u001b[0m\u001b[0mattrs\u001b[0m\u001b[1;33m[\u001b[0m\u001b[1;34m\"href\"\u001b[0m\u001b[1;33m]\u001b[0m\u001b[1;33m[\u001b[0m\u001b[1;36m0\u001b[0m\u001b[1;33m]\u001b[0m \u001b[1;33m==\u001b[0m \u001b[1;34m\"#\"\u001b[0m\u001b[1;33m:\u001b[0m\u001b[1;33m\u001b[0m\u001b[1;33m\u001b[0m\u001b[0m\n\u001b[0m\u001b[0;32m     13\u001b[0m             \u001b[0mtagLinkInfo\u001b[0m \u001b[1;33m=\u001b[0m \u001b[0mtargetUrl\u001b[0m \u001b[1;33m+\u001b[0m \u001b[0maTags\u001b[0m\u001b[1;33m[\u001b[0m\u001b[0mi\u001b[0m\u001b[1;33m]\u001b[0m\u001b[1;33m.\u001b[0m\u001b[0mattrs\u001b[0m\u001b[1;33m[\u001b[0m\u001b[1;34m\"href\"\u001b[0m\u001b[1;33m]\u001b[0m\u001b[1;33m\u001b[0m\u001b[1;33m\u001b[0m\u001b[0m\n\u001b[0;32m     14\u001b[0m     \u001b[1;32melse\u001b[0m\u001b[1;33m:\u001b[0m\u001b[1;33m\u001b[0m\u001b[1;33m\u001b[0m\u001b[0m\n",
      "\u001b[1;32m~\\Anaconda3\\lib\\site-packages\\bs4\\element.py\u001b[0m in \u001b[0;36m__getattr__\u001b[1;34m(self, key)\u001b[0m\n\u001b[0;32m   2251\u001b[0m     \u001b[1;32mdef\u001b[0m \u001b[0m__getattr__\u001b[0m\u001b[1;33m(\u001b[0m\u001b[0mself\u001b[0m\u001b[1;33m,\u001b[0m \u001b[0mkey\u001b[0m\u001b[1;33m)\u001b[0m\u001b[1;33m:\u001b[0m\u001b[1;33m\u001b[0m\u001b[1;33m\u001b[0m\u001b[0m\n\u001b[0;32m   2252\u001b[0m         \u001b[1;34m\"\"\"Raise a helpful exception to explain a common code fix.\"\"\"\u001b[0m\u001b[1;33m\u001b[0m\u001b[1;33m\u001b[0m\u001b[0m\n\u001b[1;32m-> 2253\u001b[1;33m         raise AttributeError(\n\u001b[0m\u001b[0;32m   2254\u001b[0m             \u001b[1;34m\"ResultSet object has no attribute '%s'. You're probably treating a list of elements like a single element. Did you call find_all() when you meant to call find()?\"\u001b[0m \u001b[1;33m%\u001b[0m \u001b[0mkey\u001b[0m\u001b[1;33m\u001b[0m\u001b[1;33m\u001b[0m\u001b[0m\n\u001b[0;32m   2255\u001b[0m         )\n",
      "\u001b[1;31mAttributeError\u001b[0m: ResultSet object has no attribute 'attrs'. You're probably treating a list of elements like a single element. Did you call find_all() when you meant to call find()?"
     ]
    }
   ],
   "source": [
    "\n",
    "for i in range (0, len(trTags)-1):\n",
    "    holiDateTag.append( trTags[i].find(name = \"th\", attrs = { \"class\":\"nw\"}))\n",
    "    holiDayOfTheWeekTag.append( trTags[i].find(name = \"td\", attrs = { \"class\":\"nw\"}))\n",
    "\n",
    "    if (holiDateTag[i]==None):\n",
    "        continue\n",
    "    else :\n",
    "        holiDate.append(holiDateTag[i].text)\n",
    "        holiDayOfTheWeek.append(holiDayOfTheWeekTag[i].text)\n",
    "\n",
    "\n",
    "    if aTags[i].attrs[\"href\"][0] == \"#\":\n",
    "            tagLinkInfo = targetUrl + aTags[i].attrs[\"href\"]\n",
    "    else:\n",
    "        tagLinkInfo = aTags[i].attrs[\"href\"]"
   ]
  },
  {
   "cell_type": "code",
   "execution_count": 73,
   "id": "a2270865-4e63-4df7-bbaf-e7cf3c6df6d8",
   "metadata": {},
   "outputs": [
    {
     "data": {
      "text/plain": [
       "<tr data-date=\"1640995200000\" data-mask=\"1\" id=\"tr1\"><th class=\"nw\">1월 1일</th><td class=\"nw\">토요일</td><td><a href=\"/holidays/south-korea/new-year-day\">New Year's Day</a></td><td>Public Holiday</td></tr>"
      ]
     },
     "execution_count": 73,
     "metadata": {},
     "output_type": "execute_result"
    }
   ],
   "source": [
    "trTags[1]"
   ]
  },
  {
   "cell_type": "code",
   "execution_count": null,
   "id": "9243acb0-a2a7-417a-8c78-8fbd8630f40b",
   "metadata": {},
   "outputs": [],
   "source": [
    "tagLinkInfo"
   ]
  },
  {
   "cell_type": "code",
   "execution_count": null,
   "id": "fd724dd7-ffd3-496b-96cd-b76a20bfffcf",
   "metadata": {},
   "outputs": [],
   "source": [
    "<a href=\"/holidays/south-korea/seollal-holiday-1\">Seollal Holiday</a>"
   ]
  },
  {
   "cell_type": "code",
   "execution_count": 66,
   "id": "6f0d5c21-61d4-44a3-a64b-e4cb2d4e8c70",
   "metadata": {
    "collapsed": true,
    "jupyter": {
     "outputs_hidden": true,
     "source_hidden": true
    },
    "tags": []
   },
   "outputs": [
    {
     "data": {
      "text/plain": [
       "['토요일',\n",
       " '월요일',\n",
       " '화요일',\n",
       " '수요일',\n",
       " '월요일',\n",
       " '화요일',\n",
       " '수요일',\n",
       " '월요일',\n",
       " '화요일',\n",
       " '일요일',\n",
       " '목요일',\n",
       " '일요일',\n",
       " '일요일',\n",
       " '일요일',\n",
       " '수요일',\n",
       " '월요일',\n",
       " '화요일',\n",
       " '일요일',\n",
       " '월요일',\n",
       " '금요일',\n",
       " '토요일',\n",
       " '일요일',\n",
       " '금요일',\n",
       " '토요일',\n",
       " '월요일',\n",
       " '일요일',\n",
       " '월요일',\n",
       " '목요일',\n",
       " '토요일',\n",
       " '일요일']"
      ]
     },
     "execution_count": 66,
     "metadata": {},
     "output_type": "execute_result"
    }
   ],
   "source": [
    "holiDayOfTheWeeka"
   ]
  },
  {
   "cell_type": "code",
   "execution_count": 50,
   "id": "9d9ab982-55f2-468f-8564-7ec970b83f73",
   "metadata": {},
   "outputs": [
    {
     "data": {
      "text/plain": [
       "True"
      ]
     },
     "execution_count": 50,
     "metadata": {},
     "output_type": "execute_result"
    }
   ],
   "source": [
    "holiDateTag[0] == None "
   ]
  },
  {
   "cell_type": "code",
   "execution_count": 51,
   "id": "6b0eb91c-5d7b-46ce-922e-f4190bfd097e",
   "metadata": {
    "collapsed": true,
    "jupyter": {
     "outputs_hidden": true
    },
    "tags": []
   },
   "outputs": [
    {
     "data": {
      "text/plain": [
       "[<th class=\"nw\">1월 1일</th>,\n",
       " <th class=\"nw\">1월 31일</th>,\n",
       " <th class=\"nw\">2월 1일</th>,\n",
       " <th class=\"nw\">2월 2일</th>,\n",
       " <th class=\"nw\">2월 14일</th>,\n",
       " <th class=\"nw\">3월 1일</th>,\n",
       " <th class=\"nw\">3월 9일</th>,\n",
       " <th class=\"nw\">3월 21일</th>,\n",
       " <th class=\"nw\">4월 5일</th>,\n",
       " <th class=\"nw\">5월 1일</th>,\n",
       " <th class=\"nw\">5월 5일</th>,\n",
       " <th class=\"nw\">5월 8일</th>,\n",
       " <th class=\"nw\">5월 8일</th>,\n",
       " <th class=\"nw\">5월 15일</th>,\n",
       " <th class=\"nw\">6월 1일</th>,\n",
       " <th class=\"nw\">6월 6일</th>,\n",
       " <th class=\"nw\">6월 21일</th>,\n",
       " <th class=\"nw\">7월 17일</th>,\n",
       " <th class=\"nw\">8월 15일</th>,\n",
       " <th class=\"nw\">9월 9일</th>,\n",
       " <th class=\"nw\">9월 10일</th>,\n",
       " <th class=\"nw\">9월 11일</th>,\n",
       " <th class=\"nw\">9월 23일</th>,\n",
       " <th class=\"nw\">10월 1일</th>,\n",
       " <th class=\"nw\">10월 3일</th>,\n",
       " <th class=\"nw\">10월 9일</th>,\n",
       " <th class=\"nw\">10월 31일</th>,\n",
       " <th class=\"nw\">12월 22일</th>,\n",
       " <th class=\"nw\">12월 24일</th>,\n",
       " <th class=\"nw\">12월 25일</th>]"
      ]
     },
     "execution_count": 51,
     "metadata": {},
     "output_type": "execute_result"
    }
   ],
   "source": [
    "holiDate"
   ]
  },
  {
   "cell_type": "code",
   "execution_count": null,
   "id": "d85256a8-8ce6-4a62-8250-0aba8db3c09a",
   "metadata": {},
   "outputs": [],
   "source": []
  },
  {
   "cell_type": "code",
   "execution_count": 16,
   "id": "5c39dcc0-e63b-4d95-90af-160ec3153a07",
   "metadata": {},
   "outputs": [
    {
     "data": {
      "text/plain": [
       "43"
      ]
     },
     "execution_count": 16,
     "metadata": {},
     "output_type": "execute_result"
    }
   ],
   "source": [
    "nameList = []\n",
    "linkList = []\n",
    "\n",
    "trTagsLen = len(trTags)\n",
    "trTagsLen"
   ]
  },
  {
   "cell_type": "code",
   "execution_count": null,
   "id": "83da338b-9dbd-4cb8-9a4c-9c80df67cce1",
   "metadata": {},
   "outputs": [],
   "source": []
  },
  {
   "cell_type": "code",
   "execution_count": null,
   "id": "c3edfa41-599b-4cdb-8de3-cb8bab31ae21",
   "metadata": {},
   "outputs": [],
   "source": []
  },
  {
   "cell_type": "code",
   "execution_count": null,
   "id": "ac69a0fc-0c8b-4cea-8966-8b4d1cc15854",
   "metadata": {},
   "outputs": [],
   "source": []
  },
  {
   "cell_type": "code",
   "execution_count": 8,
   "id": "6dfd1ecb-808d-41bd-98ee-ae67c2665d60",
   "metadata": {},
   "outputs": [],
   "source": [
    "for i in range (0, trTagsLen):\n",
    "    if\n",
    "    \n",
    "    #태그 텍스트 찾기\n",
    "    tagTextName = aTags[i].text \n",
    "    #속성 찾기\n",
    "    if aTags[i].attrs[\"href\"][0] == \"#\":\n",
    "        tagLinkInfo = targetUrl + aTags[i].attrs[\"href\"]\n",
    "    else:\n",
    "        tagLinkInfo = aTags[i].attrs[\"href\"]\n",
    "    #태그명 찾기\n",
    "    tagNameInfo = aTags[i].name\n",
    "    nameList.append(tagTextName)\n",
    "    linkList.append(tagLinkInfo)\n",
    "    \n",
    "# 구한 값들을 zip 함수로 합치기\n",
    "df2 = pd.DataFrame( zip( nameList, linkList) , columns = [\"name\",\"link\"] )"
   ]
  },
  {
   "cell_type": "code",
   "execution_count": 8,
   "id": "56974fcb-5b5a-40c3-9d49-8f682f743361",
   "metadata": {},
   "outputs": [],
   "source": [
    "# csv 파일로 저장하기\n",
    "df2.to_csv(\"./practice3.csv\",index=False)"
   ]
  },
  {
   "cell_type": "code",
   "execution_count": null,
   "id": "52dc5c43-e0e7-496a-abe8-9fc6a79a6621",
   "metadata": {},
   "outputs": [],
   "source": []
  }
 ],
 "metadata": {
  "kernelspec": {
   "display_name": "Python 3 (ipykernel)",
   "language": "python",
   "name": "python3"
  },
  "language_info": {
   "codemirror_mode": {
    "name": "ipython",
    "version": 3
   },
   "file_extension": ".py",
   "mimetype": "text/x-python",
   "name": "python",
   "nbconvert_exporter": "python",
   "pygments_lexer": "ipython3",
   "version": "3.9.7"
  }
 },
 "nbformat": 4,
 "nbformat_minor": 5
}

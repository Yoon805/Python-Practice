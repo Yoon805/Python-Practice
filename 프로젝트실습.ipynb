{
 "cells": [
  {
   "cell_type": "markdown",
   "id": "07f6de03-4f2c-464a-9f10-01a33ae6cd36",
   "metadata": {},
   "source": [
    "### 프로젝트 실습"
   ]
  },
  {
   "cell_type": "markdown",
   "id": "a297fc9a-c8db-48e0-8dce-77958f452add",
   "metadata": {},
   "source": [
    "## A. 데이터 전처리"
   ]
  },
  {
   "cell_type": "markdown",
   "id": "e3f6387c-df8b-470f-b039-da600f859dad",
   "metadata": {},
   "source": [
    "### A-1. 타입 통합 & 불량 데이터 처리"
   ]
  },
  {
   "cell_type": "markdown",
   "id": "9ff0ea77-5f60-4773-b23e-3bff5702236e",
   "metadata": {},
   "source": [
    "#### A-1-1. {데이터타입 통합}"
   ]
  },
  {
   "cell_type": "markdown",
   "id": "e947e2ab-a656-493f-b592-af59bcccf21c",
   "metadata": {},
   "source": [
    "kopo_channel_seasonality_new.csv 파일을 불러온 후 selloutData 변수에 담으세요.\n",
    "이후 QTY 컬럼 → 실수 (float), 이외컬럼 → 문자(str)로 변경하세요"
   ]
  },
  {
   "cell_type": "code",
   "execution_count": 1,
   "id": "8a92d5d4-7cb8-42d4-a279-3bbc3cb183c3",
   "metadata": {},
   "outputs": [],
   "source": [
    "### 라이브러리 선언\n",
    "import pandas as pd"
   ]
  },
  {
   "cell_type": "code",
   "execution_count": 2,
   "id": "7c0ec7d5-e9f5-4334-a880-552c770366c7",
   "metadata": {},
   "outputs": [],
   "source": [
    "### 파일 불러오기\n",
    "selloutData = \\\n",
    "pd.read_csv(\"../dataset/kopo_channel_seasonality_new.csv\")"
   ]
  },
  {
   "cell_type": "code",
   "execution_count": 3,
   "id": "6e1cdf71-20ca-4b0c-b8d2-0921c6f9b743",
   "metadata": {
    "scrolled": true,
    "tags": []
   },
   "outputs": [
    {
     "data": {
      "text/html": [
       "<div>\n",
       "<style scoped>\n",
       "    .dataframe tbody tr th:only-of-type {\n",
       "        vertical-align: middle;\n",
       "    }\n",
       "\n",
       "    .dataframe tbody tr th {\n",
       "        vertical-align: top;\n",
       "    }\n",
       "\n",
       "    .dataframe thead th {\n",
       "        text-align: right;\n",
       "    }\n",
       "</style>\n",
       "<table border=\"1\" class=\"dataframe\">\n",
       "  <thead>\n",
       "    <tr style=\"text-align: right;\">\n",
       "      <th></th>\n",
       "      <th>REGIONID</th>\n",
       "      <th>PRODUCT</th>\n",
       "      <th>YEARWEEK</th>\n",
       "      <th>QTY</th>\n",
       "    </tr>\n",
       "  </thead>\n",
       "  <tbody>\n",
       "    <tr>\n",
       "      <th>0</th>\n",
       "      <td>A60</td>\n",
       "      <td>PRODUCT4</td>\n",
       "      <td>201402</td>\n",
       "      <td>71.0</td>\n",
       "    </tr>\n",
       "    <tr>\n",
       "      <th>1</th>\n",
       "      <td>A60</td>\n",
       "      <td>PRODUCT59</td>\n",
       "      <td>201402</td>\n",
       "      <td>22275.0</td>\n",
       "    </tr>\n",
       "    <tr>\n",
       "      <th>2</th>\n",
       "      <td>A60</td>\n",
       "      <td>PRODUCT34</td>\n",
       "      <td>201402</td>\n",
       "      <td>4463.0</td>\n",
       "    </tr>\n",
       "    <tr>\n",
       "      <th>3</th>\n",
       "      <td>A60</td>\n",
       "      <td>PRODUCT47</td>\n",
       "      <td>201402</td>\n",
       "      <td>0.0</td>\n",
       "    </tr>\n",
       "    <tr>\n",
       "      <th>4</th>\n",
       "      <td>A60</td>\n",
       "      <td>PRODUCT56</td>\n",
       "      <td>201402</td>\n",
       "      <td>23.0</td>\n",
       "    </tr>\n",
       "    <tr>\n",
       "      <th>...</th>\n",
       "      <td>...</td>\n",
       "      <td>...</td>\n",
       "      <td>...</td>\n",
       "      <td>...</td>\n",
       "    </tr>\n",
       "    <tr>\n",
       "      <th>124653</th>\n",
       "      <td>A10</td>\n",
       "      <td>PRODUCT60</td>\n",
       "      <td>201630</td>\n",
       "      <td>824.0</td>\n",
       "    </tr>\n",
       "    <tr>\n",
       "      <th>124654</th>\n",
       "      <td>A10</td>\n",
       "      <td>PRODUCT56</td>\n",
       "      <td>201630</td>\n",
       "      <td>275.0</td>\n",
       "    </tr>\n",
       "    <tr>\n",
       "      <th>124655</th>\n",
       "      <td>A10</td>\n",
       "      <td>PRODUCT61</td>\n",
       "      <td>201630</td>\n",
       "      <td>0.0</td>\n",
       "    </tr>\n",
       "    <tr>\n",
       "      <th>124656</th>\n",
       "      <td>A10</td>\n",
       "      <td>PRODUCT12</td>\n",
       "      <td>201630</td>\n",
       "      <td>15021.0</td>\n",
       "    </tr>\n",
       "    <tr>\n",
       "      <th>124657</th>\n",
       "      <td>A10</td>\n",
       "      <td>PRODUCT1</td>\n",
       "      <td>201630</td>\n",
       "      <td>568.0</td>\n",
       "    </tr>\n",
       "  </tbody>\n",
       "</table>\n",
       "<p>124658 rows × 4 columns</p>\n",
       "</div>"
      ],
      "text/plain": [
       "       REGIONID    PRODUCT  YEARWEEK      QTY\n",
       "0           A60   PRODUCT4    201402     71.0\n",
       "1           A60  PRODUCT59    201402  22275.0\n",
       "2           A60  PRODUCT34    201402   4463.0\n",
       "3           A60  PRODUCT47    201402      0.0\n",
       "4           A60  PRODUCT56    201402     23.0\n",
       "...         ...        ...       ...      ...\n",
       "124653      A10  PRODUCT60    201630    824.0\n",
       "124654      A10  PRODUCT56    201630    275.0\n",
       "124655      A10  PRODUCT61    201630      0.0\n",
       "124656      A10  PRODUCT12    201630  15021.0\n",
       "124657      A10   PRODUCT1    201630    568.0\n",
       "\n",
       "[124658 rows x 4 columns]"
      ]
     },
     "execution_count": 3,
     "metadata": {},
     "output_type": "execute_result"
    }
   ],
   "source": [
    "selloutData"
   ]
  },
  {
   "cell_type": "code",
   "execution_count": 4,
   "id": "ce31a15e-9d0e-4071-8d2f-2c7b67c57c5f",
   "metadata": {},
   "outputs": [
    {
     "data": {
      "text/plain": [
       "REGIONID     object\n",
       "PRODUCT      object\n",
       "YEARWEEK      int64\n",
       "QTY         float64\n",
       "dtype: object"
      ]
     },
     "execution_count": 4,
     "metadata": {},
     "output_type": "execute_result"
    }
   ],
   "source": [
    "### 데이터 타입 확인\n",
    "selloutData.dtypes"
   ]
  },
  {
   "cell_type": "code",
   "execution_count": 5,
   "id": "b48a3b50-0e9b-4a79-81b6-78c460ffda13",
   "metadata": {},
   "outputs": [],
   "source": [
    "### 데이터 타입 변경\n",
    "selloutData = selloutData.astype({\"REGIONID\":str, \"PRODUCT\":str, \"YEARWEEK\":str, \"QTY\":float})"
   ]
  },
  {
   "cell_type": "code",
   "execution_count": 23,
   "id": "bbc20c95-8c06-49d9-a7dc-c4d90a8d7179",
   "metadata": {},
   "outputs": [
    {
     "data": {
      "text/plain": [
       "REGIONID     object\n",
       "PRODUCT      object\n",
       "YEARWEEK     object\n",
       "QTY         float64\n",
       "QTY_NEW     float64\n",
       "YEAR         object\n",
       "WEEK         object\n",
       "dtype: object"
      ]
     },
     "execution_count": 23,
     "metadata": {},
     "output_type": "execute_result"
    }
   ],
   "source": [
    "### 데이터 타입 변경 검증\n",
    "selloutData.dtypes"
   ]
  },
  {
   "cell_type": "markdown",
   "id": "8f53eb01-4f46-46db-85f9-628b4d941bb5",
   "metadata": {},
   "source": [
    "####  A-1-2. {불량 데이터 처리}"
   ]
  },
  {
   "cell_type": "markdown",
   "id": "bda87c61-9f79-4d48-bc6f-f3c75235e52b",
   "metadata": {},
   "source": [
    "kopo_channel_seasonality_new.csv\n",
    "자료를 담은\n",
    "selloutData\n",
    "변수에서\n",
    "QTY\n",
    "컬럼 음수(반품)인 경우 0, 양수인 경우 기존 QTY 값\n",
    "유지하는 로직을 적용하여 QTY_NEW 컬럼을 추가하세요"
   ]
  },
  {
   "cell_type": "code",
   "execution_count": 7,
   "id": "0292f53a-6289-49cf-97a5-15aab82bde43",
   "metadata": {},
   "outputs": [],
   "source": [
    "### 불량 데이터 처리 방법 3가지\n",
    "## 1. np.where 조건 사용 \n",
    "import numpy as np\n",
    "\n",
    "selloutData[\"QTY_NEW\"] = \\\n",
    "np.where(selloutData.QTY < 0,\n",
    "         0,\n",
    "         selloutData.QTY)"
   ]
  },
  {
   "cell_type": "code",
   "execution_count": 8,
   "id": "ee99df76-3f16-447f-bb34-2f86a33b2026",
   "metadata": {},
   "outputs": [],
   "source": [
    "## 2. loc 사용\n",
    "selloutData.loc[selloutData.QTY < 0, \"QTY_NEW\"] = 0\n",
    "selloutData.loc[selloutData.QTY >= 0, \"QTY_NEW\"] = selloutData.QTY"
   ]
  },
  {
   "cell_type": "code",
   "execution_count": 9,
   "id": "b35c8d31-db13-4ce5-8859-c6fc55fa8907",
   "metadata": {},
   "outputs": [],
   "source": [
    "## 3. 함수 사용\n",
    "def CleanQTY(inQTY) : \n",
    "    # inQTY = 3.4\n",
    "    outQTY = 0\n",
    "\n",
    "    if inQTY < 0 :\n",
    "        outQTY = 0\n",
    "    else :\n",
    "        outQTY = inQTY\n",
    "    return outQTY"
   ]
  },
  {
   "cell_type": "code",
   "execution_count": 10,
   "id": "a51942a2-cba2-4b4a-adae-e04b40579fd3",
   "metadata": {},
   "outputs": [],
   "source": [
    "selloutData[\"QTY_NEW\"] = \\\n",
    "    selloutData.QTY.apply(CleanQTY)"
   ]
  },
  {
   "cell_type": "code",
   "execution_count": 22,
   "id": "65ad8260-1b2e-4d91-8150-f38eadc38ccf",
   "metadata": {},
   "outputs": [
    {
     "data": {
      "text/plain": [
       "REGIONID    0\n",
       "PRODUCT     0\n",
       "YEARWEEK    0\n",
       "QTY         0\n",
       "QTY_NEW     0\n",
       "YEAR        0\n",
       "WEEK        0\n",
       "dtype: int64"
      ]
     },
     "execution_count": 22,
     "metadata": {},
     "output_type": "execute_result"
    }
   ],
   "source": [
    "### 데이터 검증\n",
    "selloutData.loc[(selloutData.QTY < 0) & (selloutData.QTY_NEW != 0)].count()"
   ]
  },
  {
   "cell_type": "markdown",
   "id": "e8a7b910-4dd6-40cd-a08a-704459fbf80a",
   "metadata": {
    "tags": []
   },
   "source": [
    "### A-2. 데이터 통합"
   ]
  },
  {
   "cell_type": "markdown",
   "id": "b688283b-df82-44fa-b9d6-5dd07704f859",
   "metadata": {},
   "source": [
    "selloutData\n",
    "자료에서\n",
    "YEAR, WEEK\n",
    "컬럼을 생성하고 WEEK 가 52 이하인\n",
    "데이터만\n",
    "조회한 후 refinedSelloutData 변수에 담으세요"
   ]
  },
  {
   "cell_type": "code",
   "execution_count": 8,
   "id": "9220db52-1c33-41a0-b20d-56ac55b89ada",
   "metadata": {},
   "outputs": [],
   "source": [
    "### YEAR, WEEK 컬럼 생성하기\n",
    "selloutData[\"YEAR\"] = selloutData.YEARWEEK.str[:4]\n",
    "selloutData[\"WEEK\"] = selloutData.YEARWEEK.str[4:]"
   ]
  },
  {
   "cell_type": "code",
   "execution_count": 15,
   "id": "5bfc7368-b55c-4973-b791-c58b555fae09",
   "metadata": {},
   "outputs": [],
   "source": [
    "### WEEK 컬럼을 str로 비교...? (가능한건지 모르겠음... 값은 같음)\n",
    "refinedSelloutData = selloutData.loc[selloutData.WEEK <= \"52\"]"
   ]
  },
  {
   "cell_type": "code",
   "execution_count": 13,
   "id": "bc919ddc-f3bd-4384-9e7e-061c604231a5",
   "metadata": {},
   "outputs": [],
   "source": [
    "### WEEK 컬럼 int로 변환하여 조건 걸기\n",
    "refinedSelloutData = selloutData.loc[selloutData.WEEK.astype(int) <= 52]"
   ]
  },
  {
   "cell_type": "code",
   "execution_count": 16,
   "id": "8e7f3baf-ba5c-4dd5-8a93-9df6c50712dc",
   "metadata": {},
   "outputs": [
    {
     "data": {
      "text/html": [
       "<div>\n",
       "<style scoped>\n",
       "    .dataframe tbody tr th:only-of-type {\n",
       "        vertical-align: middle;\n",
       "    }\n",
       "\n",
       "    .dataframe tbody tr th {\n",
       "        vertical-align: top;\n",
       "    }\n",
       "\n",
       "    .dataframe thead th {\n",
       "        text-align: right;\n",
       "    }\n",
       "</style>\n",
       "<table border=\"1\" class=\"dataframe\">\n",
       "  <thead>\n",
       "    <tr style=\"text-align: right;\">\n",
       "      <th></th>\n",
       "      <th>REGIONID</th>\n",
       "      <th>PRODUCT</th>\n",
       "      <th>YEARWEEK</th>\n",
       "      <th>QTY</th>\n",
       "      <th>QTY_NEW</th>\n",
       "      <th>YEAR</th>\n",
       "      <th>WEEK</th>\n",
       "    </tr>\n",
       "  </thead>\n",
       "  <tbody>\n",
       "    <tr>\n",
       "      <th>0</th>\n",
       "      <td>A60</td>\n",
       "      <td>PRODUCT4</td>\n",
       "      <td>201402</td>\n",
       "      <td>71.0</td>\n",
       "      <td>71.0</td>\n",
       "      <td>2014</td>\n",
       "      <td>02</td>\n",
       "    </tr>\n",
       "    <tr>\n",
       "      <th>1</th>\n",
       "      <td>A60</td>\n",
       "      <td>PRODUCT59</td>\n",
       "      <td>201402</td>\n",
       "      <td>22275.0</td>\n",
       "      <td>22275.0</td>\n",
       "      <td>2014</td>\n",
       "      <td>02</td>\n",
       "    </tr>\n",
       "    <tr>\n",
       "      <th>2</th>\n",
       "      <td>A60</td>\n",
       "      <td>PRODUCT34</td>\n",
       "      <td>201402</td>\n",
       "      <td>4463.0</td>\n",
       "      <td>4463.0</td>\n",
       "      <td>2014</td>\n",
       "      <td>02</td>\n",
       "    </tr>\n",
       "    <tr>\n",
       "      <th>3</th>\n",
       "      <td>A60</td>\n",
       "      <td>PRODUCT47</td>\n",
       "      <td>201402</td>\n",
       "      <td>0.0</td>\n",
       "      <td>0.0</td>\n",
       "      <td>2014</td>\n",
       "      <td>02</td>\n",
       "    </tr>\n",
       "    <tr>\n",
       "      <th>4</th>\n",
       "      <td>A60</td>\n",
       "      <td>PRODUCT56</td>\n",
       "      <td>201402</td>\n",
       "      <td>23.0</td>\n",
       "      <td>23.0</td>\n",
       "      <td>2014</td>\n",
       "      <td>02</td>\n",
       "    </tr>\n",
       "    <tr>\n",
       "      <th>...</th>\n",
       "      <td>...</td>\n",
       "      <td>...</td>\n",
       "      <td>...</td>\n",
       "      <td>...</td>\n",
       "      <td>...</td>\n",
       "      <td>...</td>\n",
       "      <td>...</td>\n",
       "    </tr>\n",
       "    <tr>\n",
       "      <th>124653</th>\n",
       "      <td>A10</td>\n",
       "      <td>PRODUCT60</td>\n",
       "      <td>201630</td>\n",
       "      <td>824.0</td>\n",
       "      <td>824.0</td>\n",
       "      <td>2016</td>\n",
       "      <td>30</td>\n",
       "    </tr>\n",
       "    <tr>\n",
       "      <th>124654</th>\n",
       "      <td>A10</td>\n",
       "      <td>PRODUCT56</td>\n",
       "      <td>201630</td>\n",
       "      <td>275.0</td>\n",
       "      <td>275.0</td>\n",
       "      <td>2016</td>\n",
       "      <td>30</td>\n",
       "    </tr>\n",
       "    <tr>\n",
       "      <th>124655</th>\n",
       "      <td>A10</td>\n",
       "      <td>PRODUCT61</td>\n",
       "      <td>201630</td>\n",
       "      <td>0.0</td>\n",
       "      <td>0.0</td>\n",
       "      <td>2016</td>\n",
       "      <td>30</td>\n",
       "    </tr>\n",
       "    <tr>\n",
       "      <th>124656</th>\n",
       "      <td>A10</td>\n",
       "      <td>PRODUCT12</td>\n",
       "      <td>201630</td>\n",
       "      <td>15021.0</td>\n",
       "      <td>15021.0</td>\n",
       "      <td>2016</td>\n",
       "      <td>30</td>\n",
       "    </tr>\n",
       "    <tr>\n",
       "      <th>124657</th>\n",
       "      <td>A10</td>\n",
       "      <td>PRODUCT1</td>\n",
       "      <td>201630</td>\n",
       "      <td>568.0</td>\n",
       "      <td>568.0</td>\n",
       "      <td>2016</td>\n",
       "      <td>30</td>\n",
       "    </tr>\n",
       "  </tbody>\n",
       "</table>\n",
       "<p>123864 rows × 7 columns</p>\n",
       "</div>"
      ],
      "text/plain": [
       "       REGIONID    PRODUCT YEARWEEK      QTY  QTY_NEW  YEAR WEEK\n",
       "0           A60   PRODUCT4   201402     71.0     71.0  2014   02\n",
       "1           A60  PRODUCT59   201402  22275.0  22275.0  2014   02\n",
       "2           A60  PRODUCT34   201402   4463.0   4463.0  2014   02\n",
       "3           A60  PRODUCT47   201402      0.0      0.0  2014   02\n",
       "4           A60  PRODUCT56   201402     23.0     23.0  2014   02\n",
       "...         ...        ...      ...      ...      ...   ...  ...\n",
       "124653      A10  PRODUCT60   201630    824.0    824.0  2016   30\n",
       "124654      A10  PRODUCT56   201630    275.0    275.0  2016   30\n",
       "124655      A10  PRODUCT61   201630      0.0      0.0  2016   30\n",
       "124656      A10  PRODUCT12   201630  15021.0  15021.0  2016   30\n",
       "124657      A10   PRODUCT1   201630    568.0    568.0  2016   30\n",
       "\n",
       "[123864 rows x 7 columns]"
      ]
     },
     "execution_count": 16,
     "metadata": {},
     "output_type": "execute_result"
    }
   ],
   "source": [
    "refinedSelloutData"
   ]
  },
  {
   "cell_type": "code",
   "execution_count": 24,
   "id": "0df0fb22-1ef5-46fb-9987-ccda76696f2d",
   "metadata": {},
   "outputs": [
    {
     "data": {
      "text/plain": [
       "REGIONID    0\n",
       "PRODUCT     0\n",
       "YEARWEEK    0\n",
       "QTY         0\n",
       "QTY_NEW     0\n",
       "YEAR        0\n",
       "WEEK        0\n",
       "dtype: int64"
      ]
     },
     "execution_count": 24,
     "metadata": {},
     "output_type": "execute_result"
    }
   ],
   "source": [
    "### 데이터 검증\n",
    "refinedSelloutData.loc[selloutData.WEEK.astype(int) > 52].count()"
   ]
  },
  {
   "cell_type": "code",
   "execution_count": null,
   "id": "0bb252fb-059b-417c-9218-b19b5f8797b7",
   "metadata": {},
   "outputs": [],
   "source": []
  }
 ],
 "metadata": {
  "kernelspec": {
   "display_name": "Python 3 (ipykernel)",
   "language": "python",
   "name": "python3"
  },
  "language_info": {
   "codemirror_mode": {
    "name": "ipython",
    "version": 3
   },
   "file_extension": ".py",
   "mimetype": "text/x-python",
   "name": "python",
   "nbconvert_exporter": "python",
   "pygments_lexer": "ipython3",
   "version": "3.9.7"
  }
 },
 "nbformat": 4,
 "nbformat_minor": 5
}
